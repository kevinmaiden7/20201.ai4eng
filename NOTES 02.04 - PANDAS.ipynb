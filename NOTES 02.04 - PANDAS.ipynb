{
 "cells": [
  {
   "cell_type": "code",
   "execution_count": 1,
   "metadata": {},
   "outputs": [
    {
     "name": "stdout",
     "output_type": "stream",
     "text": [
      "endpoint https://m5knaekxo6.execute-api.us-west-2.amazonaws.com/dev-v0001/rlxmooc\n"
     ]
    },
    {
     "data": {
      "text/html": [
       "<h3>See <a href='https://m5knaekxo6.execute-api.us-west-2.amazonaws.com/dev-v0001/rlxmooc/web/login' target='_blank'>my courses and progress</a></h2>"
      ],
      "text/plain": [
       "<IPython.core.display.HTML object>"
      ]
     },
     "execution_count": 1,
     "metadata": {},
     "output_type": "execute_result"
    }
   ],
   "source": [
    "#!wget --no-cache -O init.py -q https://raw.githubusercontent.com/rramosp/20201.ai4eng/master/init.py\n",
    "import init; init.init(force_download=False); init.get_weblink()"
   ]
  },
  {
   "cell_type": "code",
   "execution_count": 2,
   "metadata": {},
   "outputs": [],
   "source": [
    "import numpy as np\n",
    "import pandas as pd\n",
    "import matplotlib.pyplot as plt\n",
    "%matplotlib inline"
   ]
  },
  {
   "cell_type": "markdown",
   "metadata": {},
   "source": [
    "# `pandas` is mostly about manipulating tables of data\n",
    "\n",
    "see this cheat sheet: https://pandas.pydata.org/Pandas_Cheat_Sheet.pdf\n"
   ]
  },
  {
   "cell_type": "markdown",
   "metadata": {},
   "source": [
    "## Pandas main object is a `DataFrame`\n",
    "\n",
    "- can read .csv, .excel, etc.\n"
   ]
  },
  {
   "cell_type": "code",
   "execution_count": 238,
   "metadata": {},
   "outputs": [],
   "source": [
    "!head local/data/internet_facebook.dat"
   ]
  },
  {
   "cell_type": "code",
   "execution_count": 239,
   "metadata": {},
   "outputs": [],
   "source": [
    "!wc local/data/weather_data_austin_2010.csv"
   ]
  },
  {
   "cell_type": "code",
   "execution_count": 3,
   "metadata": {},
   "outputs": [
    {
     "data": {
      "text/html": [
       "<div>\n",
       "<style scoped>\n",
       "    .dataframe tbody tr th:only-of-type {\n",
       "        vertical-align: middle;\n",
       "    }\n",
       "\n",
       "    .dataframe tbody tr th {\n",
       "        vertical-align: top;\n",
       "    }\n",
       "\n",
       "    .dataframe thead th {\n",
       "        text-align: right;\n",
       "    }\n",
       "</style>\n",
       "<table border=\"1\" class=\"dataframe\">\n",
       "  <thead>\n",
       "    <tr style=\"text-align: right;\">\n",
       "      <th></th>\n",
       "      <th>Uso_Internet</th>\n",
       "      <th>Uso_Facebook</th>\n",
       "    </tr>\n",
       "    <tr>\n",
       "      <th># Pais</th>\n",
       "      <th></th>\n",
       "      <th></th>\n",
       "    </tr>\n",
       "  </thead>\n",
       "  <tbody>\n",
       "    <tr>\n",
       "      <td>Argentina</td>\n",
       "      <td>49.40</td>\n",
       "      <td>30.53</td>\n",
       "    </tr>\n",
       "    <tr>\n",
       "      <td>Australia</td>\n",
       "      <td>80.60</td>\n",
       "      <td>46.01</td>\n",
       "    </tr>\n",
       "    <tr>\n",
       "      <td>Belgium</td>\n",
       "      <td>67.30</td>\n",
       "      <td>36.98</td>\n",
       "    </tr>\n",
       "    <tr>\n",
       "      <td>Brazil</td>\n",
       "      <td>37.76</td>\n",
       "      <td>4.39</td>\n",
       "    </tr>\n",
       "    <tr>\n",
       "      <td>Canada</td>\n",
       "      <td>72.30</td>\n",
       "      <td>52.08</td>\n",
       "    </tr>\n",
       "    <tr>\n",
       "      <td>Chile</td>\n",
       "      <td>50.90</td>\n",
       "      <td>46.14</td>\n",
       "    </tr>\n",
       "    <tr>\n",
       "      <td>China</td>\n",
       "      <td>22.40</td>\n",
       "      <td>0.05</td>\n",
       "    </tr>\n",
       "    <tr>\n",
       "      <td>Colombia</td>\n",
       "      <td>38.80</td>\n",
       "      <td>25.90</td>\n",
       "    </tr>\n",
       "    <tr>\n",
       "      <td>Egypt</td>\n",
       "      <td>12.90</td>\n",
       "      <td>5.68</td>\n",
       "    </tr>\n",
       "    <tr>\n",
       "      <td>France</td>\n",
       "      <td>65.70</td>\n",
       "      <td>32.91</td>\n",
       "    </tr>\n",
       "    <tr>\n",
       "      <td>Germany</td>\n",
       "      <td>67.00</td>\n",
       "      <td>14.07</td>\n",
       "    </tr>\n",
       "    <tr>\n",
       "      <td>Hong_Kong</td>\n",
       "      <td>69.50</td>\n",
       "      <td>52.33</td>\n",
       "    </tr>\n",
       "    <tr>\n",
       "      <td>India</td>\n",
       "      <td>7.10</td>\n",
       "      <td>1.52</td>\n",
       "    </tr>\n",
       "    <tr>\n",
       "      <td>Indonesia</td>\n",
       "      <td>10.50</td>\n",
       "      <td>13.49</td>\n",
       "    </tr>\n",
       "    <tr>\n",
       "      <td>Italy</td>\n",
       "      <td>48.80</td>\n",
       "      <td>30.62</td>\n",
       "    </tr>\n",
       "    <tr>\n",
       "      <td>Japan</td>\n",
       "      <td>73.80</td>\n",
       "      <td>2.00</td>\n",
       "    </tr>\n",
       "    <tr>\n",
       "      <td>Malaysia</td>\n",
       "      <td>62.80</td>\n",
       "      <td>37.77</td>\n",
       "    </tr>\n",
       "    <tr>\n",
       "      <td>Mexico</td>\n",
       "      <td>24.90</td>\n",
       "      <td>16.80</td>\n",
       "    </tr>\n",
       "    <tr>\n",
       "      <td>Netherlands</td>\n",
       "      <td>82.90</td>\n",
       "      <td>20.54</td>\n",
       "    </tr>\n",
       "    <tr>\n",
       "      <td>Peru</td>\n",
       "      <td>26.20</td>\n",
       "      <td>13.34</td>\n",
       "    </tr>\n",
       "    <tr>\n",
       "      <td>Philippines</td>\n",
       "      <td>21.50</td>\n",
       "      <td>19.68</td>\n",
       "    </tr>\n",
       "    <tr>\n",
       "      <td>Poland</td>\n",
       "      <td>52.00</td>\n",
       "      <td>11.79</td>\n",
       "    </tr>\n",
       "    <tr>\n",
       "      <td>Russia</td>\n",
       "      <td>27.00</td>\n",
       "      <td>2.99</td>\n",
       "    </tr>\n",
       "    <tr>\n",
       "      <td>Saudi_Arabia</td>\n",
       "      <td>22.70</td>\n",
       "      <td>11.65</td>\n",
       "    </tr>\n",
       "    <tr>\n",
       "      <td>South_Africa</td>\n",
       "      <td>10.50</td>\n",
       "      <td>7.83</td>\n",
       "    </tr>\n",
       "    <tr>\n",
       "      <td>Spain</td>\n",
       "      <td>66.80</td>\n",
       "      <td>30.24</td>\n",
       "    </tr>\n",
       "    <tr>\n",
       "      <td>Sweden</td>\n",
       "      <td>80.70</td>\n",
       "      <td>44.72</td>\n",
       "    </tr>\n",
       "    <tr>\n",
       "      <td>Taiwan</td>\n",
       "      <td>66.10</td>\n",
       "      <td>38.21</td>\n",
       "    </tr>\n",
       "    <tr>\n",
       "      <td>Thailand</td>\n",
       "      <td>20.50</td>\n",
       "      <td>10.29</td>\n",
       "    </tr>\n",
       "    <tr>\n",
       "      <td>Turkey</td>\n",
       "      <td>35.00</td>\n",
       "      <td>31.91</td>\n",
       "    </tr>\n",
       "    <tr>\n",
       "      <td>USA</td>\n",
       "      <td>77.33</td>\n",
       "      <td>46.98</td>\n",
       "    </tr>\n",
       "    <tr>\n",
       "      <td>UK</td>\n",
       "      <td>70.18</td>\n",
       "      <td>45.97</td>\n",
       "    </tr>\n",
       "    <tr>\n",
       "      <td>Venezuela</td>\n",
       "      <td>25.50</td>\n",
       "      <td>28.64</td>\n",
       "    </tr>\n",
       "  </tbody>\n",
       "</table>\n",
       "</div>"
      ],
      "text/plain": [
       "              Uso_Internet  Uso_Facebook\n",
       "# Pais                                  \n",
       "Argentina            49.40         30.53\n",
       "Australia            80.60         46.01\n",
       "Belgium              67.30         36.98\n",
       "Brazil               37.76          4.39\n",
       "Canada               72.30         52.08\n",
       "Chile                50.90         46.14\n",
       "China                22.40          0.05\n",
       "Colombia             38.80         25.90\n",
       "Egypt                12.90          5.68\n",
       "France               65.70         32.91\n",
       "Germany              67.00         14.07\n",
       "Hong_Kong            69.50         52.33\n",
       "India                 7.10          1.52\n",
       "Indonesia            10.50         13.49\n",
       "Italy                48.80         30.62\n",
       "Japan                73.80          2.00\n",
       "Malaysia             62.80         37.77\n",
       "Mexico               24.90         16.80\n",
       "Netherlands          82.90         20.54\n",
       "Peru                 26.20         13.34\n",
       "Philippines          21.50         19.68\n",
       "Poland               52.00         11.79\n",
       "Russia               27.00          2.99\n",
       "Saudi_Arabia         22.70         11.65\n",
       "South_Africa         10.50          7.83\n",
       "Spain                66.80         30.24\n",
       "Sweden               80.70         44.72\n",
       "Taiwan               66.10         38.21\n",
       "Thailand             20.50         10.29\n",
       "Turkey               35.00         31.91\n",
       "USA                  77.33         46.98\n",
       "UK                   70.18         45.97\n",
       "Venezuela            25.50         28.64"
      ]
     },
     "execution_count": 3,
     "metadata": {},
     "output_type": "execute_result"
    }
   ],
   "source": [
    "df = pd.read_csv('local/data/internet_facebook.dat', index_col='# Pais')\n",
    "df"
   ]
  },
  {
   "cell_type": "code",
   "execution_count": 4,
   "metadata": {},
   "outputs": [
    {
     "data": {
      "text/html": [
       "<div>\n",
       "<style scoped>\n",
       "    .dataframe tbody tr th:only-of-type {\n",
       "        vertical-align: middle;\n",
       "    }\n",
       "\n",
       "    .dataframe tbody tr th {\n",
       "        vertical-align: top;\n",
       "    }\n",
       "\n",
       "    .dataframe thead th {\n",
       "        text-align: right;\n",
       "    }\n",
       "</style>\n",
       "<table border=\"1\" class=\"dataframe\">\n",
       "  <thead>\n",
       "    <tr style=\"text-align: right;\">\n",
       "      <th></th>\n",
       "      <th>Uso_Internet</th>\n",
       "      <th>Uso_Facebook</th>\n",
       "    </tr>\n",
       "    <tr>\n",
       "      <th># Pais</th>\n",
       "      <th></th>\n",
       "      <th></th>\n",
       "    </tr>\n",
       "  </thead>\n",
       "  <tbody>\n",
       "    <tr>\n",
       "      <td>Argentina</td>\n",
       "      <td>49.40</td>\n",
       "      <td>30.53</td>\n",
       "    </tr>\n",
       "    <tr>\n",
       "      <td>Australia</td>\n",
       "      <td>80.60</td>\n",
       "      <td>46.01</td>\n",
       "    </tr>\n",
       "    <tr>\n",
       "      <td>Belgium</td>\n",
       "      <td>67.30</td>\n",
       "      <td>36.98</td>\n",
       "    </tr>\n",
       "    <tr>\n",
       "      <td>Brazil</td>\n",
       "      <td>37.76</td>\n",
       "      <td>4.39</td>\n",
       "    </tr>\n",
       "    <tr>\n",
       "      <td>Canada</td>\n",
       "      <td>72.30</td>\n",
       "      <td>52.08</td>\n",
       "    </tr>\n",
       "  </tbody>\n",
       "</table>\n",
       "</div>"
      ],
      "text/plain": [
       "           Uso_Internet  Uso_Facebook\n",
       "# Pais                               \n",
       "Argentina         49.40         30.53\n",
       "Australia         80.60         46.01\n",
       "Belgium           67.30         36.98\n",
       "Brazil            37.76          4.39\n",
       "Canada            72.30         52.08"
      ]
     },
     "execution_count": 4,
     "metadata": {},
     "output_type": "execute_result"
    }
   ],
   "source": [
    "df.head()"
   ]
  },
  {
   "cell_type": "code",
   "execution_count": 5,
   "metadata": {},
   "outputs": [
    {
     "data": {
      "text/html": [
       "<div>\n",
       "<style scoped>\n",
       "    .dataframe tbody tr th:only-of-type {\n",
       "        vertical-align: middle;\n",
       "    }\n",
       "\n",
       "    .dataframe tbody tr th {\n",
       "        vertical-align: top;\n",
       "    }\n",
       "\n",
       "    .dataframe thead th {\n",
       "        text-align: right;\n",
       "    }\n",
       "</style>\n",
       "<table border=\"1\" class=\"dataframe\">\n",
       "  <thead>\n",
       "    <tr style=\"text-align: right;\">\n",
       "      <th></th>\n",
       "      <th>Uso_Internet</th>\n",
       "      <th>Uso_Facebook</th>\n",
       "    </tr>\n",
       "    <tr>\n",
       "      <th># Pais</th>\n",
       "      <th></th>\n",
       "      <th></th>\n",
       "    </tr>\n",
       "  </thead>\n",
       "  <tbody>\n",
       "    <tr>\n",
       "      <td>Thailand</td>\n",
       "      <td>20.50</td>\n",
       "      <td>10.29</td>\n",
       "    </tr>\n",
       "    <tr>\n",
       "      <td>Turkey</td>\n",
       "      <td>35.00</td>\n",
       "      <td>31.91</td>\n",
       "    </tr>\n",
       "    <tr>\n",
       "      <td>USA</td>\n",
       "      <td>77.33</td>\n",
       "      <td>46.98</td>\n",
       "    </tr>\n",
       "    <tr>\n",
       "      <td>UK</td>\n",
       "      <td>70.18</td>\n",
       "      <td>45.97</td>\n",
       "    </tr>\n",
       "    <tr>\n",
       "      <td>Venezuela</td>\n",
       "      <td>25.50</td>\n",
       "      <td>28.64</td>\n",
       "    </tr>\n",
       "  </tbody>\n",
       "</table>\n",
       "</div>"
      ],
      "text/plain": [
       "           Uso_Internet  Uso_Facebook\n",
       "# Pais                               \n",
       "Thailand          20.50         10.29\n",
       "Turkey            35.00         31.91\n",
       "USA               77.33         46.98\n",
       "UK                70.18         45.97\n",
       "Venezuela         25.50         28.64"
      ]
     },
     "execution_count": 5,
     "metadata": {},
     "output_type": "execute_result"
    }
   ],
   "source": [
    "df.tail()"
   ]
  },
  {
   "cell_type": "code",
   "execution_count": 6,
   "metadata": {},
   "outputs": [
    {
     "data": {
      "text/plain": [
       "Index(['Uso_Internet', 'Uso_Facebook'], dtype='object')"
      ]
     },
     "execution_count": 6,
     "metadata": {},
     "output_type": "execute_result"
    }
   ],
   "source": [
    "df.columns"
   ]
  },
  {
   "cell_type": "code",
   "execution_count": 7,
   "metadata": {},
   "outputs": [
    {
     "data": {
      "text/plain": [
       "Index(['Argentina', 'Australia', 'Belgium', 'Brazil', 'Canada', 'Chile',\n",
       "       'China', 'Colombia', 'Egypt', 'France', 'Germany', 'Hong_Kong', 'India',\n",
       "       'Indonesia', 'Italy', 'Japan', 'Malaysia', 'Mexico', 'Netherlands',\n",
       "       'Peru', 'Philippines', 'Poland', 'Russia', 'Saudi_Arabia',\n",
       "       'South_Africa', 'Spain', 'Sweden', 'Taiwan', 'Thailand', 'Turkey',\n",
       "       'USA', 'UK', 'Venezuela'],\n",
       "      dtype='object', name='# Pais')"
      ]
     },
     "execution_count": 7,
     "metadata": {},
     "output_type": "execute_result"
    }
   ],
   "source": [
    "df.index"
   ]
  },
  {
   "cell_type": "markdown",
   "metadata": {},
   "source": [
    "**fix the index name**"
   ]
  },
  {
   "cell_type": "code",
   "execution_count": 8,
   "metadata": {},
   "outputs": [
    {
     "data": {
      "text/html": [
       "<div>\n",
       "<style scoped>\n",
       "    .dataframe tbody tr th:only-of-type {\n",
       "        vertical-align: middle;\n",
       "    }\n",
       "\n",
       "    .dataframe tbody tr th {\n",
       "        vertical-align: top;\n",
       "    }\n",
       "\n",
       "    .dataframe thead th {\n",
       "        text-align: right;\n",
       "    }\n",
       "</style>\n",
       "<table border=\"1\" class=\"dataframe\">\n",
       "  <thead>\n",
       "    <tr style=\"text-align: right;\">\n",
       "      <th></th>\n",
       "      <th>Uso_Internet</th>\n",
       "      <th>Uso_Facebook</th>\n",
       "    </tr>\n",
       "    <tr>\n",
       "      <th>Pais</th>\n",
       "      <th></th>\n",
       "      <th></th>\n",
       "    </tr>\n",
       "  </thead>\n",
       "  <tbody>\n",
       "    <tr>\n",
       "      <td>Argentina</td>\n",
       "      <td>49.40</td>\n",
       "      <td>30.53</td>\n",
       "    </tr>\n",
       "    <tr>\n",
       "      <td>Australia</td>\n",
       "      <td>80.60</td>\n",
       "      <td>46.01</td>\n",
       "    </tr>\n",
       "    <tr>\n",
       "      <td>Belgium</td>\n",
       "      <td>67.30</td>\n",
       "      <td>36.98</td>\n",
       "    </tr>\n",
       "    <tr>\n",
       "      <td>Brazil</td>\n",
       "      <td>37.76</td>\n",
       "      <td>4.39</td>\n",
       "    </tr>\n",
       "    <tr>\n",
       "      <td>Canada</td>\n",
       "      <td>72.30</td>\n",
       "      <td>52.08</td>\n",
       "    </tr>\n",
       "  </tbody>\n",
       "</table>\n",
       "</div>"
      ],
      "text/plain": [
       "           Uso_Internet  Uso_Facebook\n",
       "Pais                                 \n",
       "Argentina         49.40         30.53\n",
       "Australia         80.60         46.01\n",
       "Belgium           67.30         36.98\n",
       "Brazil            37.76          4.39\n",
       "Canada            72.30         52.08"
      ]
     },
     "execution_count": 8,
     "metadata": {},
     "output_type": "execute_result"
    }
   ],
   "source": [
    "df.index.name=\"Pais\"\n",
    "df.head()"
   ]
  },
  {
   "cell_type": "code",
   "execution_count": 9,
   "metadata": {},
   "outputs": [
    {
     "data": {
      "text/html": [
       "<div>\n",
       "<style scoped>\n",
       "    .dataframe tbody tr th:only-of-type {\n",
       "        vertical-align: middle;\n",
       "    }\n",
       "\n",
       "    .dataframe tbody tr th {\n",
       "        vertical-align: top;\n",
       "    }\n",
       "\n",
       "    .dataframe thead th {\n",
       "        text-align: right;\n",
       "    }\n",
       "</style>\n",
       "<table border=\"1\" class=\"dataframe\">\n",
       "  <thead>\n",
       "    <tr style=\"text-align: right;\">\n",
       "      <th></th>\n",
       "      <th>Uso_Internet</th>\n",
       "      <th>Uso_Facebook</th>\n",
       "    </tr>\n",
       "  </thead>\n",
       "  <tbody>\n",
       "    <tr>\n",
       "      <td>count</td>\n",
       "      <td>33.000000</td>\n",
       "      <td>33.000000</td>\n",
       "    </tr>\n",
       "    <tr>\n",
       "      <td>mean</td>\n",
       "      <td>46.890000</td>\n",
       "      <td>24.668182</td>\n",
       "    </tr>\n",
       "    <tr>\n",
       "      <td>std</td>\n",
       "      <td>24.456421</td>\n",
       "      <td>16.511662</td>\n",
       "    </tr>\n",
       "    <tr>\n",
       "      <td>min</td>\n",
       "      <td>7.100000</td>\n",
       "      <td>0.050000</td>\n",
       "    </tr>\n",
       "    <tr>\n",
       "      <td>25%</td>\n",
       "      <td>24.900000</td>\n",
       "      <td>11.650000</td>\n",
       "    </tr>\n",
       "    <tr>\n",
       "      <td>50%</td>\n",
       "      <td>49.400000</td>\n",
       "      <td>25.900000</td>\n",
       "    </tr>\n",
       "    <tr>\n",
       "      <td>75%</td>\n",
       "      <td>67.300000</td>\n",
       "      <td>37.770000</td>\n",
       "    </tr>\n",
       "    <tr>\n",
       "      <td>max</td>\n",
       "      <td>82.900000</td>\n",
       "      <td>52.330000</td>\n",
       "    </tr>\n",
       "  </tbody>\n",
       "</table>\n",
       "</div>"
      ],
      "text/plain": [
       "       Uso_Internet  Uso_Facebook\n",
       "count     33.000000     33.000000\n",
       "mean      46.890000     24.668182\n",
       "std       24.456421     16.511662\n",
       "min        7.100000      0.050000\n",
       "25%       24.900000     11.650000\n",
       "50%       49.400000     25.900000\n",
       "75%       67.300000     37.770000\n",
       "max       82.900000     52.330000"
      ]
     },
     "execution_count": 9,
     "metadata": {},
     "output_type": "execute_result"
    }
   ],
   "source": [
    "df.describe()"
   ]
  },
  {
   "cell_type": "code",
   "execution_count": 10,
   "metadata": {},
   "outputs": [
    {
     "name": "stdout",
     "output_type": "stream",
     "text": [
      "<class 'pandas.core.frame.DataFrame'>\n",
      "Index: 33 entries, Argentina to Venezuela\n",
      "Data columns (total 2 columns):\n",
      "Uso_Internet    33 non-null float64\n",
      "Uso_Facebook    33 non-null float64\n",
      "dtypes: float64(2)\n",
      "memory usage: 792.0+ bytes\n"
     ]
    }
   ],
   "source": [
    "df.info()"
   ]
  },
  {
   "cell_type": "code",
   "execution_count": null,
   "metadata": {},
   "outputs": [],
   "source": []
  },
  {
   "cell_type": "markdown",
   "metadata": {},
   "source": [
    "**a dataframe is made of `Series`**. Observe that each series has **its own type**"
   ]
  },
  {
   "cell_type": "code",
   "execution_count": 11,
   "metadata": {},
   "outputs": [
    {
     "data": {
      "text/plain": [
       "pandas.core.series.Series"
      ]
     },
     "execution_count": 11,
     "metadata": {},
     "output_type": "execute_result"
    }
   ],
   "source": [
    "s1 = df[\"Uso_Internet\"]\n",
    "type(s1)"
   ]
  },
  {
   "cell_type": "code",
   "execution_count": 5,
   "metadata": {},
   "outputs": [
    {
     "data": {
      "text/plain": [
       "# Pais\n",
       "Argentina       49.40\n",
       "Australia       80.60\n",
       "Belgium         67.30\n",
       "Brazil          37.76\n",
       "Canada          72.30\n",
       "Chile           50.90\n",
       "China           22.40\n",
       "Colombia        38.80\n",
       "Egypt           12.90\n",
       "France          65.70\n",
       "Germany         67.00\n",
       "Hong_Kong       69.50\n",
       "India            7.10\n",
       "Indonesia       10.50\n",
       "Italy           48.80\n",
       "Japan           73.80\n",
       "Malaysia        62.80\n",
       "Mexico          24.90\n",
       "Netherlands     82.90\n",
       "Peru            26.20\n",
       "Philippines     21.50\n",
       "Poland          52.00\n",
       "Russia          27.00\n",
       "Saudi_Arabia    22.70\n",
       "South_Africa    10.50\n",
       "Spain           66.80\n",
       "Sweden          80.70\n",
       "Taiwan          66.10\n",
       "Thailand        20.50\n",
       "Turkey          35.00\n",
       "USA             77.33\n",
       "UK              70.18\n",
       "Venezuela       25.50\n",
       "Name: Uso_Internet, dtype: float64"
      ]
     },
     "execution_count": 5,
     "metadata": {},
     "output_type": "execute_result"
    }
   ],
   "source": [
    "s1"
   ]
  },
  {
   "cell_type": "markdown",
   "metadata": {},
   "source": [
    "if the column name is not too fancy (empy spaces, accents, etc.) we can use columns names as python syntax."
   ]
  },
  {
   "cell_type": "code",
   "execution_count": 12,
   "metadata": {},
   "outputs": [
    {
     "data": {
      "text/plain": [
       "Pais\n",
       "Argentina       30.53\n",
       "Australia       46.01\n",
       "Belgium         36.98\n",
       "Brazil           4.39\n",
       "Canada          52.08\n",
       "Chile           46.14\n",
       "China            0.05\n",
       "Colombia        25.90\n",
       "Egypt            5.68\n",
       "France          32.91\n",
       "Germany         14.07\n",
       "Hong_Kong       52.33\n",
       "India            1.52\n",
       "Indonesia       13.49\n",
       "Italy           30.62\n",
       "Japan            2.00\n",
       "Malaysia        37.77\n",
       "Mexico          16.80\n",
       "Netherlands     20.54\n",
       "Peru            13.34\n",
       "Philippines     19.68\n",
       "Poland          11.79\n",
       "Russia           2.99\n",
       "Saudi_Arabia    11.65\n",
       "South_Africa     7.83\n",
       "Spain           30.24\n",
       "Sweden          44.72\n",
       "Taiwan          38.21\n",
       "Thailand        10.29\n",
       "Turkey          31.91\n",
       "USA             46.98\n",
       "UK              45.97\n",
       "Venezuela       28.64\n",
       "Name: Uso_Facebook, dtype: float64"
      ]
     },
     "execution_count": 12,
     "metadata": {},
     "output_type": "execute_result"
    }
   ],
   "source": [
    "df.Uso_Facebook"
   ]
  },
  {
   "cell_type": "markdown",
   "metadata": {},
   "source": [
    "## DataFrame indexing\n",
    "\n",
    "is **NOT** exactly like numpy\n",
    "\n",
    "- first index\n",
    "    - if string refers to columns\n",
    "    - if `Series` of booleans is used as a filter\n",
    "    \n",
    "- for selecting columns:\n",
    "    - use `.loc` to select by Index\n",
    "    - use `.iloc` to select by position   "
   ]
  },
  {
   "cell_type": "code",
   "execution_count": null,
   "metadata": {},
   "outputs": [],
   "source": [
    "df[\"Colombia\"]"
   ]
  },
  {
   "cell_type": "code",
   "execution_count": 14,
   "metadata": {},
   "outputs": [
    {
     "data": {
      "text/plain": [
       "Uso_Internet    38.8\n",
       "Uso_Facebook    25.9\n",
       "Name: Colombia, dtype: float64"
      ]
     },
     "execution_count": 14,
     "metadata": {},
     "output_type": "execute_result"
    }
   ],
   "source": [
    "df.loc[\"Colombia\"]"
   ]
  },
  {
   "cell_type": "markdown",
   "metadata": {},
   "source": [
    "Index semantics is exact!!"
   ]
  },
  {
   "cell_type": "code",
   "execution_count": 253,
   "metadata": {},
   "outputs": [],
   "source": [
    "df.loc[\"Colombia\":\"Spain\"]"
   ]
  },
  {
   "cell_type": "code",
   "execution_count": 254,
   "metadata": {},
   "outputs": [],
   "source": [
    "df.iloc[10:15]"
   ]
  },
  {
   "cell_type": "markdown",
   "metadata": {},
   "source": [
    "filtering"
   ]
  },
  {
   "cell_type": "code",
   "execution_count": 255,
   "metadata": {},
   "outputs": [],
   "source": [
    "df[df.Uso_Internet>80]"
   ]
  },
  {
   "cell_type": "markdown",
   "metadata": {},
   "source": [
    "combined conditions"
   ]
  },
  {
   "cell_type": "code",
   "execution_count": 256,
   "metadata": {},
   "outputs": [],
   "source": [
    "df[(df.Uso_Internet>50)&(df.Uso_Facebook>50)]"
   ]
  },
  {
   "cell_type": "code",
   "execution_count": 257,
   "metadata": {},
   "outputs": [],
   "source": [
    "df[(df.Uso_Internet>50)|(df.Uso_Facebook>50)]"
   ]
  },
  {
   "cell_type": "markdown",
   "metadata": {},
   "source": [
    "## Managing data"
   ]
  },
  {
   "cell_type": "markdown",
   "metadata": {},
   "source": [
    "    \n",
    "    \n",
    "observe csv structure:\n",
    "- missing column name\n",
    "- missing data "
   ]
  },
  {
   "cell_type": "code",
   "execution_count": 115,
   "metadata": {},
   "outputs": [],
   "source": [
    "!head local/data/comptagevelo2009.csv"
   ]
  },
  {
   "cell_type": "code",
   "execution_count": 3,
   "metadata": {},
   "outputs": [
    {
     "data": {
      "text/html": [
       "<div>\n",
       "<style scoped>\n",
       "    .dataframe tbody tr th:only-of-type {\n",
       "        vertical-align: middle;\n",
       "    }\n",
       "\n",
       "    .dataframe tbody tr th {\n",
       "        vertical-align: top;\n",
       "    }\n",
       "\n",
       "    .dataframe thead th {\n",
       "        text-align: right;\n",
       "    }\n",
       "</style>\n",
       "<table border=\"1\" class=\"dataframe\">\n",
       "  <thead>\n",
       "    <tr style=\"text-align: right;\">\n",
       "      <th></th>\n",
       "      <th>Date</th>\n",
       "      <th>Unnamed: 1</th>\n",
       "      <th>Berri1</th>\n",
       "      <th>Maisonneuve_1</th>\n",
       "      <th>Maisonneuve_2</th>\n",
       "      <th>Brébeuf</th>\n",
       "    </tr>\n",
       "  </thead>\n",
       "  <tbody>\n",
       "    <tr>\n",
       "      <td>0</td>\n",
       "      <td>01/01/2009</td>\n",
       "      <td>00:00</td>\n",
       "      <td>29</td>\n",
       "      <td>20</td>\n",
       "      <td>35</td>\n",
       "      <td>NaN</td>\n",
       "    </tr>\n",
       "    <tr>\n",
       "      <td>1</td>\n",
       "      <td>02/01/2009</td>\n",
       "      <td>00:00</td>\n",
       "      <td>19</td>\n",
       "      <td>3</td>\n",
       "      <td>22</td>\n",
       "      <td>NaN</td>\n",
       "    </tr>\n",
       "    <tr>\n",
       "      <td>2</td>\n",
       "      <td>03/01/2009</td>\n",
       "      <td>00:00</td>\n",
       "      <td>24</td>\n",
       "      <td>12</td>\n",
       "      <td>22</td>\n",
       "      <td>NaN</td>\n",
       "    </tr>\n",
       "    <tr>\n",
       "      <td>3</td>\n",
       "      <td>04/01/2009</td>\n",
       "      <td>00:00</td>\n",
       "      <td>24</td>\n",
       "      <td>8</td>\n",
       "      <td>15</td>\n",
       "      <td>NaN</td>\n",
       "    </tr>\n",
       "    <tr>\n",
       "      <td>4</td>\n",
       "      <td>05/01/2009</td>\n",
       "      <td>00:00</td>\n",
       "      <td>120</td>\n",
       "      <td>111</td>\n",
       "      <td>141</td>\n",
       "      <td>NaN</td>\n",
       "    </tr>\n",
       "    <tr>\n",
       "      <td>...</td>\n",
       "      <td>...</td>\n",
       "      <td>...</td>\n",
       "      <td>...</td>\n",
       "      <td>...</td>\n",
       "      <td>...</td>\n",
       "      <td>...</td>\n",
       "    </tr>\n",
       "    <tr>\n",
       "      <td>360</td>\n",
       "      <td>27/12/2009</td>\n",
       "      <td>00:00</td>\n",
       "      <td>66</td>\n",
       "      <td>29</td>\n",
       "      <td>52</td>\n",
       "      <td>0.0</td>\n",
       "    </tr>\n",
       "    <tr>\n",
       "      <td>361</td>\n",
       "      <td>28/12/2009</td>\n",
       "      <td>00:00</td>\n",
       "      <td>61</td>\n",
       "      <td>41</td>\n",
       "      <td>99</td>\n",
       "      <td>0.0</td>\n",
       "    </tr>\n",
       "    <tr>\n",
       "      <td>362</td>\n",
       "      <td>29/12/2009</td>\n",
       "      <td>00:00</td>\n",
       "      <td>89</td>\n",
       "      <td>52</td>\n",
       "      <td>115</td>\n",
       "      <td>0.0</td>\n",
       "    </tr>\n",
       "    <tr>\n",
       "      <td>363</td>\n",
       "      <td>30/12/2009</td>\n",
       "      <td>00:00</td>\n",
       "      <td>76</td>\n",
       "      <td>43</td>\n",
       "      <td>115</td>\n",
       "      <td>0.0</td>\n",
       "    </tr>\n",
       "    <tr>\n",
       "      <td>364</td>\n",
       "      <td>31/12/2009</td>\n",
       "      <td>00:00</td>\n",
       "      <td>53</td>\n",
       "      <td>46</td>\n",
       "      <td>112</td>\n",
       "      <td>0.0</td>\n",
       "    </tr>\n",
       "  </tbody>\n",
       "</table>\n",
       "<p>365 rows × 6 columns</p>\n",
       "</div>"
      ],
      "text/plain": [
       "           Date Unnamed: 1  Berri1  Maisonneuve_1  Maisonneuve_2  Brébeuf\n",
       "0    01/01/2009      00:00      29             20             35      NaN\n",
       "1    02/01/2009      00:00      19              3             22      NaN\n",
       "2    03/01/2009      00:00      24             12             22      NaN\n",
       "3    04/01/2009      00:00      24              8             15      NaN\n",
       "4    05/01/2009      00:00     120            111            141      NaN\n",
       "..          ...        ...     ...            ...            ...      ...\n",
       "360  27/12/2009      00:00      66             29             52      0.0\n",
       "361  28/12/2009      00:00      61             41             99      0.0\n",
       "362  29/12/2009      00:00      89             52            115      0.0\n",
       "363  30/12/2009      00:00      76             43            115      0.0\n",
       "364  31/12/2009      00:00      53             46            112      0.0\n",
       "\n",
       "[365 rows x 6 columns]"
      ]
     },
     "execution_count": 3,
     "metadata": {},
     "output_type": "execute_result"
    }
   ],
   "source": [
    "d = pd.read_csv(\"local/data/comptagevelo2009.csv\")\n",
    "d"
   ]
  },
  {
   "cell_type": "code",
   "execution_count": 4,
   "metadata": {},
   "outputs": [
    {
     "data": {
      "text/plain": [
       "(Index(['Date', 'Unnamed: 1', 'Berri1', 'Maisonneuve_1', 'Maisonneuve_2',\n",
       "        'Brébeuf'],\n",
       "       dtype='object'), (365, 6))"
      ]
     },
     "execution_count": 4,
     "metadata": {},
     "output_type": "execute_result"
    }
   ],
   "source": [
    "d.columns, d.shape\n"
   ]
  },
  {
   "cell_type": "markdown",
   "metadata": {},
   "source": [
    "numerical features"
   ]
  },
  {
   "cell_type": "code",
   "execution_count": 5,
   "metadata": {},
   "outputs": [
    {
     "data": {
      "text/html": [
       "<div>\n",
       "<style scoped>\n",
       "    .dataframe tbody tr th:only-of-type {\n",
       "        vertical-align: middle;\n",
       "    }\n",
       "\n",
       "    .dataframe tbody tr th {\n",
       "        vertical-align: top;\n",
       "    }\n",
       "\n",
       "    .dataframe thead th {\n",
       "        text-align: right;\n",
       "    }\n",
       "</style>\n",
       "<table border=\"1\" class=\"dataframe\">\n",
       "  <thead>\n",
       "    <tr style=\"text-align: right;\">\n",
       "      <th></th>\n",
       "      <th>Berri1</th>\n",
       "      <th>Maisonneuve_1</th>\n",
       "      <th>Maisonneuve_2</th>\n",
       "      <th>Brébeuf</th>\n",
       "    </tr>\n",
       "  </thead>\n",
       "  <tbody>\n",
       "    <tr>\n",
       "      <td>count</td>\n",
       "      <td>365.000000</td>\n",
       "      <td>365.000000</td>\n",
       "      <td>365.000000</td>\n",
       "      <td>178.000000</td>\n",
       "    </tr>\n",
       "    <tr>\n",
       "      <td>mean</td>\n",
       "      <td>2032.200000</td>\n",
       "      <td>1060.252055</td>\n",
       "      <td>2093.169863</td>\n",
       "      <td>2576.359551</td>\n",
       "    </tr>\n",
       "    <tr>\n",
       "      <td>std</td>\n",
       "      <td>1878.879799</td>\n",
       "      <td>1079.533086</td>\n",
       "      <td>1854.368523</td>\n",
       "      <td>2484.004743</td>\n",
       "    </tr>\n",
       "    <tr>\n",
       "      <td>min</td>\n",
       "      <td>0.000000</td>\n",
       "      <td>0.000000</td>\n",
       "      <td>0.000000</td>\n",
       "      <td>0.000000</td>\n",
       "    </tr>\n",
       "    <tr>\n",
       "      <td>25%</td>\n",
       "      <td>194.000000</td>\n",
       "      <td>90.000000</td>\n",
       "      <td>228.000000</td>\n",
       "      <td>0.000000</td>\n",
       "    </tr>\n",
       "    <tr>\n",
       "      <td>50%</td>\n",
       "      <td>1726.000000</td>\n",
       "      <td>678.000000</td>\n",
       "      <td>1686.000000</td>\n",
       "      <td>1443.500000</td>\n",
       "    </tr>\n",
       "    <tr>\n",
       "      <td>75%</td>\n",
       "      <td>3540.000000</td>\n",
       "      <td>1882.000000</td>\n",
       "      <td>3520.000000</td>\n",
       "      <td>4638.000000</td>\n",
       "    </tr>\n",
       "    <tr>\n",
       "      <td>max</td>\n",
       "      <td>6626.000000</td>\n",
       "      <td>4242.000000</td>\n",
       "      <td>6587.000000</td>\n",
       "      <td>7575.000000</td>\n",
       "    </tr>\n",
       "  </tbody>\n",
       "</table>\n",
       "</div>"
      ],
      "text/plain": [
       "            Berri1  Maisonneuve_1  Maisonneuve_2      Brébeuf\n",
       "count   365.000000     365.000000     365.000000   178.000000\n",
       "mean   2032.200000    1060.252055    2093.169863  2576.359551\n",
       "std    1878.879799    1079.533086    1854.368523  2484.004743\n",
       "min       0.000000       0.000000       0.000000     0.000000\n",
       "25%     194.000000      90.000000     228.000000     0.000000\n",
       "50%    1726.000000     678.000000    1686.000000  1443.500000\n",
       "75%    3540.000000    1882.000000    3520.000000  4638.000000\n",
       "max    6626.000000    4242.000000    6587.000000  7575.000000"
      ]
     },
     "execution_count": 5,
     "metadata": {},
     "output_type": "execute_result"
    }
   ],
   "source": [
    "d.describe()"
   ]
  },
  {
   "cell_type": "code",
   "execution_count": 6,
   "metadata": {},
   "outputs": [
    {
     "data": {
      "text/plain": [
       "0     29\n",
       "1     19\n",
       "2     24\n",
       "3     24\n",
       "4    120\n",
       "Name: Berri1, dtype: int64"
      ]
     },
     "execution_count": 6,
     "metadata": {},
     "output_type": "execute_result"
    }
   ],
   "source": [
    "d[\"Berri1\"].head()"
   ]
  },
  {
   "cell_type": "code",
   "execution_count": 7,
   "metadata": {},
   "outputs": [
    {
     "data": {
      "text/plain": [
       "array(['00:00'], dtype=object)"
      ]
     },
     "execution_count": 7,
     "metadata": {},
     "output_type": "execute_result"
    }
   ],
   "source": [
    "d[\"Unnamed: 1\"].unique()\n"
   ]
  },
  {
   "cell_type": "code",
   "execution_count": 8,
   "metadata": {},
   "outputs": [
    {
     "data": {
      "text/plain": [
       "array([  29,   19,   24,  120,  261,   60,   35,   81,  318,  105,  168,\n",
       "        145,  131,   93,   25,   52,  136,  147,  109,  172,  148,   15,\n",
       "        209,   92,  110,   14,  158,  179,  122,   95,  185,   82,  190,\n",
       "        228,  306,  188,   98,  139,  258,  304,  326,  134,  125,   96,\n",
       "         65,  123,  129,  154,  239,  198,   32,   67,  157,  164,  300,\n",
       "        176,  195,  310,    7,  366,  234,  132,  203,  298,  541,  525,\n",
       "        871,  592,  455,  446,  441,  266,  189,  343,  292,  355,  245,\n",
       "          0,  445, 1286, 1178, 2131, 2709,  752, 1886, 2069, 3132, 3668,\n",
       "       1368, 4051, 2286, 3519, 3520, 1925, 2125, 2662, 4403, 4338, 2757,\n",
       "        970, 2767, 1493,  728, 3982, 4742, 5278, 2344, 4094,  784, 1048,\n",
       "       2442, 3686, 3042, 5728, 3815, 3540, 4775, 4434, 4363, 2075, 2338,\n",
       "       1387, 2063, 2031, 3274, 4325, 5430, 6028, 3876, 2742, 4973, 1125,\n",
       "       3460, 4449, 3576, 4027, 4313, 3182, 5668, 6320, 2397, 2857, 2590,\n",
       "       3234, 5138, 5799, 4911, 4333, 3680, 1536, 3064, 1004, 4709, 4471,\n",
       "       4432, 2997, 2544, 5121, 3862, 3036, 3744, 6626, 6274, 1876, 4393,\n",
       "       3471, 3537, 6100, 3489, 4859, 2991, 3588, 5607, 5754, 3440, 5124,\n",
       "       4054, 4372, 1801, 4088, 5891, 3754, 5267, 3146,   63,   77, 5904,\n",
       "       4417, 5611, 4197, 4265, 4589, 2775, 2999, 3504, 5538, 5386, 3916,\n",
       "       3307, 4382, 5327, 3796, 2832, 3492, 2888, 4120, 5450, 4722, 4707,\n",
       "       4439, 2277, 4572, 5298, 5451, 5372, 4566, 3533, 3888, 3683, 5452,\n",
       "       5575, 5496, 4864, 3985, 2695, 4196, 5169, 4891, 4915, 2435, 2674,\n",
       "       2855, 4787, 2620, 2878, 4820, 3774, 2603,  725, 1941, 2272, 3003,\n",
       "       2643, 2865,  993, 1336, 2935, 3852, 2115, 3336, 1302, 1407, 1090,\n",
       "       1171, 1671, 2456, 2383, 1130, 1241, 2570, 2605, 2904, 1322, 1792,\n",
       "        542, 1124, 2119, 2072, 1996, 2130, 1835,  473, 1141, 2293, 1655,\n",
       "       1974, 1767, 1735,  872, 1541, 2540, 2526, 2366, 2224, 2007,  493,\n",
       "        852, 1881, 2052, 1921, 1935, 1065, 1173,  743, 1579, 1574, 1726,\n",
       "       1027,  810,  671,  747, 1092, 1377,  606, 1108,  594,  501,  669,\n",
       "        570,  219,  194,  106,  130,  271,  308,  296,  214,  133,  135,\n",
       "        207,   74,   34,   40,   66,   61,   89,   76,   53], dtype=int64)"
      ]
     },
     "execution_count": 8,
     "metadata": {},
     "output_type": "execute_result"
    }
   ],
   "source": [
    "d[\"Berri1\"].unique()\n"
   ]
  },
  {
   "cell_type": "code",
   "execution_count": 9,
   "metadata": {},
   "outputs": [
    {
     "data": {
      "text/plain": [
       "(dtype('int64'), dtype('O'), dtype('O'))"
      ]
     },
     "execution_count": 9,
     "metadata": {},
     "output_type": "execute_result"
    }
   ],
   "source": [
    "d[\"Berri1\"].dtype, d[\"Date\"].dtype, d[\"Unnamed: 1\"].dtype\n"
   ]
  },
  {
   "cell_type": "code",
   "execution_count": 10,
   "metadata": {},
   "outputs": [
    {
     "data": {
      "text/plain": [
       "RangeIndex(start=0, stop=365, step=1)"
      ]
     },
     "execution_count": 10,
     "metadata": {},
     "output_type": "execute_result"
    }
   ],
   "source": [
    "d.index\n"
   ]
  },
  {
   "cell_type": "markdown",
   "metadata": {},
   "source": [
    "## Fixing data\n",
    "\n",
    "observe we set one column as the index one, and we **convert** it to date object type"
   ]
  },
  {
   "cell_type": "code",
   "execution_count": 11,
   "metadata": {},
   "outputs": [
    {
     "data": {
      "text/plain": [
       "0      01/01/2009\n",
       "1      02/01/2009\n",
       "2      03/01/2009\n",
       "3      04/01/2009\n",
       "4      05/01/2009\n",
       "          ...    \n",
       "360    27/12/2009\n",
       "361    28/12/2009\n",
       "362    29/12/2009\n",
       "363    30/12/2009\n",
       "364    31/12/2009\n",
       "Name: Date, Length: 365, dtype: object"
      ]
     },
     "execution_count": 11,
     "metadata": {},
     "output_type": "execute_result"
    }
   ],
   "source": [
    "d.Date"
   ]
  },
  {
   "cell_type": "code",
   "execution_count": 12,
   "metadata": {},
   "outputs": [
    {
     "data": {
      "text/html": [
       "<div>\n",
       "<style scoped>\n",
       "    .dataframe tbody tr th:only-of-type {\n",
       "        vertical-align: middle;\n",
       "    }\n",
       "\n",
       "    .dataframe tbody tr th {\n",
       "        vertical-align: top;\n",
       "    }\n",
       "\n",
       "    .dataframe thead th {\n",
       "        text-align: right;\n",
       "    }\n",
       "</style>\n",
       "<table border=\"1\" class=\"dataframe\">\n",
       "  <thead>\n",
       "    <tr style=\"text-align: right;\">\n",
       "      <th></th>\n",
       "      <th>Berri1</th>\n",
       "      <th>Maisonneuve_1</th>\n",
       "      <th>Maisonneuve_2</th>\n",
       "      <th>Brébeuf</th>\n",
       "    </tr>\n",
       "    <tr>\n",
       "      <th>Date</th>\n",
       "      <th></th>\n",
       "      <th></th>\n",
       "      <th></th>\n",
       "      <th></th>\n",
       "    </tr>\n",
       "  </thead>\n",
       "  <tbody>\n",
       "    <tr>\n",
       "      <td>2009-01-01</td>\n",
       "      <td>29</td>\n",
       "      <td>20</td>\n",
       "      <td>35</td>\n",
       "      <td>NaN</td>\n",
       "    </tr>\n",
       "    <tr>\n",
       "      <td>2009-02-01</td>\n",
       "      <td>19</td>\n",
       "      <td>3</td>\n",
       "      <td>22</td>\n",
       "      <td>NaN</td>\n",
       "    </tr>\n",
       "    <tr>\n",
       "      <td>2009-03-01</td>\n",
       "      <td>24</td>\n",
       "      <td>12</td>\n",
       "      <td>22</td>\n",
       "      <td>NaN</td>\n",
       "    </tr>\n",
       "    <tr>\n",
       "      <td>2009-04-01</td>\n",
       "      <td>24</td>\n",
       "      <td>8</td>\n",
       "      <td>15</td>\n",
       "      <td>NaN</td>\n",
       "    </tr>\n",
       "    <tr>\n",
       "      <td>2009-05-01</td>\n",
       "      <td>120</td>\n",
       "      <td>111</td>\n",
       "      <td>141</td>\n",
       "      <td>NaN</td>\n",
       "    </tr>\n",
       "  </tbody>\n",
       "</table>\n",
       "</div>"
      ],
      "text/plain": [
       "            Berri1  Maisonneuve_1  Maisonneuve_2  Brébeuf\n",
       "Date                                                     \n",
       "2009-01-01      29             20             35      NaN\n",
       "2009-02-01      19              3             22      NaN\n",
       "2009-03-01      24             12             22      NaN\n",
       "2009-04-01      24              8             15      NaN\n",
       "2009-05-01     120            111            141      NaN"
      ]
     },
     "execution_count": 12,
     "metadata": {},
     "output_type": "execute_result"
    }
   ],
   "source": [
    "d.index = pd.to_datetime(d.Date)\n",
    "del(d[\"Date\"])\n",
    "del(d[\"Unnamed: 1\"])\n",
    "d.head()"
   ]
  },
  {
   "cell_type": "code",
   "execution_count": 13,
   "metadata": {},
   "outputs": [
    {
     "data": {
      "text/plain": [
       "DatetimeIndex(['2009-01-01', '2009-02-01', '2009-03-01', '2009-04-01',\n",
       "               '2009-05-01', '2009-06-01', '2009-07-01', '2009-08-01',\n",
       "               '2009-09-01', '2009-10-01',\n",
       "               ...\n",
       "               '2009-12-22', '2009-12-23', '2009-12-24', '2009-12-25',\n",
       "               '2009-12-26', '2009-12-27', '2009-12-28', '2009-12-29',\n",
       "               '2009-12-30', '2009-12-31'],\n",
       "              dtype='datetime64[ns]', name='Date', length=365, freq=None)"
      ]
     },
     "execution_count": 13,
     "metadata": {},
     "output_type": "execute_result"
    }
   ],
   "source": [
    "d.index"
   ]
  },
  {
   "cell_type": "code",
   "execution_count": null,
   "metadata": {},
   "outputs": [],
   "source": []
  },
  {
   "cell_type": "markdown",
   "metadata": {},
   "source": [
    "let's fix columns names"
   ]
  },
  {
   "cell_type": "code",
   "execution_count": 14,
   "metadata": {},
   "outputs": [
    {
     "data": {
      "text/html": [
       "<div>\n",
       "<style scoped>\n",
       "    .dataframe tbody tr th:only-of-type {\n",
       "        vertical-align: middle;\n",
       "    }\n",
       "\n",
       "    .dataframe tbody tr th {\n",
       "        vertical-align: top;\n",
       "    }\n",
       "\n",
       "    .dataframe thead th {\n",
       "        text-align: right;\n",
       "    }\n",
       "</style>\n",
       "<table border=\"1\" class=\"dataframe\">\n",
       "  <thead>\n",
       "    <tr style=\"text-align: right;\">\n",
       "      <th></th>\n",
       "      <th>Berri</th>\n",
       "      <th>Mneuve1</th>\n",
       "      <th>Mneuve2</th>\n",
       "      <th>Brebeuf</th>\n",
       "    </tr>\n",
       "    <tr>\n",
       "      <th>Date</th>\n",
       "      <th></th>\n",
       "      <th></th>\n",
       "      <th></th>\n",
       "      <th></th>\n",
       "    </tr>\n",
       "  </thead>\n",
       "  <tbody>\n",
       "    <tr>\n",
       "      <td>2009-01-01</td>\n",
       "      <td>29</td>\n",
       "      <td>20</td>\n",
       "      <td>35</td>\n",
       "      <td>NaN</td>\n",
       "    </tr>\n",
       "    <tr>\n",
       "      <td>2009-02-01</td>\n",
       "      <td>19</td>\n",
       "      <td>3</td>\n",
       "      <td>22</td>\n",
       "      <td>NaN</td>\n",
       "    </tr>\n",
       "    <tr>\n",
       "      <td>2009-03-01</td>\n",
       "      <td>24</td>\n",
       "      <td>12</td>\n",
       "      <td>22</td>\n",
       "      <td>NaN</td>\n",
       "    </tr>\n",
       "    <tr>\n",
       "      <td>2009-04-01</td>\n",
       "      <td>24</td>\n",
       "      <td>8</td>\n",
       "      <td>15</td>\n",
       "      <td>NaN</td>\n",
       "    </tr>\n",
       "    <tr>\n",
       "      <td>2009-05-01</td>\n",
       "      <td>120</td>\n",
       "      <td>111</td>\n",
       "      <td>141</td>\n",
       "      <td>NaN</td>\n",
       "    </tr>\n",
       "  </tbody>\n",
       "</table>\n",
       "</div>"
      ],
      "text/plain": [
       "            Berri  Mneuve1  Mneuve2  Brebeuf\n",
       "Date                                        \n",
       "2009-01-01     29       20       35      NaN\n",
       "2009-02-01     19        3       22      NaN\n",
       "2009-03-01     24       12       22      NaN\n",
       "2009-04-01     24        8       15      NaN\n",
       "2009-05-01    120      111      141      NaN"
      ]
     },
     "execution_count": 14,
     "metadata": {},
     "output_type": "execute_result"
    }
   ],
   "source": [
    "d.columns=[\"Berri\", \"Mneuve1\", \"Mneuve2\", \"Brebeuf\"]\n",
    "d.head()"
   ]
  },
  {
   "cell_type": "code",
   "execution_count": 15,
   "metadata": {},
   "outputs": [
    {
     "name": "stdout",
     "output_type": "stream",
     "text": [
      "Berri 0\n",
      "Mneuve1 0\n",
      "Mneuve2 0\n",
      "Brebeuf 187\n"
     ]
    }
   ],
   "source": [
    "for col in d.columns:\n",
    "    print (col, np.sum(pd.isnull(d[col])))"
   ]
  },
  {
   "cell_type": "code",
   "execution_count": 16,
   "metadata": {},
   "outputs": [
    {
     "data": {
      "text/plain": [
       "(365, 4)"
      ]
     },
     "execution_count": 16,
     "metadata": {},
     "output_type": "execute_result"
    }
   ],
   "source": [
    "d.shape"
   ]
  },
  {
   "cell_type": "code",
   "execution_count": 17,
   "metadata": {},
   "outputs": [
    {
     "data": {
      "text/plain": [
       "count     178.000000\n",
       "mean     2576.359551\n",
       "std      2484.004743\n",
       "min         0.000000\n",
       "25%         0.000000\n",
       "50%      1443.500000\n",
       "75%      4638.000000\n",
       "max      7575.000000\n",
       "Name: Brebeuf, dtype: float64"
      ]
     },
     "execution_count": 17,
     "metadata": {},
     "output_type": "execute_result"
    }
   ],
   "source": [
    "d['Brebeuf'].describe()"
   ]
  },
  {
   "cell_type": "code",
   "execution_count": 18,
   "metadata": {},
   "outputs": [
    {
     "name": "stderr",
     "output_type": "stream",
     "text": [
      "C:\\Users\\Kevin\\Anaconda3\\lib\\site-packages\\numpy\\lib\\histograms.py:824: RuntimeWarning: invalid value encountered in greater_equal\n",
      "  keep = (tmp_a >= first_edge)\n",
      "C:\\Users\\Kevin\\Anaconda3\\lib\\site-packages\\numpy\\lib\\histograms.py:825: RuntimeWarning: invalid value encountered in less_equal\n",
      "  keep &= (tmp_a <= last_edge)\n"
     ]
    },
    {
     "data": {
      "image/png": "[encoded data removed]",
      "text/plain": [
       "<Figure size 432x288 with 1 Axes>"
      ]
     },
     "metadata": {
      "needs_background": "light"
     },
     "output_type": "display_data"
    }
   ],
   "source": [
    "plt.hist(d.Brebeuf, bins=30);"
   ]
  },
  {
   "cell_type": "markdown",
   "metadata": {},
   "source": [
    "**fix missing**!!!"
   ]
  },
  {
   "cell_type": "code",
   "execution_count": 19,
   "metadata": {},
   "outputs": [],
   "source": [
    "d.Brebeuf.fillna(d.Brebeuf.mean(), inplace=True)\n"
   ]
  },
  {
   "cell_type": "code",
   "execution_count": 20,
   "metadata": {},
   "outputs": [
    {
     "data": {
      "text/plain": [
       "count     365.000000\n",
       "mean     2576.359551\n",
       "std      1732.161423\n",
       "min         0.000000\n",
       "25%      1588.000000\n",
       "50%      2576.359551\n",
       "75%      2576.359551\n",
       "max      7575.000000\n",
       "Name: Brebeuf, dtype: float64"
      ]
     },
     "execution_count": 20,
     "metadata": {},
     "output_type": "execute_result"
    }
   ],
   "source": [
    "d['Brebeuf'].describe()"
   ]
  },
  {
   "cell_type": "code",
   "execution_count": 21,
   "metadata": {},
   "outputs": [
    {
     "data": {
      "image/png": "[encoded data removed]",
      "text/plain": [
       "<Figure size 432x288 with 1 Axes>"
      ]
     },
     "metadata": {
      "needs_background": "light"
     },
     "output_type": "display_data"
    }
   ],
   "source": [
    "plt.hist(d.Brebeuf, bins=30);"
   ]
  },
  {
   "cell_type": "code",
   "execution_count": 22,
   "metadata": {},
   "outputs": [
    {
     "data": {
      "text/html": [
       "<div>\n",
       "<style scoped>\n",
       "    .dataframe tbody tr th:only-of-type {\n",
       "        vertical-align: middle;\n",
       "    }\n",
       "\n",
       "    .dataframe tbody tr th {\n",
       "        vertical-align: top;\n",
       "    }\n",
       "\n",
       "    .dataframe thead th {\n",
       "        text-align: right;\n",
       "    }\n",
       "</style>\n",
       "<table border=\"1\" class=\"dataframe\">\n",
       "  <thead>\n",
       "    <tr style=\"text-align: right;\">\n",
       "      <th></th>\n",
       "      <th>Berri</th>\n",
       "      <th>Mneuve1</th>\n",
       "      <th>Mneuve2</th>\n",
       "      <th>Brebeuf</th>\n",
       "    </tr>\n",
       "    <tr>\n",
       "      <th>Date</th>\n",
       "      <th></th>\n",
       "      <th></th>\n",
       "      <th></th>\n",
       "      <th></th>\n",
       "    </tr>\n",
       "  </thead>\n",
       "  <tbody>\n",
       "    <tr>\n",
       "      <td>2009-01-01</td>\n",
       "      <td>29</td>\n",
       "      <td>20</td>\n",
       "      <td>35</td>\n",
       "      <td>2576.359551</td>\n",
       "    </tr>\n",
       "    <tr>\n",
       "      <td>2009-02-01</td>\n",
       "      <td>19</td>\n",
       "      <td>3</td>\n",
       "      <td>22</td>\n",
       "      <td>2576.359551</td>\n",
       "    </tr>\n",
       "    <tr>\n",
       "      <td>2009-03-01</td>\n",
       "      <td>24</td>\n",
       "      <td>12</td>\n",
       "      <td>22</td>\n",
       "      <td>2576.359551</td>\n",
       "    </tr>\n",
       "    <tr>\n",
       "      <td>2009-04-01</td>\n",
       "      <td>24</td>\n",
       "      <td>8</td>\n",
       "      <td>15</td>\n",
       "      <td>2576.359551</td>\n",
       "    </tr>\n",
       "    <tr>\n",
       "      <td>2009-05-01</td>\n",
       "      <td>120</td>\n",
       "      <td>111</td>\n",
       "      <td>141</td>\n",
       "      <td>2576.359551</td>\n",
       "    </tr>\n",
       "    <tr>\n",
       "      <td>...</td>\n",
       "      <td>...</td>\n",
       "      <td>...</td>\n",
       "      <td>...</td>\n",
       "      <td>...</td>\n",
       "    </tr>\n",
       "    <tr>\n",
       "      <td>2009-12-27</td>\n",
       "      <td>66</td>\n",
       "      <td>29</td>\n",
       "      <td>52</td>\n",
       "      <td>0.000000</td>\n",
       "    </tr>\n",
       "    <tr>\n",
       "      <td>2009-12-28</td>\n",
       "      <td>61</td>\n",
       "      <td>41</td>\n",
       "      <td>99</td>\n",
       "      <td>0.000000</td>\n",
       "    </tr>\n",
       "    <tr>\n",
       "      <td>2009-12-29</td>\n",
       "      <td>89</td>\n",
       "      <td>52</td>\n",
       "      <td>115</td>\n",
       "      <td>0.000000</td>\n",
       "    </tr>\n",
       "    <tr>\n",
       "      <td>2009-12-30</td>\n",
       "      <td>76</td>\n",
       "      <td>43</td>\n",
       "      <td>115</td>\n",
       "      <td>0.000000</td>\n",
       "    </tr>\n",
       "    <tr>\n",
       "      <td>2009-12-31</td>\n",
       "      <td>53</td>\n",
       "      <td>46</td>\n",
       "      <td>112</td>\n",
       "      <td>0.000000</td>\n",
       "    </tr>\n",
       "  </tbody>\n",
       "</table>\n",
       "<p>365 rows × 4 columns</p>\n",
       "</div>"
      ],
      "text/plain": [
       "            Berri  Mneuve1  Mneuve2      Brebeuf\n",
       "Date                                            \n",
       "2009-01-01     29       20       35  2576.359551\n",
       "2009-02-01     19        3       22  2576.359551\n",
       "2009-03-01     24       12       22  2576.359551\n",
       "2009-04-01     24        8       15  2576.359551\n",
       "2009-05-01    120      111      141  2576.359551\n",
       "...           ...      ...      ...          ...\n",
       "2009-12-27     66       29       52     0.000000\n",
       "2009-12-28     61       41       99     0.000000\n",
       "2009-12-29     89       52      115     0.000000\n",
       "2009-12-30     76       43      115     0.000000\n",
       "2009-12-31     53       46      112     0.000000\n",
       "\n",
       "[365 rows x 4 columns]"
      ]
     },
     "execution_count": 22,
     "metadata": {},
     "output_type": "execute_result"
    }
   ],
   "source": [
    "d"
   ]
  },
  {
   "cell_type": "markdown",
   "metadata": {},
   "source": [
    "let's make sure it is sorted"
   ]
  },
  {
   "cell_type": "code",
   "execution_count": 23,
   "metadata": {},
   "outputs": [
    {
     "data": {
      "text/html": [
       "<div>\n",
       "<style scoped>\n",
       "    .dataframe tbody tr th:only-of-type {\n",
       "        vertical-align: middle;\n",
       "    }\n",
       "\n",
       "    .dataframe tbody tr th {\n",
       "        vertical-align: top;\n",
       "    }\n",
       "\n",
       "    .dataframe thead th {\n",
       "        text-align: right;\n",
       "    }\n",
       "</style>\n",
       "<table border=\"1\" class=\"dataframe\">\n",
       "  <thead>\n",
       "    <tr style=\"text-align: right;\">\n",
       "      <th></th>\n",
       "      <th>Berri</th>\n",
       "      <th>Mneuve1</th>\n",
       "      <th>Mneuve2</th>\n",
       "      <th>Brebeuf</th>\n",
       "    </tr>\n",
       "    <tr>\n",
       "      <th>Date</th>\n",
       "      <th></th>\n",
       "      <th></th>\n",
       "      <th></th>\n",
       "      <th></th>\n",
       "    </tr>\n",
       "  </thead>\n",
       "  <tbody>\n",
       "    <tr>\n",
       "      <td>2009-01-01</td>\n",
       "      <td>29</td>\n",
       "      <td>20</td>\n",
       "      <td>35</td>\n",
       "      <td>2576.359551</td>\n",
       "    </tr>\n",
       "    <tr>\n",
       "      <td>2009-01-02</td>\n",
       "      <td>14</td>\n",
       "      <td>2</td>\n",
       "      <td>2</td>\n",
       "      <td>2576.359551</td>\n",
       "    </tr>\n",
       "    <tr>\n",
       "      <td>2009-01-03</td>\n",
       "      <td>67</td>\n",
       "      <td>30</td>\n",
       "      <td>80</td>\n",
       "      <td>2576.359551</td>\n",
       "    </tr>\n",
       "    <tr>\n",
       "      <td>2009-01-04</td>\n",
       "      <td>0</td>\n",
       "      <td>0</td>\n",
       "      <td>0</td>\n",
       "      <td>2576.359551</td>\n",
       "    </tr>\n",
       "    <tr>\n",
       "      <td>2009-01-05</td>\n",
       "      <td>1925</td>\n",
       "      <td>1256</td>\n",
       "      <td>1501</td>\n",
       "      <td>2576.359551</td>\n",
       "    </tr>\n",
       "  </tbody>\n",
       "</table>\n",
       "</div>"
      ],
      "text/plain": [
       "            Berri  Mneuve1  Mneuve2      Brebeuf\n",
       "Date                                            \n",
       "2009-01-01     29       20       35  2576.359551\n",
       "2009-01-02     14        2        2  2576.359551\n",
       "2009-01-03     67       30       80  2576.359551\n",
       "2009-01-04      0        0        0  2576.359551\n",
       "2009-01-05   1925     1256     1501  2576.359551"
      ]
     },
     "execution_count": 23,
     "metadata": {},
     "output_type": "execute_result"
    }
   ],
   "source": [
    "d.sort_index(inplace=True)\n",
    "d.head()"
   ]
  },
  {
   "cell_type": "markdown",
   "metadata": {},
   "source": [
    "## Filtering"
   ]
  },
  {
   "cell_type": "code",
   "execution_count": 24,
   "metadata": {},
   "outputs": [
    {
     "data": {
      "text/html": [
       "<div>\n",
       "<style scoped>\n",
       "    .dataframe tbody tr th:only-of-type {\n",
       "        vertical-align: middle;\n",
       "    }\n",
       "\n",
       "    .dataframe tbody tr th {\n",
       "        vertical-align: top;\n",
       "    }\n",
       "\n",
       "    .dataframe thead th {\n",
       "        text-align: right;\n",
       "    }\n",
       "</style>\n",
       "<table border=\"1\" class=\"dataframe\">\n",
       "  <thead>\n",
       "    <tr style=\"text-align: right;\">\n",
       "      <th></th>\n",
       "      <th>Berri</th>\n",
       "      <th>Mneuve1</th>\n",
       "      <th>Mneuve2</th>\n",
       "      <th>Brebeuf</th>\n",
       "    </tr>\n",
       "    <tr>\n",
       "      <th>Date</th>\n",
       "      <th></th>\n",
       "      <th></th>\n",
       "      <th></th>\n",
       "      <th></th>\n",
       "    </tr>\n",
       "  </thead>\n",
       "  <tbody>\n",
       "    <tr>\n",
       "      <td>2009-05-06</td>\n",
       "      <td>6028</td>\n",
       "      <td>4120</td>\n",
       "      <td>4223</td>\n",
       "      <td>2576.359551</td>\n",
       "    </tr>\n",
       "    <tr>\n",
       "      <td>2009-06-17</td>\n",
       "      <td>6320</td>\n",
       "      <td>3388</td>\n",
       "      <td>6047</td>\n",
       "      <td>2576.359551</td>\n",
       "    </tr>\n",
       "    <tr>\n",
       "      <td>2009-07-15</td>\n",
       "      <td>6100</td>\n",
       "      <td>3767</td>\n",
       "      <td>5536</td>\n",
       "      <td>6939.000000</td>\n",
       "    </tr>\n",
       "    <tr>\n",
       "      <td>2009-09-07</td>\n",
       "      <td>6626</td>\n",
       "      <td>4227</td>\n",
       "      <td>5751</td>\n",
       "      <td>7575.000000</td>\n",
       "    </tr>\n",
       "    <tr>\n",
       "      <td>2009-10-07</td>\n",
       "      <td>6274</td>\n",
       "      <td>4242</td>\n",
       "      <td>5435</td>\n",
       "      <td>7268.000000</td>\n",
       "    </tr>\n",
       "  </tbody>\n",
       "</table>\n",
       "</div>"
      ],
      "text/plain": [
       "            Berri  Mneuve1  Mneuve2      Brebeuf\n",
       "Date                                            \n",
       "2009-05-06   6028     4120     4223  2576.359551\n",
       "2009-06-17   6320     3388     6047  2576.359551\n",
       "2009-07-15   6100     3767     5536  6939.000000\n",
       "2009-09-07   6626     4227     5751  7575.000000\n",
       "2009-10-07   6274     4242     5435  7268.000000"
      ]
     },
     "execution_count": 24,
     "metadata": {},
     "output_type": "execute_result"
    }
   ],
   "source": [
    "d[d.Berri>6000]\n"
   ]
  },
  {
   "cell_type": "code",
   "execution_count": 25,
   "metadata": {},
   "outputs": [
    {
     "data": {
      "text/html": [
       "<div>\n",
       "<style scoped>\n",
       "    .dataframe tbody tr th:only-of-type {\n",
       "        vertical-align: middle;\n",
       "    }\n",
       "\n",
       "    .dataframe tbody tr th {\n",
       "        vertical-align: top;\n",
       "    }\n",
       "\n",
       "    .dataframe thead th {\n",
       "        text-align: right;\n",
       "    }\n",
       "</style>\n",
       "<table border=\"1\" class=\"dataframe\">\n",
       "  <thead>\n",
       "    <tr style=\"text-align: right;\">\n",
       "      <th></th>\n",
       "      <th>Berri</th>\n",
       "      <th>Mneuve1</th>\n",
       "      <th>Mneuve2</th>\n",
       "      <th>Brebeuf</th>\n",
       "    </tr>\n",
       "    <tr>\n",
       "      <th>Date</th>\n",
       "      <th></th>\n",
       "      <th></th>\n",
       "      <th></th>\n",
       "      <th></th>\n",
       "    </tr>\n",
       "  </thead>\n",
       "  <tbody>\n",
       "    <tr>\n",
       "      <td>2009-05-06</td>\n",
       "      <td>6028</td>\n",
       "      <td>4120</td>\n",
       "      <td>4223</td>\n",
       "      <td>2576.359551</td>\n",
       "    </tr>\n",
       "    <tr>\n",
       "      <td>2009-06-17</td>\n",
       "      <td>6320</td>\n",
       "      <td>3388</td>\n",
       "      <td>6047</td>\n",
       "      <td>2576.359551</td>\n",
       "    </tr>\n",
       "    <tr>\n",
       "      <td>2009-07-15</td>\n",
       "      <td>6100</td>\n",
       "      <td>3767</td>\n",
       "      <td>5536</td>\n",
       "      <td>6939.000000</td>\n",
       "    </tr>\n",
       "  </tbody>\n",
       "</table>\n",
       "</div>"
      ],
      "text/plain": [
       "            Berri  Mneuve1  Mneuve2      Brebeuf\n",
       "Date                                            \n",
       "2009-05-06   6028     4120     4223  2576.359551\n",
       "2009-06-17   6320     3388     6047  2576.359551\n",
       "2009-07-15   6100     3767     5536  6939.000000"
      ]
     },
     "execution_count": 25,
     "metadata": {},
     "output_type": "execute_result"
    }
   ],
   "source": [
    "d[(d.Berri>6000) & (d.Brebeuf<7000)]\n"
   ]
  },
  {
   "cell_type": "markdown",
   "metadata": {},
   "source": [
    "## Locating"
   ]
  },
  {
   "cell_type": "code",
   "execution_count": 26,
   "metadata": {},
   "outputs": [
    {
     "data": {
      "text/html": [
       "<div>\n",
       "<style scoped>\n",
       "    .dataframe tbody tr th:only-of-type {\n",
       "        vertical-align: middle;\n",
       "    }\n",
       "\n",
       "    .dataframe tbody tr th {\n",
       "        vertical-align: top;\n",
       "    }\n",
       "\n",
       "    .dataframe thead th {\n",
       "        text-align: right;\n",
       "    }\n",
       "</style>\n",
       "<table border=\"1\" class=\"dataframe\">\n",
       "  <thead>\n",
       "    <tr style=\"text-align: right;\">\n",
       "      <th></th>\n",
       "      <th>Berri</th>\n",
       "      <th>Mneuve1</th>\n",
       "      <th>Mneuve2</th>\n",
       "      <th>Brebeuf</th>\n",
       "    </tr>\n",
       "    <tr>\n",
       "      <th>Date</th>\n",
       "      <th></th>\n",
       "      <th></th>\n",
       "      <th></th>\n",
       "      <th></th>\n",
       "    </tr>\n",
       "  </thead>\n",
       "  <tbody>\n",
       "    <tr>\n",
       "      <td>2009-03-08</td>\n",
       "      <td>5904</td>\n",
       "      <td>3102</td>\n",
       "      <td>4853</td>\n",
       "      <td>7194.000000</td>\n",
       "    </tr>\n",
       "    <tr>\n",
       "      <td>2009-05-06</td>\n",
       "      <td>6028</td>\n",
       "      <td>4120</td>\n",
       "      <td>4223</td>\n",
       "      <td>2576.359551</td>\n",
       "    </tr>\n",
       "    <tr>\n",
       "      <td>2009-05-08</td>\n",
       "      <td>5611</td>\n",
       "      <td>2646</td>\n",
       "      <td>5201</td>\n",
       "      <td>7121.000000</td>\n",
       "    </tr>\n",
       "    <tr>\n",
       "      <td>2009-05-21</td>\n",
       "      <td>5728</td>\n",
       "      <td>3693</td>\n",
       "      <td>5397</td>\n",
       "      <td>2576.359551</td>\n",
       "    </tr>\n",
       "    <tr>\n",
       "      <td>2009-06-16</td>\n",
       "      <td>5668</td>\n",
       "      <td>3499</td>\n",
       "      <td>5609</td>\n",
       "      <td>2576.359551</td>\n",
       "    </tr>\n",
       "    <tr>\n",
       "      <td>2009-06-17</td>\n",
       "      <td>6320</td>\n",
       "      <td>3388</td>\n",
       "      <td>6047</td>\n",
       "      <td>2576.359551</td>\n",
       "    </tr>\n",
       "    <tr>\n",
       "      <td>2009-06-23</td>\n",
       "      <td>5799</td>\n",
       "      <td>3114</td>\n",
       "      <td>5386</td>\n",
       "      <td>2576.359551</td>\n",
       "    </tr>\n",
       "    <tr>\n",
       "      <td>2009-07-15</td>\n",
       "      <td>6100</td>\n",
       "      <td>3767</td>\n",
       "      <td>5536</td>\n",
       "      <td>6939.000000</td>\n",
       "    </tr>\n",
       "    <tr>\n",
       "      <td>2009-07-20</td>\n",
       "      <td>5607</td>\n",
       "      <td>3825</td>\n",
       "      <td>5092</td>\n",
       "      <td>7064.000000</td>\n",
       "    </tr>\n",
       "    <tr>\n",
       "      <td>2009-07-21</td>\n",
       "      <td>5754</td>\n",
       "      <td>3745</td>\n",
       "      <td>5357</td>\n",
       "      <td>6996.000000</td>\n",
       "    </tr>\n",
       "    <tr>\n",
       "      <td>2009-07-28</td>\n",
       "      <td>5891</td>\n",
       "      <td>3292</td>\n",
       "      <td>5437</td>\n",
       "      <td>7219.000000</td>\n",
       "    </tr>\n",
       "    <tr>\n",
       "      <td>2009-09-07</td>\n",
       "      <td>6626</td>\n",
       "      <td>4227</td>\n",
       "      <td>5751</td>\n",
       "      <td>7575.000000</td>\n",
       "    </tr>\n",
       "    <tr>\n",
       "      <td>2009-09-09</td>\n",
       "      <td>5575</td>\n",
       "      <td>2727</td>\n",
       "      <td>6535</td>\n",
       "      <td>6686.000000</td>\n",
       "    </tr>\n",
       "    <tr>\n",
       "      <td>2009-10-07</td>\n",
       "      <td>6274</td>\n",
       "      <td>4242</td>\n",
       "      <td>5435</td>\n",
       "      <td>7268.000000</td>\n",
       "    </tr>\n",
       "    <tr>\n",
       "      <td>2009-12-08</td>\n",
       "      <td>5538</td>\n",
       "      <td>2368</td>\n",
       "      <td>5107</td>\n",
       "      <td>7127.000000</td>\n",
       "    </tr>\n",
       "  </tbody>\n",
       "</table>\n",
       "</div>"
      ],
      "text/plain": [
       "            Berri  Mneuve1  Mneuve2      Brebeuf\n",
       "Date                                            \n",
       "2009-03-08   5904     3102     4853  7194.000000\n",
       "2009-05-06   6028     4120     4223  2576.359551\n",
       "2009-05-08   5611     2646     5201  7121.000000\n",
       "2009-05-21   5728     3693     5397  2576.359551\n",
       "2009-06-16   5668     3499     5609  2576.359551\n",
       "2009-06-17   6320     3388     6047  2576.359551\n",
       "2009-06-23   5799     3114     5386  2576.359551\n",
       "2009-07-15   6100     3767     5536  6939.000000\n",
       "2009-07-20   5607     3825     5092  7064.000000\n",
       "2009-07-21   5754     3745     5357  6996.000000\n",
       "2009-07-28   5891     3292     5437  7219.000000\n",
       "2009-09-07   6626     4227     5751  7575.000000\n",
       "2009-09-09   5575     2727     6535  6686.000000\n",
       "2009-10-07   6274     4242     5435  7268.000000\n",
       "2009-12-08   5538     2368     5107  7127.000000"
      ]
     },
     "execution_count": 26,
     "metadata": {},
     "output_type": "execute_result"
    }
   ],
   "source": [
    "d[d.Berri>5500].sort_index(axis=0)\n"
   ]
  },
  {
   "cell_type": "code",
   "execution_count": 27,
   "metadata": {},
   "outputs": [
    {
     "data": {
      "text/html": [
       "<div>\n",
       "<style scoped>\n",
       "    .dataframe tbody tr th:only-of-type {\n",
       "        vertical-align: middle;\n",
       "    }\n",
       "\n",
       "    .dataframe tbody tr th {\n",
       "        vertical-align: top;\n",
       "    }\n",
       "\n",
       "    .dataframe thead th {\n",
       "        text-align: right;\n",
       "    }\n",
       "</style>\n",
       "<table border=\"1\" class=\"dataframe\">\n",
       "  <thead>\n",
       "    <tr style=\"text-align: right;\">\n",
       "      <th></th>\n",
       "      <th>Berri</th>\n",
       "      <th>Mneuve1</th>\n",
       "      <th>Mneuve2</th>\n",
       "      <th>Brebeuf</th>\n",
       "    </tr>\n",
       "    <tr>\n",
       "      <th>Date</th>\n",
       "      <th></th>\n",
       "      <th></th>\n",
       "      <th></th>\n",
       "      <th></th>\n",
       "    </tr>\n",
       "  </thead>\n",
       "  <tbody>\n",
       "    <tr>\n",
       "      <td>2009-04-11</td>\n",
       "      <td>1974</td>\n",
       "      <td>1113</td>\n",
       "      <td>2693</td>\n",
       "      <td>1046.000000</td>\n",
       "    </tr>\n",
       "    <tr>\n",
       "      <td>2009-04-12</td>\n",
       "      <td>1108</td>\n",
       "      <td>595</td>\n",
       "      <td>1472</td>\n",
       "      <td>0.000000</td>\n",
       "    </tr>\n",
       "    <tr>\n",
       "      <td>2009-04-13</td>\n",
       "      <td>0</td>\n",
       "      <td>0</td>\n",
       "      <td>0</td>\n",
       "      <td>2576.359551</td>\n",
       "    </tr>\n",
       "    <tr>\n",
       "      <td>2009-04-14</td>\n",
       "      <td>0</td>\n",
       "      <td>0</td>\n",
       "      <td>0</td>\n",
       "      <td>2576.359551</td>\n",
       "    </tr>\n",
       "    <tr>\n",
       "      <td>2009-04-15</td>\n",
       "      <td>0</td>\n",
       "      <td>0</td>\n",
       "      <td>0</td>\n",
       "      <td>2576.359551</td>\n",
       "    </tr>\n",
       "    <tr>\n",
       "      <td>2009-04-16</td>\n",
       "      <td>0</td>\n",
       "      <td>0</td>\n",
       "      <td>0</td>\n",
       "      <td>2576.359551</td>\n",
       "    </tr>\n",
       "    <tr>\n",
       "      <td>2009-04-17</td>\n",
       "      <td>1286</td>\n",
       "      <td>820</td>\n",
       "      <td>1436</td>\n",
       "      <td>2576.359551</td>\n",
       "    </tr>\n",
       "    <tr>\n",
       "      <td>2009-04-18</td>\n",
       "      <td>1178</td>\n",
       "      <td>667</td>\n",
       "      <td>826</td>\n",
       "      <td>2576.359551</td>\n",
       "    </tr>\n",
       "    <tr>\n",
       "      <td>2009-04-19</td>\n",
       "      <td>2131</td>\n",
       "      <td>1155</td>\n",
       "      <td>1426</td>\n",
       "      <td>2576.359551</td>\n",
       "    </tr>\n",
       "    <tr>\n",
       "      <td>2009-04-20</td>\n",
       "      <td>2709</td>\n",
       "      <td>1697</td>\n",
       "      <td>2646</td>\n",
       "      <td>2576.359551</td>\n",
       "    </tr>\n",
       "  </tbody>\n",
       "</table>\n",
       "</div>"
      ],
      "text/plain": [
       "            Berri  Mneuve1  Mneuve2      Brebeuf\n",
       "Date                                            \n",
       "2009-04-11   1974     1113     2693  1046.000000\n",
       "2009-04-12   1108      595     1472     0.000000\n",
       "2009-04-13      0        0        0  2576.359551\n",
       "2009-04-14      0        0        0  2576.359551\n",
       "2009-04-15      0        0        0  2576.359551\n",
       "2009-04-16      0        0        0  2576.359551\n",
       "2009-04-17   1286      820     1436  2576.359551\n",
       "2009-04-18   1178      667      826  2576.359551\n",
       "2009-04-19   2131     1155     1426  2576.359551\n",
       "2009-04-20   2709     1697     2646  2576.359551"
      ]
     },
     "execution_count": 27,
     "metadata": {},
     "output_type": "execute_result"
    }
   ],
   "source": [
    "d.iloc[100:110]\n"
   ]
  },
  {
   "cell_type": "markdown",
   "metadata": {},
   "source": [
    "**dates as INDEX have special semantics**"
   ]
  },
  {
   "cell_type": "code",
   "execution_count": 28,
   "metadata": {},
   "outputs": [
    {
     "data": {
      "text/html": [
       "<div>\n",
       "<style scoped>\n",
       "    .dataframe tbody tr th:only-of-type {\n",
       "        vertical-align: middle;\n",
       "    }\n",
       "\n",
       "    .dataframe tbody tr th {\n",
       "        vertical-align: top;\n",
       "    }\n",
       "\n",
       "    .dataframe thead th {\n",
       "        text-align: right;\n",
       "    }\n",
       "</style>\n",
       "<table border=\"1\" class=\"dataframe\">\n",
       "  <thead>\n",
       "    <tr style=\"text-align: right;\">\n",
       "      <th></th>\n",
       "      <th>Berri</th>\n",
       "      <th>Mneuve1</th>\n",
       "      <th>Mneuve2</th>\n",
       "      <th>Brebeuf</th>\n",
       "    </tr>\n",
       "    <tr>\n",
       "      <th>Date</th>\n",
       "      <th></th>\n",
       "      <th></th>\n",
       "      <th></th>\n",
       "      <th></th>\n",
       "    </tr>\n",
       "  </thead>\n",
       "  <tbody>\n",
       "    <tr>\n",
       "      <td>2009-10-01</td>\n",
       "      <td>81</td>\n",
       "      <td>45</td>\n",
       "      <td>79</td>\n",
       "      <td>2576.359551</td>\n",
       "    </tr>\n",
       "    <tr>\n",
       "      <td>2009-10-02</td>\n",
       "      <td>228</td>\n",
       "      <td>101</td>\n",
       "      <td>260</td>\n",
       "      <td>2576.359551</td>\n",
       "    </tr>\n",
       "    <tr>\n",
       "      <td>2009-10-03</td>\n",
       "      <td>366</td>\n",
       "      <td>203</td>\n",
       "      <td>354</td>\n",
       "      <td>2576.359551</td>\n",
       "    </tr>\n",
       "    <tr>\n",
       "      <td>2009-10-04</td>\n",
       "      <td>0</td>\n",
       "      <td>0</td>\n",
       "      <td>0</td>\n",
       "      <td>2576.359551</td>\n",
       "    </tr>\n",
       "    <tr>\n",
       "      <td>2009-10-05</td>\n",
       "      <td>728</td>\n",
       "      <td>362</td>\n",
       "      <td>523</td>\n",
       "      <td>2576.359551</td>\n",
       "    </tr>\n",
       "    <tr>\n",
       "      <td>2009-10-06</td>\n",
       "      <td>3460</td>\n",
       "      <td>2354</td>\n",
       "      <td>3978</td>\n",
       "      <td>2576.359551</td>\n",
       "    </tr>\n",
       "    <tr>\n",
       "      <td>2009-10-07</td>\n",
       "      <td>6274</td>\n",
       "      <td>4242</td>\n",
       "      <td>5435</td>\n",
       "      <td>7268.000000</td>\n",
       "    </tr>\n",
       "    <tr>\n",
       "      <td>2009-10-08</td>\n",
       "      <td>2999</td>\n",
       "      <td>1545</td>\n",
       "      <td>3185</td>\n",
       "      <td>4187.000000</td>\n",
       "    </tr>\n",
       "    <tr>\n",
       "      <td>2009-10-09</td>\n",
       "      <td>5496</td>\n",
       "      <td>2921</td>\n",
       "      <td>6587</td>\n",
       "      <td>6520.000000</td>\n",
       "    </tr>\n",
       "    <tr>\n",
       "      <td>2009-10-10</td>\n",
       "      <td>1407</td>\n",
       "      <td>725</td>\n",
       "      <td>1443</td>\n",
       "      <td>1003.000000</td>\n",
       "    </tr>\n",
       "  </tbody>\n",
       "</table>\n",
       "</div>"
      ],
      "text/plain": [
       "            Berri  Mneuve1  Mneuve2      Brebeuf\n",
       "Date                                            \n",
       "2009-10-01     81       45       79  2576.359551\n",
       "2009-10-02    228      101      260  2576.359551\n",
       "2009-10-03    366      203      354  2576.359551\n",
       "2009-10-04      0        0        0  2576.359551\n",
       "2009-10-05    728      362      523  2576.359551\n",
       "2009-10-06   3460     2354     3978  2576.359551\n",
       "2009-10-07   6274     4242     5435  7268.000000\n",
       "2009-10-08   2999     1545     3185  4187.000000\n",
       "2009-10-09   5496     2921     6587  6520.000000\n",
       "2009-10-10   1407      725     1443  1003.000000"
      ]
     },
     "execution_count": 28,
     "metadata": {},
     "output_type": "execute_result"
    }
   ],
   "source": [
    "d.loc[\"2009-10-01\":\"2009-10-10\"]\n"
   ]
  },
  {
   "cell_type": "markdown",
   "metadata": {},
   "source": [
    "can do sorting across any criteria"
   ]
  },
  {
   "cell_type": "code",
   "execution_count": 29,
   "metadata": {},
   "outputs": [
    {
     "data": {
      "text/html": [
       "<div>\n",
       "<style scoped>\n",
       "    .dataframe tbody tr th:only-of-type {\n",
       "        vertical-align: middle;\n",
       "    }\n",
       "\n",
       "    .dataframe tbody tr th {\n",
       "        vertical-align: top;\n",
       "    }\n",
       "\n",
       "    .dataframe thead th {\n",
       "        text-align: right;\n",
       "    }\n",
       "</style>\n",
       "<table border=\"1\" class=\"dataframe\">\n",
       "  <thead>\n",
       "    <tr style=\"text-align: right;\">\n",
       "      <th></th>\n",
       "      <th>Berri</th>\n",
       "      <th>Mneuve1</th>\n",
       "      <th>Mneuve2</th>\n",
       "      <th>Brebeuf</th>\n",
       "    </tr>\n",
       "    <tr>\n",
       "      <th>Date</th>\n",
       "      <th></th>\n",
       "      <th></th>\n",
       "      <th></th>\n",
       "      <th></th>\n",
       "    </tr>\n",
       "  </thead>\n",
       "  <tbody>\n",
       "    <tr>\n",
       "      <td>2009-07-04</td>\n",
       "      <td>0</td>\n",
       "      <td>0</td>\n",
       "      <td>0</td>\n",
       "      <td>2576.359551</td>\n",
       "    </tr>\n",
       "    <tr>\n",
       "      <td>2009-03-30</td>\n",
       "      <td>0</td>\n",
       "      <td>0</td>\n",
       "      <td>0</td>\n",
       "      <td>2576.359551</td>\n",
       "    </tr>\n",
       "    <tr>\n",
       "      <td>2009-04-04</td>\n",
       "      <td>0</td>\n",
       "      <td>0</td>\n",
       "      <td>0</td>\n",
       "      <td>2576.359551</td>\n",
       "    </tr>\n",
       "    <tr>\n",
       "      <td>2009-04-13</td>\n",
       "      <td>0</td>\n",
       "      <td>0</td>\n",
       "      <td>0</td>\n",
       "      <td>2576.359551</td>\n",
       "    </tr>\n",
       "    <tr>\n",
       "      <td>2009-04-14</td>\n",
       "      <td>0</td>\n",
       "      <td>0</td>\n",
       "      <td>0</td>\n",
       "      <td>2576.359551</td>\n",
       "    </tr>\n",
       "  </tbody>\n",
       "</table>\n",
       "</div>"
      ],
      "text/plain": [
       "            Berri  Mneuve1  Mneuve2      Brebeuf\n",
       "Date                                            \n",
       "2009-07-04      0        0        0  2576.359551\n",
       "2009-03-30      0        0        0  2576.359551\n",
       "2009-04-04      0        0        0  2576.359551\n",
       "2009-04-13      0        0        0  2576.359551\n",
       "2009-04-14      0        0        0  2576.359551"
      ]
     },
     "execution_count": 29,
     "metadata": {},
     "output_type": "execute_result"
    }
   ],
   "source": [
    "d.sort_values(by=\"Berri\").head()\n"
   ]
  },
  {
   "cell_type": "markdown",
   "metadata": {},
   "source": [
    "and chain operations"
   ]
  },
  {
   "cell_type": "code",
   "execution_count": 30,
   "metadata": {},
   "outputs": [
    {
     "data": {
      "text/html": [
       "<div>\n",
       "<style scoped>\n",
       "    .dataframe tbody tr th:only-of-type {\n",
       "        vertical-align: middle;\n",
       "    }\n",
       "\n",
       "    .dataframe tbody tr th {\n",
       "        vertical-align: top;\n",
       "    }\n",
       "\n",
       "    .dataframe thead th {\n",
       "        text-align: right;\n",
       "    }\n",
       "</style>\n",
       "<table border=\"1\" class=\"dataframe\">\n",
       "  <thead>\n",
       "    <tr style=\"text-align: right;\">\n",
       "      <th></th>\n",
       "      <th>Berri</th>\n",
       "      <th>Mneuve1</th>\n",
       "      <th>Mneuve2</th>\n",
       "      <th>Brebeuf</th>\n",
       "    </tr>\n",
       "    <tr>\n",
       "      <th>Date</th>\n",
       "      <th></th>\n",
       "      <th></th>\n",
       "      <th></th>\n",
       "      <th></th>\n",
       "    </tr>\n",
       "  </thead>\n",
       "  <tbody>\n",
       "    <tr>\n",
       "      <td>2009-10-04</td>\n",
       "      <td>0</td>\n",
       "      <td>0</td>\n",
       "      <td>0</td>\n",
       "      <td>2576.359551</td>\n",
       "    </tr>\n",
       "    <tr>\n",
       "      <td>2009-10-01</td>\n",
       "      <td>81</td>\n",
       "      <td>45</td>\n",
       "      <td>79</td>\n",
       "      <td>2576.359551</td>\n",
       "    </tr>\n",
       "    <tr>\n",
       "      <td>2009-10-02</td>\n",
       "      <td>228</td>\n",
       "      <td>101</td>\n",
       "      <td>260</td>\n",
       "      <td>2576.359551</td>\n",
       "    </tr>\n",
       "    <tr>\n",
       "      <td>2009-10-03</td>\n",
       "      <td>366</td>\n",
       "      <td>203</td>\n",
       "      <td>354</td>\n",
       "      <td>2576.359551</td>\n",
       "    </tr>\n",
       "    <tr>\n",
       "      <td>2009-10-05</td>\n",
       "      <td>728</td>\n",
       "      <td>362</td>\n",
       "      <td>523</td>\n",
       "      <td>2576.359551</td>\n",
       "    </tr>\n",
       "    <tr>\n",
       "      <td>2009-10-10</td>\n",
       "      <td>1407</td>\n",
       "      <td>725</td>\n",
       "      <td>1443</td>\n",
       "      <td>1003.000000</td>\n",
       "    </tr>\n",
       "    <tr>\n",
       "      <td>2009-10-08</td>\n",
       "      <td>2999</td>\n",
       "      <td>1545</td>\n",
       "      <td>3185</td>\n",
       "      <td>4187.000000</td>\n",
       "    </tr>\n",
       "    <tr>\n",
       "      <td>2009-10-06</td>\n",
       "      <td>3460</td>\n",
       "      <td>2354</td>\n",
       "      <td>3978</td>\n",
       "      <td>2576.359551</td>\n",
       "    </tr>\n",
       "    <tr>\n",
       "      <td>2009-10-09</td>\n",
       "      <td>5496</td>\n",
       "      <td>2921</td>\n",
       "      <td>6587</td>\n",
       "      <td>6520.000000</td>\n",
       "    </tr>\n",
       "    <tr>\n",
       "      <td>2009-10-07</td>\n",
       "      <td>6274</td>\n",
       "      <td>4242</td>\n",
       "      <td>5435</td>\n",
       "      <td>7268.000000</td>\n",
       "    </tr>\n",
       "  </tbody>\n",
       "</table>\n",
       "</div>"
      ],
      "text/plain": [
       "            Berri  Mneuve1  Mneuve2      Brebeuf\n",
       "Date                                            \n",
       "2009-10-04      0        0        0  2576.359551\n",
       "2009-10-01     81       45       79  2576.359551\n",
       "2009-10-02    228      101      260  2576.359551\n",
       "2009-10-03    366      203      354  2576.359551\n",
       "2009-10-05    728      362      523  2576.359551\n",
       "2009-10-10   1407      725     1443  1003.000000\n",
       "2009-10-08   2999     1545     3185  4187.000000\n",
       "2009-10-06   3460     2354     3978  2576.359551\n",
       "2009-10-09   5496     2921     6587  6520.000000\n",
       "2009-10-07   6274     4242     5435  7268.000000"
      ]
     },
     "execution_count": 30,
     "metadata": {},
     "output_type": "execute_result"
    }
   ],
   "source": [
    "d.sort_values(by=\"Berri\").loc[\"2009-10-01\":\"2009-10-10\"]\n"
   ]
  },
  {
   "cell_type": "markdown",
   "metadata": {},
   "source": [
    "# Time series operations"
   ]
  },
  {
   "cell_type": "code",
   "execution_count": 31,
   "metadata": {},
   "outputs": [
    {
     "data": {
      "text/html": [
       "<div>\n",
       "<style scoped>\n",
       "    .dataframe tbody tr th:only-of-type {\n",
       "        vertical-align: middle;\n",
       "    }\n",
       "\n",
       "    .dataframe tbody tr th {\n",
       "        vertical-align: top;\n",
       "    }\n",
       "\n",
       "    .dataframe thead th {\n",
       "        text-align: right;\n",
       "    }\n",
       "</style>\n",
       "<table border=\"1\" class=\"dataframe\">\n",
       "  <thead>\n",
       "    <tr style=\"text-align: right;\">\n",
       "      <th></th>\n",
       "      <th>Berri</th>\n",
       "      <th>Mneuve1</th>\n",
       "      <th>Mneuve2</th>\n",
       "      <th>Brebeuf</th>\n",
       "    </tr>\n",
       "    <tr>\n",
       "      <th>Date</th>\n",
       "      <th></th>\n",
       "      <th></th>\n",
       "      <th></th>\n",
       "      <th></th>\n",
       "    </tr>\n",
       "  </thead>\n",
       "  <tbody>\n",
       "    <tr>\n",
       "      <td>2009-01-01</td>\n",
       "      <td>NaN</td>\n",
       "      <td>NaN</td>\n",
       "      <td>NaN</td>\n",
       "      <td>NaN</td>\n",
       "    </tr>\n",
       "    <tr>\n",
       "      <td>2009-01-02</td>\n",
       "      <td>NaN</td>\n",
       "      <td>NaN</td>\n",
       "      <td>NaN</td>\n",
       "      <td>NaN</td>\n",
       "    </tr>\n",
       "    <tr>\n",
       "      <td>2009-01-03</td>\n",
       "      <td>36.666667</td>\n",
       "      <td>17.333333</td>\n",
       "      <td>39.000000</td>\n",
       "      <td>2576.359551</td>\n",
       "    </tr>\n",
       "    <tr>\n",
       "      <td>2009-01-04</td>\n",
       "      <td>27.000000</td>\n",
       "      <td>10.666667</td>\n",
       "      <td>27.333333</td>\n",
       "      <td>2576.359551</td>\n",
       "    </tr>\n",
       "    <tr>\n",
       "      <td>2009-01-05</td>\n",
       "      <td>664.000000</td>\n",
       "      <td>428.666667</td>\n",
       "      <td>527.000000</td>\n",
       "      <td>2576.359551</td>\n",
       "    </tr>\n",
       "    <tr>\n",
       "      <td>2009-01-06</td>\n",
       "      <td>1733.000000</td>\n",
       "      <td>1116.333333</td>\n",
       "      <td>1409.000000</td>\n",
       "      <td>2576.359551</td>\n",
       "    </tr>\n",
       "    <tr>\n",
       "      <td>2009-01-07</td>\n",
       "      <td>3223.333333</td>\n",
       "      <td>1862.666667</td>\n",
       "      <td>2426.000000</td>\n",
       "      <td>2576.359551</td>\n",
       "    </tr>\n",
       "    <tr>\n",
       "      <td>2009-01-08</td>\n",
       "      <td>2602.666667</td>\n",
       "      <td>1795.000000</td>\n",
       "      <td>3042.666667</td>\n",
       "      <td>3673.906367</td>\n",
       "    </tr>\n",
       "    <tr>\n",
       "      <td>2009-01-09</td>\n",
       "      <td>3277.333333</td>\n",
       "      <td>2029.333333</td>\n",
       "      <td>4055.666667</td>\n",
       "      <td>5128.119850</td>\n",
       "    </tr>\n",
       "    <tr>\n",
       "      <td>2009-01-10</td>\n",
       "      <td>2668.000000</td>\n",
       "      <td>1290.333333</td>\n",
       "      <td>4214.666667</td>\n",
       "      <td>4798.666667</td>\n",
       "    </tr>\n",
       "  </tbody>\n",
       "</table>\n",
       "</div>"
      ],
      "text/plain": [
       "                  Berri      Mneuve1      Mneuve2      Brebeuf\n",
       "Date                                                          \n",
       "2009-01-01          NaN          NaN          NaN          NaN\n",
       "2009-01-02          NaN          NaN          NaN          NaN\n",
       "2009-01-03    36.666667    17.333333    39.000000  2576.359551\n",
       "2009-01-04    27.000000    10.666667    27.333333  2576.359551\n",
       "2009-01-05   664.000000   428.666667   527.000000  2576.359551\n",
       "2009-01-06  1733.000000  1116.333333  1409.000000  2576.359551\n",
       "2009-01-07  3223.333333  1862.666667  2426.000000  2576.359551\n",
       "2009-01-08  2602.666667  1795.000000  3042.666667  3673.906367\n",
       "2009-01-09  3277.333333  2029.333333  4055.666667  5128.119850\n",
       "2009-01-10  2668.000000  1290.333333  4214.666667  4798.666667"
      ]
     },
     "execution_count": 31,
     "metadata": {},
     "output_type": "execute_result"
    }
   ],
   "source": [
    "d.rolling(3).mean().head(10)\n"
   ]
  },
  {
   "cell_type": "code",
   "execution_count": 32,
   "metadata": {},
   "outputs": [
    {
     "data": {
      "text/html": [
       "<div>\n",
       "<style scoped>\n",
       "    .dataframe tbody tr th:only-of-type {\n",
       "        vertical-align: middle;\n",
       "    }\n",
       "\n",
       "    .dataframe tbody tr th {\n",
       "        vertical-align: top;\n",
       "    }\n",
       "\n",
       "    .dataframe thead th {\n",
       "        text-align: right;\n",
       "    }\n",
       "</style>\n",
       "<table border=\"1\" class=\"dataframe\">\n",
       "  <thead>\n",
       "    <tr style=\"text-align: right;\">\n",
       "      <th></th>\n",
       "      <th>Berri</th>\n",
       "      <th>Mneuve1</th>\n",
       "      <th>Mneuve2</th>\n",
       "      <th>Brebeuf</th>\n",
       "    </tr>\n",
       "    <tr>\n",
       "      <th>Date</th>\n",
       "      <th></th>\n",
       "      <th></th>\n",
       "      <th></th>\n",
       "      <th></th>\n",
       "    </tr>\n",
       "  </thead>\n",
       "  <tbody>\n",
       "    <tr>\n",
       "      <td>2009-01-01 00:05:00</td>\n",
       "      <td>29</td>\n",
       "      <td>20</td>\n",
       "      <td>35</td>\n",
       "      <td>2576.359551</td>\n",
       "    </tr>\n",
       "    <tr>\n",
       "      <td>2009-01-02 00:05:00</td>\n",
       "      <td>14</td>\n",
       "      <td>2</td>\n",
       "      <td>2</td>\n",
       "      <td>2576.359551</td>\n",
       "    </tr>\n",
       "    <tr>\n",
       "      <td>2009-01-03 00:05:00</td>\n",
       "      <td>67</td>\n",
       "      <td>30</td>\n",
       "      <td>80</td>\n",
       "      <td>2576.359551</td>\n",
       "    </tr>\n",
       "    <tr>\n",
       "      <td>2009-01-04 00:05:00</td>\n",
       "      <td>0</td>\n",
       "      <td>0</td>\n",
       "      <td>0</td>\n",
       "      <td>2576.359551</td>\n",
       "    </tr>\n",
       "    <tr>\n",
       "      <td>2009-01-05 00:05:00</td>\n",
       "      <td>1925</td>\n",
       "      <td>1256</td>\n",
       "      <td>1501</td>\n",
       "      <td>2576.359551</td>\n",
       "    </tr>\n",
       "  </tbody>\n",
       "</table>\n",
       "</div>"
      ],
      "text/plain": [
       "                     Berri  Mneuve1  Mneuve2      Brebeuf\n",
       "Date                                                     \n",
       "2009-01-01 00:05:00     29       20       35  2576.359551\n",
       "2009-01-02 00:05:00     14        2        2  2576.359551\n",
       "2009-01-03 00:05:00     67       30       80  2576.359551\n",
       "2009-01-04 00:05:00      0        0        0  2576.359551\n",
       "2009-01-05 00:05:00   1925     1256     1501  2576.359551"
      ]
     },
     "execution_count": 32,
     "metadata": {},
     "output_type": "execute_result"
    }
   ],
   "source": [
    "d.index = d.index + pd.Timedelta(\"5m\")\n",
    "d.head()"
   ]
  },
  {
   "cell_type": "code",
   "execution_count": 33,
   "metadata": {},
   "outputs": [
    {
     "data": {
      "text/html": [
       "<div>\n",
       "<style scoped>\n",
       "    .dataframe tbody tr th:only-of-type {\n",
       "        vertical-align: middle;\n",
       "    }\n",
       "\n",
       "    .dataframe tbody tr th {\n",
       "        vertical-align: top;\n",
       "    }\n",
       "\n",
       "    .dataframe thead th {\n",
       "        text-align: right;\n",
       "    }\n",
       "</style>\n",
       "<table border=\"1\" class=\"dataframe\">\n",
       "  <thead>\n",
       "    <tr style=\"text-align: right;\">\n",
       "      <th></th>\n",
       "      <th>Berri</th>\n",
       "      <th>Mneuve1</th>\n",
       "      <th>Mneuve2</th>\n",
       "      <th>Brebeuf</th>\n",
       "    </tr>\n",
       "    <tr>\n",
       "      <th>Date</th>\n",
       "      <th></th>\n",
       "      <th></th>\n",
       "      <th></th>\n",
       "      <th></th>\n",
       "    </tr>\n",
       "  </thead>\n",
       "  <tbody>\n",
       "    <tr>\n",
       "      <td>2010-01-01 00:05:00</td>\n",
       "      <td>29</td>\n",
       "      <td>20</td>\n",
       "      <td>35</td>\n",
       "      <td>2576.359551</td>\n",
       "    </tr>\n",
       "    <tr>\n",
       "      <td>2010-01-02 00:05:00</td>\n",
       "      <td>14</td>\n",
       "      <td>2</td>\n",
       "      <td>2</td>\n",
       "      <td>2576.359551</td>\n",
       "    </tr>\n",
       "    <tr>\n",
       "      <td>2010-01-03 00:05:00</td>\n",
       "      <td>67</td>\n",
       "      <td>30</td>\n",
       "      <td>80</td>\n",
       "      <td>2576.359551</td>\n",
       "    </tr>\n",
       "    <tr>\n",
       "      <td>2010-01-04 00:05:00</td>\n",
       "      <td>0</td>\n",
       "      <td>0</td>\n",
       "      <td>0</td>\n",
       "      <td>2576.359551</td>\n",
       "    </tr>\n",
       "    <tr>\n",
       "      <td>2010-01-05 00:05:00</td>\n",
       "      <td>1925</td>\n",
       "      <td>1256</td>\n",
       "      <td>1501</td>\n",
       "      <td>2576.359551</td>\n",
       "    </tr>\n",
       "  </tbody>\n",
       "</table>\n",
       "</div>"
      ],
      "text/plain": [
       "                     Berri  Mneuve1  Mneuve2      Brebeuf\n",
       "Date                                                     \n",
       "2010-01-01 00:05:00     29       20       35  2576.359551\n",
       "2010-01-02 00:05:00     14        2        2  2576.359551\n",
       "2010-01-03 00:05:00     67       30       80  2576.359551\n",
       "2010-01-04 00:05:00      0        0        0  2576.359551\n",
       "2010-01-05 00:05:00   1925     1256     1501  2576.359551"
      ]
     },
     "execution_count": 33,
     "metadata": {},
     "output_type": "execute_result"
    }
   ],
   "source": [
    "d.shift(freq=pd.Timedelta(days=365)).head()\n"
   ]
  },
  {
   "cell_type": "markdown",
   "metadata": {},
   "source": [
    "## Downsampling"
   ]
  },
  {
   "cell_type": "code",
   "execution_count": 155,
   "metadata": {},
   "outputs": [],
   "source": [
    "d.resample(pd.Timedelta(\"2d\")).first().head()\n"
   ]
  },
  {
   "cell_type": "code",
   "execution_count": 156,
   "metadata": {},
   "outputs": [],
   "source": [
    "d.resample(pd.Timedelta(\"2d\")).mean().head()\n"
   ]
  },
  {
   "cell_type": "markdown",
   "metadata": {},
   "source": [
    "## Upsampling"
   ]
  },
  {
   "cell_type": "code",
   "execution_count": 157,
   "metadata": {},
   "outputs": [],
   "source": [
    "d.resample(pd.Timedelta(\"12h\")).first().head()\n"
   ]
  },
  {
   "cell_type": "code",
   "execution_count": 158,
   "metadata": {},
   "outputs": [],
   "source": [
    "d.resample(pd.Timedelta(\"12h\")).fillna(method=\"pad\").head()\n"
   ]
  },
  {
   "cell_type": "markdown",
   "metadata": {},
   "source": [
    "## Building Dataframes from other structures"
   ]
  },
  {
   "cell_type": "code",
   "execution_count": 160,
   "metadata": {},
   "outputs": [],
   "source": [
    "\n",
    "a = np.random.randint(10,size=(20,5))\n",
    "a"
   ]
  },
  {
   "cell_type": "code",
   "execution_count": 161,
   "metadata": {},
   "outputs": [],
   "source": [
    "k = pd.DataFrame(a, columns=[\"uno\", \"dos\", \"tres\", \"cuatro\", \"cinco\"], index=range(10,10+len(a)))\n",
    "k"
   ]
  },
  {
   "cell_type": "markdown",
   "metadata": {},
   "source": [
    "## `.values` access the underlying `numpy` structure"
   ]
  },
  {
   "cell_type": "code",
   "execution_count": 34,
   "metadata": {},
   "outputs": [
    {
     "data": {
      "text/plain": [
       "array([[2.90000000e+01, 2.00000000e+01, 3.50000000e+01, 2.57635955e+03],\n",
       "       [1.40000000e+01, 2.00000000e+00, 2.00000000e+00, 2.57635955e+03],\n",
       "       [6.70000000e+01, 3.00000000e+01, 8.00000000e+01, 2.57635955e+03],\n",
       "       ...,\n",
       "       [8.90000000e+01, 5.20000000e+01, 1.15000000e+02, 0.00000000e+00],\n",
       "       [7.60000000e+01, 4.30000000e+01, 1.15000000e+02, 0.00000000e+00],\n",
       "       [5.30000000e+01, 4.60000000e+01, 1.12000000e+02, 0.00000000e+00]])"
      ]
     },
     "execution_count": 34,
     "metadata": {},
     "output_type": "execute_result"
    }
   ],
   "source": [
    "d.values"
   ]
  },
  {
   "cell_type": "markdown",
   "metadata": {},
   "source": [
    "## some out-of-the-box plotting\n",
    "\n",
    "but recall that we always can do custom plotting"
   ]
  },
  {
   "cell_type": "code",
   "execution_count": 163,
   "metadata": {},
   "outputs": [],
   "source": [
    "d.plot(figsize=(15,3))\n"
   ]
  },
  {
   "cell_type": "code",
   "execution_count": 165,
   "metadata": {},
   "outputs": [],
   "source": [
    "plt.figure(figsize=(15,3))\n",
    "plt.plot(d.Berri)"
   ]
  },
  {
   "cell_type": "code",
   "execution_count": 166,
   "metadata": {},
   "outputs": [],
   "source": [
    "d.Berri.cumsum().plot()\n"
   ]
  },
  {
   "cell_type": "code",
   "execution_count": 167,
   "metadata": {},
   "outputs": [],
   "source": [
    "plt.scatter(d.Berri, d.Brebeuf)\n"
   ]
  },
  {
   "cell_type": "code",
   "execution_count": 168,
   "metadata": {},
   "outputs": [],
   "source": [
    "pd.plotting.scatter_matrix(d, figsize=(10,10));"
   ]
  },
  {
   "cell_type": "markdown",
   "metadata": {},
   "source": [
    "## Grouping"
   ]
  },
  {
   "cell_type": "code",
   "execution_count": 169,
   "metadata": {},
   "outputs": [],
   "source": [
    "\n",
    "d[\"month\"] = [i.month for i in d.index]\n",
    "d.head()"
   ]
  },
  {
   "cell_type": "code",
   "execution_count": 170,
   "metadata": {},
   "outputs": [],
   "source": [
    "d.groupby(\"month\").max()\n"
   ]
  },
  {
   "cell_type": "code",
   "execution_count": 171,
   "metadata": {},
   "outputs": [],
   "source": [
    "d.groupby(\"month\").count()\n"
   ]
  },
  {
   "cell_type": "markdown",
   "metadata": {},
   "source": [
    "## Time series\n",
    "\n",
    "observe we can **establish at load time** many thing if the dataset is relatively clean"
   ]
  },
  {
   "cell_type": "code",
   "execution_count": 179,
   "metadata": {},
   "outputs": [],
   "source": [
    "\n",
    "tiempo=pd.read_csv('local/data/weather_data_austin_2010.csv',parse_dates=['Date'], dayfirst=True ,index_col='Date')\n",
    "tiempo"
   ]
  },
  {
   "cell_type": "code",
   "execution_count": 178,
   "metadata": {},
   "outputs": [],
   "source": [
    "tiempo.loc['2010-08-01':'2010-10-30']\n"
   ]
  },
  {
   "cell_type": "code",
   "execution_count": 181,
   "metadata": {},
   "outputs": [],
   "source": [
    "tiempo.loc['2010-06'].head()\n"
   ]
  },
  {
   "cell_type": "code",
   "execution_count": 182,
   "metadata": {},
   "outputs": [],
   "source": [
    "tiempo.sample(10)\n"
   ]
  },
  {
   "cell_type": "code",
   "execution_count": 183,
   "metadata": {},
   "outputs": [],
   "source": [
    "tiempo.sample(frac=0.01)\n"
   ]
  },
  {
   "cell_type": "markdown",
   "metadata": {},
   "source": [
    "## Resampling"
   ]
  },
  {
   "cell_type": "code",
   "execution_count": 184,
   "metadata": {},
   "outputs": [],
   "source": [
    "tiempo.head()\n"
   ]
  },
  {
   "cell_type": "code",
   "execution_count": 185,
   "metadata": {},
   "outputs": [],
   "source": [
    "tiempo.resample(\"5d\").mean().head()"
   ]
  },
  {
   "cell_type": "code",
   "execution_count": 186,
   "metadata": {},
   "outputs": [],
   "source": [
    "tiempo.resample(\"5d\").mean().head()\n"
   ]
  },
  {
   "cell_type": "code",
   "execution_count": 187,
   "metadata": {},
   "outputs": [],
   "source": [
    "tiempo.resample(\"5d\").mean().head()\n"
   ]
  },
  {
   "cell_type": "code",
   "execution_count": 191,
   "metadata": {},
   "outputs": [],
   "source": [
    "tiempo.resample(\"30min\").mean()[:15]\n"
   ]
  },
  {
   "cell_type": "code",
   "execution_count": 192,
   "metadata": {},
   "outputs": [],
   "source": [
    "\n",
    "subt=tiempo.between_time(start_time='1:00',end_time='12:00')\n",
    "subt"
   ]
  },
  {
   "cell_type": "code",
   "execution_count": 193,
   "metadata": {},
   "outputs": [],
   "source": [
    "tiempo.index.weekday\n"
   ]
  },
  {
   "cell_type": "code",
   "execution_count": 195,
   "metadata": {},
   "outputs": [],
   "source": [
    "tiempo.index.month\n"
   ]
  },
  {
   "cell_type": "code",
   "execution_count": 196,
   "metadata": {},
   "outputs": [],
   "source": [
    "tiempo.index.day\n"
   ]
  },
  {
   "cell_type": "code",
   "execution_count": 197,
   "metadata": {},
   "outputs": [],
   "source": [
    "tiempo.plot(style='.')\n"
   ]
  },
  {
   "cell_type": "code",
   "execution_count": 201,
   "metadata": {},
   "outputs": [],
   "source": [
    "tiempo['2010-01'].plot()"
   ]
  },
  {
   "cell_type": "code",
   "execution_count": 202,
   "metadata": {},
   "outputs": [],
   "source": [
    "tiempo['2010-01-04'].plot()"
   ]
  },
  {
   "cell_type": "markdown",
   "metadata": {},
   "source": [
    "## Rolling operations"
   ]
  },
  {
   "cell_type": "code",
   "execution_count": 215,
   "metadata": {},
   "outputs": [],
   "source": [
    "import pandas as pd\n",
    "### permite obtener data frames directamente de internet\n",
    "!pip install yfinance"
   ]
  },
  {
   "cell_type": "code",
   "execution_count": 217,
   "metadata": {},
   "outputs": [],
   "source": [
    "import yfinance as yf\n"
   ]
  },
  {
   "cell_type": "code",
   "execution_count": null,
   "metadata": {},
   "outputs": [],
   "source": []
  },
  {
   "cell_type": "code",
   "execution_count": 220,
   "metadata": {},
   "outputs": [],
   "source": [
    "#define the ticker symbol\n",
    "tickerSymbol = 'MSFT'\n",
    "\n",
    "#get data on this ticker\n",
    "tickerData = yf.Ticker(tickerSymbol)\n",
    "\n",
    "#get the historical prices for this ticker\n",
    "gs = tickerData.history(period='1d', start='2010-1-1', end='2020-1-25')\n",
    "\n",
    "#see your data\n",
    "gs"
   ]
  },
  {
   "cell_type": "code",
   "execution_count": 224,
   "metadata": {},
   "outputs": [],
   "source": [
    "gs.Close.rolling(10).mean().head(20)\n"
   ]
  },
  {
   "cell_type": "code",
   "execution_count": 232,
   "metadata": {},
   "outputs": [],
   "source": [
    "plt.figure(figsize=(20,3))\n",
    "plt.plot(gs.Close)\n",
    "plt.plot(gs.Close.rolling(50).mean())\n"
   ]
  },
  {
   "cell_type": "code",
   "execution_count": 233,
   "metadata": {},
   "outputs": [],
   "source": [
    "plt.figure(figsize=(20,3))\n",
    "plt.plot(gs.iloc[:400].Close, label=\"original\")\n",
    "plt.plot(gs.iloc[:400].Close.rolling(50).mean(), label=\"rolling\")\n",
    "plt.plot(gs.iloc[:400].Close.rolling(50, center=True).mean(), label=\"center\")\n",
    "plt.legend();"
   ]
  },
  {
   "cell_type": "code",
   "execution_count": 236,
   "metadata": {},
   "outputs": [],
   "source": [
    "plt.figure(figsize=(20,3))\n",
    "plt.plot(gs.iloc[:400].Close.rolling(10).mean())\n"
   ]
  },
  {
   "cell_type": "code",
   "execution_count": null,
   "metadata": {},
   "outputs": [],
   "source": []
  }
 ],
 "metadata": {
  "kernelspec": {
   "display_name": "Python 3",
   "language": "python",
   "name": "python3"
  },
  "language_info": {
   "codemirror_mode": {
    "name": "ipython",
    "version": 3
   },
   "file_extension": ".py",
   "mimetype": "text/x-python",
   "name": "python",
   "nbconvert_exporter": "python",
   "pygments_lexer": "ipython3",
   "version": "3.7.4"
  }
 },
 "nbformat": 4,
 "nbformat_minor": 2
}
