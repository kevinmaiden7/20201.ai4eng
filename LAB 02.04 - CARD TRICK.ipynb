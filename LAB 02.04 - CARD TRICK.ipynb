{
 "cells": [
  {
   "cell_type": "code",
   "execution_count": 1,
   "metadata": {},
   "outputs": [
    {
     "name": "stdout",
     "output_type": "stream",
     "text": [
      "endpoint https://m5knaekxo6.execute-api.us-west-2.amazonaws.com/dev-v0001/rlxmooc\n"
     ]
    },
    {
     "data": {
      "text/html": [
       "<h3>See <a href='https://m5knaekxo6.execute-api.us-west-2.amazonaws.com/dev-v0001/rlxmooc/web/login' target='_blank'>my courses and progress</a></h2>"
      ],
      "text/plain": [
       "<IPython.core.display.HTML object>"
      ]
     },
     "execution_count": 1,
     "metadata": {},
     "output_type": "execute_result"
    }
   ],
   "source": [
    "#!wget --no-cache -O init.py -q https://raw.githubusercontent.com/rramosp/20201.ai4eng/master/init.py\n",
    "import init; init.init(force_download=False); init.get_weblink()"
   ]
  },
  {
   "cell_type": "code",
   "execution_count": 152,
   "metadata": {},
   "outputs": [
    {
     "name": "stdout",
     "output_type": "stream",
     "text": [
      "username: kevin.martinez@udea.edu.co\n",
      "password: ········\n",
      "endpoint https://m5knaekxo6.execute-api.us-west-2.amazonaws.com/dev-v0001/rlxmooc\n"
     ]
    },
    {
     "data": {
      "text/html": [
       "<h3>See <a href='https://m5knaekxo6.execute-api.us-west-2.amazonaws.com/dev-v0001/rlxmooc/web/login' target='_blank'>my courses and progress</a></h2>"
      ],
      "text/plain": [
       "<IPython.core.display.HTML object>"
      ]
     },
     "execution_count": 152,
     "metadata": {},
     "output_type": "execute_result"
    }
   ],
   "source": [
    "from local.lib.rlxmoocapi import submit, session\n",
    "student = session.Session(init.endpoint).login( course_id=init.course_id, \n",
    "                                                session_id=\"UDEA\", \n",
    "                                                lab_id=\"L02.04\" )\n",
    "init.get_weblink()"
   ]
  },
  {
   "cell_type": "code",
   "execution_count": 58,
   "metadata": {},
   "outputs": [],
   "source": [
    "import numpy as np\n",
    "import pandas as pd\n",
    "import itertools"
   ]
  },
  {
   "cell_type": "markdown",
   "metadata": {},
   "source": [
    "# Setup \n",
    "\n",
    "make sure to **what the corresponding video** to understand the card trick.\n",
    "\n",
    "## create a deck for a given configuration\n",
    "\n",
    "The following function returns a list of **card names**. The `shuffle` argument is self evident. We use two letters as an arbitrary card name so that we have enough names for large configurations."
   ]
  },
  {
   "cell_type": "code",
   "execution_count": 59,
   "metadata": {},
   "outputs": [],
   "source": [
    "def create_deck(n_heaps, cards_per_heap, shuffle=False):\n",
    "    n_cards = n_heaps * cards_per_heap\n",
    "    \n",
    "    chars = [chr(i) for i in np.arange(26)+65]\n",
    "    names = [i+j for i,j in itertools.product(chars, chars)]    \n",
    "\n",
    "    assert n_cards < len(names), \"cannot have more than %d cards\"%len(name)\n",
    "    \n",
    "    c = np.r_[names[:n_cards]]\n",
    "    if shuffle:\n",
    "        c = np.random.permutation(c)\n",
    "    return c"
   ]
  },
  {
   "cell_type": "code",
   "execution_count": 5,
   "metadata": {},
   "outputs": [
    {
     "data": {
      "text/plain": [
       "array(['AA', 'AB', 'AC', 'AD', 'AE', 'AF', 'AG', 'AH', 'AI', 'AJ', 'AK',\n",
       "       'AL', 'AM', 'AN', 'AO', 'AP', 'AQ', 'AR', 'AS', 'AT', 'AU', 'AV',\n",
       "       'AW', 'AX', 'AY', 'AZ', 'BA', 'BB', 'BC', 'BD'], dtype='<U2')"
      ]
     },
     "execution_count": 5,
     "metadata": {},
     "output_type": "execute_result"
    }
   ],
   "source": [
    "create_deck(n_heaps=3, cards_per_heap=10, shuffle=False)"
   ]
  },
  {
   "cell_type": "code",
   "execution_count": 6,
   "metadata": {},
   "outputs": [
    {
     "data": {
      "text/plain": [
       "array(['AN', 'AT', 'AB', 'AH', 'AK', 'AO', 'AJ', 'AL', 'AR', 'AQ', 'AD',\n",
       "       'AI', 'AS', 'AF', 'AM', 'AA', 'AC', 'AP', 'AE', 'AU', 'AG'],\n",
       "      dtype='<U2')"
      ]
     },
     "execution_count": 6,
     "metadata": {},
     "output_type": "execute_result"
    }
   ],
   "source": [
    "create_deck(n_heaps=3, cards_per_heap=7, shuffle=True)"
   ]
  },
  {
   "cell_type": "code",
   "execution_count": 7,
   "metadata": {},
   "outputs": [
    {
     "data": {
      "text/plain": [
       "array(['AB', 'AU', 'AO', 'AW', 'AN', 'AJ', 'AE', 'AT', 'AZ', 'AS', 'AG',\n",
       "       'BD', 'AR', 'AY', 'AV', 'AK', 'BA', 'AI', 'AC', 'AP', 'AF', 'AA',\n",
       "       'AX', 'BC', 'AM', 'BB', 'AL', 'AQ', 'AH', 'AD'], dtype='<U2')"
      ]
     },
     "execution_count": 7,
     "metadata": {},
     "output_type": "execute_result"
    }
   ],
   "source": [
    "create_deck(n_heaps=3, cards_per_heap=10, shuffle=True)"
   ]
  },
  {
   "cell_type": "markdown",
   "metadata": {},
   "source": [
    "## pick a card\n",
    "\n",
    "the following function randomly picks a card from a deck"
   ]
  },
  {
   "cell_type": "code",
   "execution_count": 60,
   "metadata": {},
   "outputs": [],
   "source": [
    "def pick_card(c):\n",
    "    return np.random.choice(c)"
   ]
  },
  {
   "cell_type": "code",
   "execution_count": 9,
   "metadata": {},
   "outputs": [
    {
     "data": {
      "text/plain": [
       "'AE'"
      ]
     },
     "execution_count": 9,
     "metadata": {},
     "output_type": "execute_result"
    }
   ],
   "source": [
    "c = create_deck(n_heaps=3, cards_per_heap=7, shuffle=True)\n",
    "n = pick_card(c)\n",
    "n"
   ]
  },
  {
   "cell_type": "markdown",
   "metadata": {},
   "source": [
    "# Task 1. Make the heaps\n",
    "\n",
    "Complete the following funcion so that given desk (as a list returned by `create_deck`) distributes the cards in `n_heaps` according to the procedure of the card trick shown in the video.\n",
    "\n",
    "The heaps must be a list of `n_heaps` lists, each one with `len(c)/n_heaps` card names.\n",
    "\n",
    "`n_heaps` will be an odd number (so that later we can put the chosen heap in the middle of the others), and must be a divisor of the total number of cards in the deck (so that all heaps have the same number of cards)\n",
    "\n",
    "For instance, \n",
    "\n",
    "    >>> n_heaps = 3\n",
    "    >>> c = create_deck(n_heaps=n_heaps, cards_per_heap=7)\n",
    "    >>> h = make_heaps(c, n_heaps)\n",
    "    >>> print(\"deck\", c)\n",
    "    >>> print(\"heaps\")\n",
    "    >>> h   \n",
    "\n",
    "    deck ['AA' 'AB' 'AC' 'AD' 'AE' 'AF' 'AG' 'AH' 'AI' 'AJ' 'AK' 'AL' 'AM' 'AN'\n",
    "     'AO' 'AP' 'AQ' 'AR' 'AS' 'AT' 'AU']\n",
    "    heaps\n",
    "    [['AA', 'AD', 'AG', 'AJ', 'AM', 'AP', 'AS'],\n",
    "     ['AB', 'AE', 'AH', 'AK', 'AN', 'AQ', 'AT'],\n",
    "     ['AC', 'AF', 'AI', 'AL', 'AO', 'AR', 'AU']]\n",
    "  \n",
    "or also\n",
    "\n",
    "    >>> n_heaps = 5\n",
    "    >>> c = create_deck(n_heaps=n_heaps, cards_per_heap=3, shuffle=True)\n",
    "    >>> h = make_heaps(c, n_heaps)\n",
    "    >>> print(\"deck\", c)\n",
    "    >>> print(\"heaps\")\n",
    "    >>> h\n",
    "    \n",
    "    deck ['AA' 'AJ' 'AM' 'AK' 'AH' 'AF' 'AD' 'AN' 'AB' 'AC' 'AG' 'AE' 'AL' 'AI'\n",
    "     'AO']\n",
    "    heaps\n",
    "    [['AA', 'AF', 'AG'],\n",
    "     ['AJ', 'AD', 'AE'],\n",
    "     ['AM', 'AN', 'AL'],\n",
    "     ['AK', 'AB', 'AI'],\n",
    "     ['AH', 'AC', 'AO']]"
   ]
  },
  {
   "cell_type": "code",
   "execution_count": 61,
   "metadata": {},
   "outputs": [],
   "source": [
    "def make_heaps(c, n_heaps=3):\n",
    "    assert n_heaps%2==1, \"must have an odd number of heaps\"\n",
    "    assert len(c)%n_heaps==0, \"the length of the deck must be a multiple of the number of heaps\"\n",
    "    \n",
    "    h = []\n",
    "    cards_per_heap = len(c) // n_heaps\n",
    "    for i in range(n_heaps):\n",
    "        list = []\n",
    "        for j in range(cards_per_heap):\n",
    "            list.append(c[(j * n_heaps) + i])\n",
    "        h.append(list)\n",
    "    return h"
   ]
  },
  {
   "cell_type": "markdown",
   "metadata": {},
   "source": [
    "manually check your code"
   ]
  },
  {
   "cell_type": "code",
   "execution_count": 17,
   "metadata": {},
   "outputs": [
    {
     "name": "stdout",
     "output_type": "stream",
     "text": [
      "deck ['AA' 'AB' 'AC' 'AD' 'AE' 'AF' 'AG' 'AH' 'AI' 'AJ' 'AK' 'AL' 'AM' 'AN'\n",
      " 'AO' 'AP' 'AQ' 'AR' 'AS' 'AT' 'AU']\n",
      "heaps\n"
     ]
    },
    {
     "data": {
      "text/plain": [
       "[['AA', 'AD', 'AG', 'AJ', 'AM', 'AP', 'AS'],\n",
       " ['AB', 'AE', 'AH', 'AK', 'AN', 'AQ', 'AT'],\n",
       " ['AC', 'AF', 'AI', 'AL', 'AO', 'AR', 'AU']]"
      ]
     },
     "execution_count": 17,
     "metadata": {},
     "output_type": "execute_result"
    }
   ],
   "source": [
    "n_heaps = 3\n",
    "c = create_deck(n_heaps=n_heaps, cards_per_heap=7)\n",
    "h = make_heaps(c, n_heaps)\n",
    "\n",
    "print(\"deck\", c)\n",
    "print(\"heaps\")\n",
    "h"
   ]
  },
  {
   "cell_type": "code",
   "execution_count": 18,
   "metadata": {},
   "outputs": [
    {
     "name": "stdout",
     "output_type": "stream",
     "text": [
      "deck ['AI' 'AL' 'AF' 'AB' 'AJ' 'AO' 'AK' 'AH' 'AN' 'AD' 'AM' 'AE' 'AG' 'AC'\n",
      " 'AA']\n",
      "heaps\n"
     ]
    },
    {
     "data": {
      "text/plain": [
       "[['AI', 'AO', 'AM'],\n",
       " ['AL', 'AK', 'AE'],\n",
       " ['AF', 'AH', 'AG'],\n",
       " ['AB', 'AN', 'AC'],\n",
       " ['AJ', 'AD', 'AA']]"
      ]
     },
     "execution_count": 18,
     "metadata": {},
     "output_type": "execute_result"
    }
   ],
   "source": [
    "n_heaps = 5\n",
    "c = create_deck(n_heaps=n_heaps, cards_per_heap=3, shuffle=True)\n",
    "h = make_heaps(c, n_heaps)\n",
    "\n",
    "print(\"deck\", c)\n",
    "print(\"heaps\")\n",
    "h"
   ]
  },
  {
   "cell_type": "markdown",
   "metadata": {},
   "source": [
    "**submit your code**"
   ]
  },
  {
   "cell_type": "code",
   "execution_count": 19,
   "metadata": {
    "scrolled": false
   },
   "outputs": [
    {
     "data": {
      "text/html": [
       "\n",
       "                <b>task_01 submitted.</b> <b><font color=\"blue\">your grade is 5</font></b> \n",
       "                <p/><pre>----- grader message -------</pre><br/>testing with 20 random calls<br/><font color='green'><h2>correct</h2></font><pre>----------------------------</pre>\n",
       "                <p/><p/>\n",
       "                <div style=\"font-size:10px\"><b>SUBMISSION CODE</b> 73V1IgX2C5KB94tLSO3z/RUGx2XiPGitdFLZFsz9yn0+dwgzEztG35b3gZuFcjeGtteU7iCXn7leHRpHMdTNs0CBYZfZ1FN+kEENTKzc46wFln1uOfNJFNxy8OO2fO4toZ4KdG4/BcAIwGRQZMdVhw==</div>\n",
       "                "
      ],
      "text/plain": [
       "<IPython.core.display.HTML object>"
      ]
     },
     "metadata": {},
     "output_type": "display_data"
    }
   ],
   "source": [
    "student.submit_task(globals(), task_id=\"task_01\");"
   ]
  },
  {
   "cell_type": "markdown",
   "metadata": {},
   "source": [
    "# Task 2: Organize the heaps\n",
    "\n",
    "Complete the following funcion so that given a set of heaps (such as the ones returned by the function of the previous task) and a card name:\n",
    "\n",
    "1. Finds what is the heap that contains the card\n",
    "1. Makes randomly two groups of `n_heaps//2` heaps of the remaining heaps\n",
    "   - if `n_heaps=3` this will be two groups of one heap each, since `3//2=1`\n",
    "   - if `n_heaps=5`, it will be two groups of two heaps each, since `5//2=2`\n",
    "   - etc. (observe `//` is the integer division)\n",
    "1. Concatenates the cards in one group with the cards in the heap containing the given card name. with the cards of the second group\n",
    "\n",
    "For example\n",
    "\n",
    "    >>> n_heaps = 3\n",
    "    >>> c = create_deck(n_heaps=n_heaps, cards_per_heap=7, shuffle=True)\n",
    "    >>> n = pick_card(c)\n",
    "    >>> print (\"card picked\", n)\n",
    "    >>> h = make_heaps(c, n_heaps)\n",
    "    >>> h\n",
    "    \n",
    "    card picked AD\n",
    "    [['AP', 'AC', 'AE', 'AO', 'AQ', 'AF', 'AM'],\n",
    "     ['AN', 'AT', 'AB', 'AJ', 'AU', 'AI', 'AS'],\n",
    "     ['AR', 'AD', 'AA', 'AG', 'AH', 'AL', 'AK']]\n",
    "    \n",
    "    \n",
    "    >>> new_c = collect_heaps(h, n)\n",
    "    >>> print (new_c)\n",
    "    \n",
    "    ['AP', 'AC', 'AE', 'AO', 'AQ', 'AF', 'AM', 'AR', 'AD', 'AA', 'AG', 'AH', 'AL', 'AK', 'AN', 'AT', 'AB', 'AJ', 'AU', 'AI', 'AS']"
   ]
  },
  {
   "cell_type": "code",
   "execution_count": 126,
   "metadata": {},
   "outputs": [],
   "source": [
    "def collect_heaps(h, n):\n",
    "    i = 0\n",
    "    selected_card_heap = 0\n",
    "    for heap in h:\n",
    "        if n in heap: selected_card_heap = i; break\n",
    "        i += 1\n",
    "\n",
    "    heaps_per_group = len(h) // 2\n",
    "    group_0 = []\n",
    "    group_1 = []\n",
    "    groups = {\"g0\": group_0, \n",
    "              \"g1\": group_1}\n",
    "    \n",
    "    j = 0\n",
    "    for i in range(2): # Select the two groups\n",
    "        for k in range(heaps_per_group): # heaps assigned to each group\n",
    "            if j == selected_card_heap: j += 1\n",
    "            groups['g' + str(i)] += h[j]\n",
    "            j += 1\n",
    "\n",
    "    r = group_0 + h[selected_card_heap] + group_1 # Creating output\n",
    "    \n",
    "    return r            "
   ]
  },
  {
   "cell_type": "markdown",
   "metadata": {},
   "source": [
    "            heap = np.random.randint(total_heaps)\n",
    "            while (heap in selected_heaps) or (heap == selected_card_heap):\n",
    "                heap = np.random.randint(total_heaps)\n",
    "            selected_heaps.append(heap)"
   ]
  },
  {
   "cell_type": "markdown",
   "metadata": {},
   "source": [
    "manually check your code"
   ]
  },
  {
   "cell_type": "code",
   "execution_count": 132,
   "metadata": {},
   "outputs": [
    {
     "name": "stdout",
     "output_type": "stream",
     "text": [
      "card picked AE\n"
     ]
    },
    {
     "data": {
      "text/plain": [
       "[['AT', 'AQ', 'AO', 'AD', 'AS', 'AG', 'AM'],\n",
       " ['AP', 'AL', 'AI', 'AK', 'AU', 'AF', 'AA'],\n",
       " ['AR', 'AJ', 'AN', 'AH', 'AE', 'AB', 'AC']]"
      ]
     },
     "execution_count": 132,
     "metadata": {},
     "output_type": "execute_result"
    }
   ],
   "source": [
    "n_heaps = 3\n",
    "c = create_deck(n_heaps=n_heaps, cards_per_heap=7, shuffle=True)\n",
    "n = pick_card(c)\n",
    "print (\"card picked\", n)\n",
    "h = make_heaps(c, n_heaps)\n",
    "h"
   ]
  },
  {
   "cell_type": "code",
   "execution_count": 133,
   "metadata": {},
   "outputs": [
    {
     "name": "stdout",
     "output_type": "stream",
     "text": [
      "['AT', 'AQ', 'AO', 'AD', 'AS', 'AG', 'AM', 'AR', 'AJ', 'AN', 'AH', 'AE', 'AB', 'AC', 'AP', 'AL', 'AI', 'AK', 'AU', 'AF', 'AA']\n"
     ]
    }
   ],
   "source": [
    "new_c = collect_heaps(h, n)\n",
    "print (new_c)"
   ]
  },
  {
   "cell_type": "markdown",
   "metadata": {},
   "source": [
    "**submit your code**"
   ]
  },
  {
   "cell_type": "code",
   "execution_count": 134,
   "metadata": {
    "scrolled": true
   },
   "outputs": [
    {
     "data": {
      "text/html": [
       "\n",
       "                <b>task_02 submitted.</b> <b><font color=\"blue\">your grade is 5</font></b> \n",
       "                <p/><pre>----- grader message -------</pre><br/>testing with 20 random calls<br/><font color='green'><h2>correct</h2></font><pre>----------------------------</pre>\n",
       "                <p/><p/>\n",
       "                <div style=\"font-size:10px\"><b>SUBMISSION CODE</b> pTZz3fUrtczlR1IjEjIvLmChG6+smrc7ntAl9uTIMnxGMuPV1cS46hc/pVHJ0WJ4kofz3Uzrs9B9FikZZ6+BQv2mUQuFpaVZgDa4/uO/Je7pUsE11Ww79TFdfzr9U/Q+L0xxgYrFDykyVqCZEoRZww==</div>\n",
       "                "
      ],
      "text/plain": [
       "<IPython.core.display.HTML object>"
      ]
     },
     "metadata": {},
     "output_type": "display_data"
    }
   ],
   "source": [
    "student.submit_task(globals(), task_id=\"task_02\");"
   ]
  },
  {
   "cell_type": "markdown",
   "metadata": {},
   "source": [
    "# Task 3: Run the card trick\n",
    "\n",
    "Complete the following function such that, when given a a deck of cards `c`, and picked card `n` and a number of heaps `n_heaps`, returns the position of the picked card after doing three times the collect. The position number **must start at zero**.\n",
    "\n",
    "For instance:\n",
    "\n",
    "- For `n_heaps=3` and `cards_per_heap=7`, the final position will always be 10 (which is 11 if you start counting at 1)\n",
    "- For `n_heaps=3` and `cards_per_heap=4`, the final position will be sometimes 5 and sometimes 6 depending on the position of the picked card on the initial deck.\n",
    "- For `n_heaps=5` and `cards_per_heap=3`, the final position will always be 7\n",
    "\n",
    "**You must return an `int`**"
   ]
  },
  {
   "cell_type": "code",
   "execution_count": 136,
   "metadata": {},
   "outputs": [],
   "source": [
    "def run(c, n, n_heaps=3):\n",
    "    new_c = c\n",
    "    for i in range(3): \n",
    "        h = make_heaps(new_c, n_heaps)\n",
    "        new_c = collect_heaps(h, n)\n",
    "    r = new_c.index(n)\n",
    "    return r"
   ]
  },
  {
   "cell_type": "markdown",
   "metadata": {},
   "source": [
    "manually check your code"
   ]
  },
  {
   "cell_type": "code",
   "execution_count": 143,
   "metadata": {},
   "outputs": [
    {
     "name": "stdout",
     "output_type": "stream",
     "text": [
      "desk ['AA' 'AB' 'AC' 'AD' 'AE' 'AF' 'AG' 'AH' 'AI' 'AJ' 'AK' 'AL' 'AM' 'AN'\n",
      " 'AO' 'AP' 'AQ' 'AR' 'AS' 'AT' 'AU']\n",
      "position of card AA is 10\n"
     ]
    }
   ],
   "source": [
    "n_heaps = 3\n",
    "c = create_deck(n_heaps=n_heaps, cards_per_heap=7)\n",
    "picked = \"AA\"\n",
    "print (\"desk\", c)\n",
    "pos = run(c, picked, n_heaps=n_heaps)\n",
    "print (\"position of card %s is %d\"%(picked, pos))"
   ]
  },
  {
   "cell_type": "code",
   "execution_count": 138,
   "metadata": {},
   "outputs": [
    {
     "name": "stdout",
     "output_type": "stream",
     "text": [
      "deck ['AA' 'AB' 'AC' 'AD' 'AE' 'AF' 'AG' 'AH' 'AI' 'AJ' 'AK' 'AL']\n",
      "position of card AI is 6\n"
     ]
    }
   ],
   "source": [
    "n_heaps = 3\n",
    "c = create_deck(n_heaps=n_heaps, cards_per_heap=4)\n",
    "picked = \"AI\"\n",
    "print (\"deck\", c)\n",
    "pos = run(c, picked, n_heaps=n_heaps)\n",
    "print (\"position of card %s is %d\"%(picked, pos))"
   ]
  },
  {
   "cell_type": "markdown",
   "metadata": {},
   "source": [
    "**submit your code**"
   ]
  },
  {
   "cell_type": "code",
   "execution_count": 139,
   "metadata": {
    "scrolled": false
   },
   "outputs": [
    {
     "data": {
      "text/html": [
       "\n",
       "                <b>task_03 submitted.</b> <b><font color=\"blue\">your grade is 5</font></b> \n",
       "                <p/><pre>----- grader message -------</pre><br/>testing with 20 random calls<br/><font color='green'><h2>correct</h2></font><pre>----------------------------</pre>\n",
       "                <p/><p/>\n",
       "                <div style=\"font-size:10px\"><b>SUBMISSION CODE</b> 08ZWHjwuG7T428DH4DE1sdqAHR0v7CEif9/dZCxWQuqqFny7wgVEx6+LPfstEu9LAaPriwXBFfefjydduoT7JK7oe4Tv4cBxsWqFSu3rpEtaaXswuxyN0SkmrDw4REejybpt2Jh3PMO/niyFL5fOzw==</div>\n",
       "                "
      ],
      "text/plain": [
       "<IPython.core.display.HTML object>"
      ]
     },
     "metadata": {},
     "output_type": "display_data"
    }
   ],
   "source": [
    "student.submit_task(globals(), task_id=\"task_03\");"
   ]
  },
  {
   "cell_type": "markdown",
   "metadata": {},
   "source": [
    "# Task 4: Run the trick using the math\n",
    "\n",
    "Given:\n",
    "\n",
    "- $n_h$: A number of heaps\n",
    "- $c_h$: the number of cards per heap\n",
    "- $i$: the position of a card \n",
    "\n",
    "The new position of the card after one cycle of making and collecting the heaps will be:\n",
    "\n",
    "$$c_h(n_h\\div2)+i\\div n_h$$\n",
    "\n",
    "Complete the following function so that it has the same functionality of the previous task, but applying only this formula without using the simulation above. You **MUST NOT ADD** or remove lines from the function skeleton below, **ONLY** fill in the `...`\n",
    "\n",
    "You must get the same results as the previous task.\n",
    "\n",
    "**HINT**: Use `np.argwhere` to get the initial position of the card in the deck"
   ]
  },
  {
   "cell_type": "code",
   "execution_count": 154,
   "metadata": {},
   "outputs": [],
   "source": [
    "def mrun(c, picked_card, n_heaps=3):\n",
    "    assert len(c)%n_heaps==0, \"the number of heaps must be a divisor of the deck length\"\n",
    "    \n",
    "    ch = len(c)//n_heaps # cards per heap\n",
    "    nh = n_heaps\n",
    "    \n",
    "    i = c.tolist().index(picked_card) # initial position of the card on the deck c\n",
    "    print(i)\n",
    "    p1 = ch*(nh // 2) + i // nh  # the position of the card after the first round\n",
    "    p2 = ch*(nh // 2) + p1 // nh   # the position of the card after the second round\n",
    "    p3 = ch*(nh // 2) + p2 // nh   # the position of the card after the last round\n",
    "    \n",
    "    return p3"
   ]
  },
  {
   "cell_type": "code",
   "execution_count": 157,
   "metadata": {},
   "outputs": [
    {
     "name": "stdout",
     "output_type": "stream",
     "text": [
      "deck ['AA' 'AB' 'AC' 'AD' 'AE' 'AF' 'AG' 'AH' 'AI' 'AJ' 'AK' 'AL']\n",
      "8\n",
      "position of card AI is 6\n"
     ]
    }
   ],
   "source": [
    "n_heaps = 3\n",
    "c = create_deck(n_heaps=n_heaps, cards_per_heap=4)\n",
    "picked = \"AI\"\n",
    "print (\"deck\", c)\n",
    "pos = mrun(c, picked, n_heaps=n_heaps)\n",
    "print (\"position of card %s is %d\"%(picked, pos))"
   ]
  },
  {
   "cell_type": "markdown",
   "metadata": {},
   "source": [
    "**submit your code**"
   ]
  },
  {
   "cell_type": "code",
   "execution_count": 158,
   "metadata": {
    "scrolled": false
   },
   "outputs": [
    {
     "data": {
      "text/html": [
       "\n",
       "                <b>task_04 submitted.</b> <b><font color=\"blue\">your grade is 5</font></b> \n",
       "                <p/><pre>----- grader message -------</pre><h3>you must not modify the original function structure or add/remove lines, just fill in the dots</h3><br/><font color='green'><h2>correct</h2></font><pre>----------------------------</pre>\n",
       "                <p/><p/>\n",
       "                <div style=\"font-size:10px\"><b>SUBMISSION CODE</b> 6731GK59EFKQVZYjm2+GCxt+80e0ZkvjiprXJ0Sav5wQqFNhKRI8A4/LLvFuwpEwJu9fUHD+LNQwa5jyUhsG4C2JwhN3iiwVLH6J1YQwzuDM8hNx5+WJv28zoFUKoEWIDKPDLtYPd8GmanfI4jZghw==</div>\n",
       "                "
      ],
      "text/plain": [
       "<IPython.core.display.HTML object>"
      ]
     },
     "metadata": {},
     "output_type": "display_data"
    }
   ],
   "source": [
    "student.submit_task(globals(), task_id=\"task_04\");"
   ]
  },
  {
   "cell_type": "markdown",
   "metadata": {},
   "source": [
    "# You are done. Now, some considerations\n",
    "\n",
    "### using the math is always faster!!!\n",
    "\n"
   ]
  },
  {
   "cell_type": "code",
   "execution_count": null,
   "metadata": {},
   "outputs": [],
   "source": [
    "n_heaps = 3\n",
    "c = create_deck(n_heaps=n_heaps, cards_per_heap=4)\n",
    "picked = \"AI\"\n",
    "print (\"deck\", c)"
   ]
  },
  {
   "cell_type": "code",
   "execution_count": null,
   "metadata": {},
   "outputs": [],
   "source": [
    "%timeit run(c, picked, n_heaps=n_heaps)"
   ]
  },
  {
   "cell_type": "code",
   "execution_count": null,
   "metadata": {},
   "outputs": [],
   "source": [
    "%timeit mrun(c, picked, n_heaps=n_heaps)"
   ]
  },
  {
   "cell_type": "markdown",
   "metadata": {},
   "source": [
    "### you can check if the trick works for a specific configuration"
   ]
  },
  {
   "cell_type": "code",
   "execution_count": 166,
   "metadata": {},
   "outputs": [],
   "source": [
    "n_heaps = 3\n",
    "cards_per_heap = 7\n",
    "\n",
    "c = create_deck(n_heaps, cards_per_heap)\n",
    "\n",
    "r = [[n, mrun(c,n, n_heaps=n_heaps)] for n in c]\n",
    "print (\"deck\", c)\n",
    "pd.DataFrame(r, columns=[\"card picked\", \"final position\"])"
   ]
  },
  {
   "cell_type": "code",
   "execution_count": 167,
   "metadata": {},
   "outputs": [],
   "source": [
    "n_heaps = 3\n",
    "cards_per_heap = 4\n",
    "\n",
    "c = create_deck(n_heaps, cards_per_heap)\n",
    "\n",
    "r = [[n, mrun(c,n, n_heaps=n_heaps)] for n in c]\n",
    "print (\"deck\", c)\n",
    "pd.DataFrame(r, columns=[\"card picked\", \"final position\"])"
   ]
  }
 ],
 "metadata": {
  "kernelspec": {
   "display_name": "Python 3",
   "language": "python",
   "name": "python3"
  },
  "language_info": {
   "codemirror_mode": {
    "name": "ipython",
    "version": 3
   },
   "file_extension": ".py",
   "mimetype": "text/x-python",
   "name": "python",
   "nbconvert_exporter": "python",
   "pygments_lexer": "ipython3",
   "version": "3.7.4"
  }
 },
 "nbformat": 4,
 "nbformat_minor": 4
}
