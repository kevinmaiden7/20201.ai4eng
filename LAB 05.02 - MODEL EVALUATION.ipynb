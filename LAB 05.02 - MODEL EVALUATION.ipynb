{
 "cells": [
  {
   "cell_type": "markdown",
   "metadata": {},
   "source": [
    "# LAB 05.02 - Model evaluation"
   ]
  },
  {
   "cell_type": "code",
   "execution_count": 1,
   "metadata": {},
   "outputs": [
    {
     "name": "stdout",
     "output_type": "stream",
     "text": [
      "endpoint https://m5knaekxo6.execute-api.us-west-2.amazonaws.com/dev-v0001/rlxmooc\n"
     ]
    },
    {
     "data": {
      "text/html": [
       "<h3>See <a href='https://m5knaekxo6.execute-api.us-west-2.amazonaws.com/dev-v0001/rlxmooc/web/login' target='_blank'>my courses and progress</a></h2>"
      ],
      "text/plain": [
       "<IPython.core.display.HTML object>"
      ]
     },
     "execution_count": 1,
     "metadata": {},
     "output_type": "execute_result"
    }
   ],
   "source": [
    "#!wget --no-cache -O init.py -q https://raw.githubusercontent.com/rramosp/20201.xai4eng/master/content/init.py\n",
    "import init; init.init(force_download=False); init.get_weblink()"
   ]
  },
  {
   "cell_type": "code",
   "execution_count": 52,
   "metadata": {},
   "outputs": [
    {
     "name": "stdout",
     "output_type": "stream",
     "text": [
      "username: kevin.martinez@udea.edu.co\n",
      "password: ········\n",
      "endpoint https://m5knaekxo6.execute-api.us-west-2.amazonaws.com/dev-v0001/rlxmooc\n"
     ]
    },
    {
     "data": {
      "text/html": [
       "<h3>See <a href='https://m5knaekxo6.execute-api.us-west-2.amazonaws.com/dev-v0001/rlxmooc/web/login' target='_blank'>my courses and progress</a></h2>"
      ],
      "text/plain": [
       "<IPython.core.display.HTML object>"
      ]
     },
     "execution_count": 52,
     "metadata": {},
     "output_type": "execute_result"
    }
   ],
   "source": [
    "from local.lib.rlxmoocapi import submit, session\n",
    "student = session.Session(init.endpoint).login( course_id=init.course_id, \n",
    "                                                session_id=\"UDEA\", \n",
    "                                                lab_id=\"L05.02\" )\n",
    "init.get_weblink()"
   ]
  },
  {
   "cell_type": "markdown",
   "metadata": {},
   "source": [
    "## Task 1: Partition randomly `numpy` arrays\n",
    "\n",
    "observe we can select specific rows and/or columns on a numpy array"
   ]
  },
  {
   "cell_type": "code",
   "execution_count": 9,
   "metadata": {},
   "outputs": [
    {
     "name": "stdout",
     "output_type": "stream",
     "text": [
      "range(0, 20) 5\n"
     ]
    },
    {
     "data": {
      "text/plain": [
       "array([[ 0,  1,  2,  3,  4],\n",
       "       [ 1, 40, 76, 24, 18],\n",
       "       [ 2, 11, 58,  7, 13],\n",
       "       [ 3, 20, 31, 41, 27],\n",
       "       [ 4, 53, 68, 40, 48],\n",
       "       [ 5, 89, 37, 36, 52],\n",
       "       [ 6, 57, 89, 13, 10],\n",
       "       [ 7, 66, 42, 59, 14],\n",
       "       [ 8, 68, 93, 67, 47],\n",
       "       [ 9,  6, 86,  9, 60],\n",
       "       [10, 64, 54, 75, 47],\n",
       "       [11, 97, 39, 59, 75],\n",
       "       [12, 60, 23, 26, 47],\n",
       "       [13, 34, 96, 91,  5],\n",
       "       [14, 64, 80, 25, 71],\n",
       "       [15, 88, 48, 58, 93],\n",
       "       [16, 74, 74, 49, 29],\n",
       "       [17, 52,  0, 31, 44],\n",
       "       [18, 59, 36, 30, 72],\n",
       "       [19, 63, 63, 89,  5]])"
      ]
     },
     "execution_count": 9,
     "metadata": {},
     "output_type": "execute_result"
    }
   ],
   "source": [
    "import numpy as np\n",
    "\n",
    "x = np.random.randint(100, size=(20,5))\n",
    "print(range(len(x)), x.shape[1])\n",
    "x[:,0] = range(len(x))\n",
    "x[0,:] = range(x.shape[1])\n",
    "x"
   ]
  },
  {
   "cell_type": "code",
   "execution_count": 10,
   "metadata": {},
   "outputs": [
    {
     "data": {
      "text/plain": [
       "array([[ 2, 11, 58,  7, 13],\n",
       "       [ 4, 53, 68, 40, 48],\n",
       "       [ 5, 89, 37, 36, 52]])"
      ]
     },
     "execution_count": 10,
     "metadata": {},
     "output_type": "execute_result"
    }
   ],
   "source": [
    "ridxs = np.r_[2,4,5] # get rows\n",
    "x[ridxs]"
   ]
  },
  {
   "cell_type": "code",
   "execution_count": 11,
   "metadata": {},
   "outputs": [
    {
     "data": {
      "text/plain": [
       "array([[ 1,  3],\n",
       "       [40, 24],\n",
       "       [11,  7],\n",
       "       [20, 41],\n",
       "       [53, 40],\n",
       "       [89, 36],\n",
       "       [57, 13],\n",
       "       [66, 59],\n",
       "       [68, 67],\n",
       "       [ 6,  9],\n",
       "       [64, 75],\n",
       "       [97, 59],\n",
       "       [60, 26],\n",
       "       [34, 91],\n",
       "       [64, 25],\n",
       "       [88, 58],\n",
       "       [74, 49],\n",
       "       [52, 31],\n",
       "       [59, 30],\n",
       "       [63, 89]])"
      ]
     },
     "execution_count": 11,
     "metadata": {},
     "output_type": "execute_result"
    }
   ],
   "source": [
    "cidxs = np.r_[1,3] # get columns\n",
    "x[:,cidxs]"
   ]
  },
  {
   "cell_type": "code",
   "execution_count": 12,
   "metadata": {},
   "outputs": [
    {
     "data": {
      "text/plain": [
       "array([[11,  7],\n",
       "       [53, 40],\n",
       "       [89, 36]])"
      ]
     },
     "execution_count": 12,
     "metadata": {},
     "output_type": "execute_result"
    }
   ],
   "source": [
    "x[ridxs][:, cidxs]"
   ]
  },
  {
   "cell_type": "markdown",
   "metadata": {},
   "source": [
    "and the dimensions of the array are accessible through `len` and `shape`"
   ]
  },
  {
   "cell_type": "code",
   "execution_count": 13,
   "metadata": {},
   "outputs": [
    {
     "data": {
      "text/plain": [
       "(20, (20, 5))"
      ]
     },
     "execution_count": 13,
     "metadata": {},
     "output_type": "execute_result"
    }
   ],
   "source": [
    "len(x), x.shape"
   ]
  },
  {
   "cell_type": "markdown",
   "metadata": {},
   "source": [
    "observe also how we can partition it"
   ]
  },
  {
   "cell_type": "code",
   "execution_count": 14,
   "metadata": {},
   "outputs": [
    {
     "data": {
      "text/plain": [
       "array([[ 0,  1,  2,  3,  4],\n",
       "       [ 1, 40, 76, 24, 18],\n",
       "       [ 2, 11, 58,  7, 13]])"
      ]
     },
     "execution_count": 14,
     "metadata": {},
     "output_type": "execute_result"
    }
   ],
   "source": [
    "x[:3]"
   ]
  },
  {
   "cell_type": "code",
   "execution_count": 15,
   "metadata": {},
   "outputs": [
    {
     "data": {
      "text/plain": [
       "array([[ 3, 20, 31, 41, 27],\n",
       "       [ 4, 53, 68, 40, 48],\n",
       "       [ 5, 89, 37, 36, 52],\n",
       "       [ 6, 57, 89, 13, 10],\n",
       "       [ 7, 66, 42, 59, 14],\n",
       "       [ 8, 68, 93, 67, 47],\n",
       "       [ 9,  6, 86,  9, 60],\n",
       "       [10, 64, 54, 75, 47],\n",
       "       [11, 97, 39, 59, 75],\n",
       "       [12, 60, 23, 26, 47],\n",
       "       [13, 34, 96, 91,  5],\n",
       "       [14, 64, 80, 25, 71],\n",
       "       [15, 88, 48, 58, 93],\n",
       "       [16, 74, 74, 49, 29],\n",
       "       [17, 52,  0, 31, 44],\n",
       "       [18, 59, 36, 30, 72],\n",
       "       [19, 63, 63, 89,  5]])"
      ]
     },
     "execution_count": 15,
     "metadata": {},
     "output_type": "execute_result"
    }
   ],
   "source": [
    "x[3:]"
   ]
  },
  {
   "cell_type": "markdown",
   "metadata": {},
   "source": [
    "we can do the same thing with vectors"
   ]
  },
  {
   "cell_type": "code",
   "execution_count": 16,
   "metadata": {},
   "outputs": [
    {
     "data": {
      "text/plain": [
       "array([100, 101, 102, 103, 104, 105, 106, 107, 108, 109, 110, 111, 112,\n",
       "       113, 114, 115, 116, 117, 118, 119])"
      ]
     },
     "execution_count": 16,
     "metadata": {},
     "output_type": "execute_result"
    }
   ],
   "source": [
    "v = np.arange(100,120)\n",
    "v"
   ]
  },
  {
   "cell_type": "code",
   "execution_count": 17,
   "metadata": {},
   "outputs": [
    {
     "data": {
      "text/plain": [
       "(array([100, 101, 102, 103, 104]),\n",
       " array([105, 106, 107, 108, 109, 110, 111, 112, 113, 114, 115, 116, 117,\n",
       "        118, 119]))"
      ]
     },
     "execution_count": 17,
     "metadata": {},
     "output_type": "execute_result"
    }
   ],
   "source": [
    "v[:5], v[5:]"
   ]
  },
  {
   "cell_type": "markdown",
   "metadata": {},
   "source": [
    "finally, observe how we can create a random permutation of a specific vector"
   ]
  },
  {
   "cell_type": "code",
   "execution_count": 18,
   "metadata": {},
   "outputs": [
    {
     "data": {
      "text/plain": [
       "array([103, 116, 104, 114, 105, 102, 100, 117, 107, 108, 109, 110, 101,\n",
       "       118, 106, 111, 119, 113, 112, 115])"
      ]
     },
     "execution_count": 18,
     "metadata": {},
     "output_type": "execute_result"
    }
   ],
   "source": [
    "np.random.permutation(v)"
   ]
  },
  {
   "cell_type": "markdown",
   "metadata": {},
   "source": [
    "or the first natural numbers"
   ]
  },
  {
   "cell_type": "code",
   "execution_count": 19,
   "metadata": {},
   "outputs": [
    {
     "data": {
      "text/plain": [
       "array([14,  7,  6,  3, 11,  1, 18,  0,  9, 13,  2, 19,  5,  8, 17,  4, 15,\n",
       "       16, 12, 10])"
      ]
     },
     "execution_count": 19,
     "metadata": {},
     "output_type": "execute_result"
    }
   ],
   "source": [
    "p = np.random.permutation(20)\n",
    "p"
   ]
  },
  {
   "cell_type": "code",
   "execution_count": 22,
   "metadata": {},
   "outputs": [
    {
     "data": {
      "text/plain": [
       "array([100, 101, 102, 103, 104, 105, 106, 107, 108, 109, 110, 111, 112,\n",
       "       113, 114, 115, 116, 117, 118, 119])"
      ]
     },
     "execution_count": 22,
     "metadata": {},
     "output_type": "execute_result"
    }
   ],
   "source": [
    "v"
   ]
  },
  {
   "cell_type": "code",
   "execution_count": 21,
   "metadata": {},
   "outputs": [
    {
     "data": {
      "text/plain": [
       "array([ 1, 18,  0,  9, 13,  2, 19,  5,  8, 17,  4, 15, 16, 12, 10])"
      ]
     },
     "execution_count": 21,
     "metadata": {},
     "output_type": "execute_result"
    }
   ],
   "source": [
    "p[5:]"
   ]
  },
  {
   "cell_type": "code",
   "execution_count": 25,
   "metadata": {},
   "outputs": [
    {
     "data": {
      "text/plain": [
       "array([14,  7,  6,  3, 11])"
      ]
     },
     "execution_count": 25,
     "metadata": {},
     "output_type": "execute_result"
    }
   ],
   "source": [
    "p[:5]"
   ]
  },
  {
   "cell_type": "code",
   "execution_count": 24,
   "metadata": {},
   "outputs": [
    {
     "data": {
      "text/plain": [
       "array([[ 0,  1,  2,  3,  4],\n",
       "       [ 1, 40, 76, 24, 18],\n",
       "       [ 2, 11, 58,  7, 13],\n",
       "       [ 3, 20, 31, 41, 27],\n",
       "       [ 4, 53, 68, 40, 48],\n",
       "       [ 5, 89, 37, 36, 52],\n",
       "       [ 6, 57, 89, 13, 10],\n",
       "       [ 7, 66, 42, 59, 14],\n",
       "       [ 8, 68, 93, 67, 47],\n",
       "       [ 9,  6, 86,  9, 60],\n",
       "       [10, 64, 54, 75, 47],\n",
       "       [11, 97, 39, 59, 75],\n",
       "       [12, 60, 23, 26, 47],\n",
       "       [13, 34, 96, 91,  5],\n",
       "       [14, 64, 80, 25, 71],\n",
       "       [15, 88, 48, 58, 93],\n",
       "       [16, 74, 74, 49, 29],\n",
       "       [17, 52,  0, 31, 44],\n",
       "       [18, 59, 36, 30, 72],\n",
       "       [19, 63, 63, 89,  5]])"
      ]
     },
     "execution_count": 24,
     "metadata": {},
     "output_type": "execute_result"
    }
   ],
   "source": [
    "x"
   ]
  },
  {
   "cell_type": "markdown",
   "metadata": {},
   "source": [
    "how do you interpret this?"
   ]
  },
  {
   "cell_type": "code",
   "execution_count": 20,
   "metadata": {},
   "outputs": [
    {
     "data": {
      "text/plain": [
       "array([101, 118, 100, 109, 113, 102, 119, 105, 108, 117, 104, 115, 116,\n",
       "       112, 110])"
      ]
     },
     "execution_count": 20,
     "metadata": {},
     "output_type": "execute_result"
    }
   ],
   "source": [
    "v[p[5:]]"
   ]
  },
  {
   "cell_type": "code",
   "execution_count": 23,
   "metadata": {},
   "outputs": [
    {
     "data": {
      "text/plain": [
       "array([[14, 64, 80, 25, 71],\n",
       "       [ 7, 66, 42, 59, 14],\n",
       "       [ 6, 57, 89, 13, 10],\n",
       "       [ 3, 20, 31, 41, 27],\n",
       "       [11, 97, 39, 59, 75]])"
      ]
     },
     "execution_count": 23,
     "metadata": {},
     "output_type": "execute_result"
    }
   ],
   "source": [
    "x[p[:5]]"
   ]
  },
  {
   "cell_type": "markdown",
   "metadata": {},
   "source": [
    "### assignment\n",
    "\n",
    "in this task you will have to complete the function  `split_data` below so that:\n",
    "\n",
    "- it accepts two arguments `X` and `y`, either of which can be any numpy array (1D, 2D, etc.) of the **same** size $n$ (observe the  `assert` statement), and a `pct` \n",
    "- creates a random permutation of the natural number from $0$ to $n-1$\n",
    "- partitions the permutations so that the first partition contains the first `n1_elements` $=$ `int(n * pct)` numbers, and the second partition the rest\n",
    "- interpret the permutation partitions components as indexes to `X` and `y` so that they are partitioned into `X1`, `X2` and `y1`, `y2` respectively\n",
    "\n",
    "note that **indexes to array** must be of type `int`. do the following to convert a float to int"
   ]
  },
  {
   "cell_type": "code",
   "execution_count": 26,
   "metadata": {},
   "outputs": [
    {
     "name": "stdout",
     "output_type": "stream",
     "text": [
      "3.0\n",
      "3\n"
     ]
    }
   ],
   "source": [
    "a,b = 10,.3\n",
    "c = a*b\n",
    "print (c)\n",
    "c = int(c)\n",
    "print(c)"
   ]
  },
  {
   "cell_type": "code",
   "execution_count": 28,
   "metadata": {},
   "outputs": [],
   "source": [
    "def split_data(X, y, pct):\n",
    "    \n",
    "    assert len(X)==len(y), \"X and y must have the same length\"\n",
    "    assert pct>0 and pct<1, \"pct must be in the (0,1) iterval\"\n",
    "    \n",
    "    n = len(y)\n",
    "    permutation = np.random.permutation(n)\n",
    "    n1_elements = int(n * pct)\n",
    "    permutation_partition_1 = permutation[:n1_elements]\n",
    "    permutation_partition_2 = permutation[n1_elements:]\n",
    "    X1 = X[[permutation_partition_1]]\n",
    "    X2 = X[[permutation_partition_2]]\n",
    "    y1 = y[[permutation_partition_1]]\n",
    "    y2 = y[[permutation_partition_2]]\n",
    "    return X1, X2, y1, y2"
   ]
  },
  {
   "cell_type": "markdown",
   "metadata": {},
   "source": [
    "check your solution manually with the following code"
   ]
  },
  {
   "cell_type": "code",
   "execution_count": 27,
   "metadata": {},
   "outputs": [
    {
     "name": "stdout",
     "output_type": "stream",
     "text": [
      "[[ 0  1  2  3  4  5  6  7]\n",
      " [ 1 71 11  4 23 49 66 29]\n",
      " [ 2  9 26 89 35 61 66 96]\n",
      " [ 3  9 88 26 94 45 40  5]\n",
      " [ 4 60 34 46 61  0 56 74]\n",
      " [ 5 50 86 32 96 30 17 10]\n",
      " [ 6 56 87 84 16 67 58 51]\n",
      " [ 7 67 44  5 22 37 55 85]\n",
      " [ 8 25 90 15 95 92 55 76]\n",
      " [ 9 58 67 93  2  7  2 18]\n",
      " [10 14 65 78 28 95 57 57]\n",
      " [11 18 14 74 21 59 91  8]\n",
      " [12  2 73 56 44 48 31 16]\n",
      " [13 73 77 18  9 91 50 35]\n",
      " [14 14 68 80 64 26 13  8]\n",
      " [15 73 35 32 27 99 89 72]\n",
      " [16 98 68 28 88 74 59 73]\n",
      " [17  7 82 78 86 27 64 53]\n",
      " [18 19  5 41 52 87 86 63]\n",
      " [19 35 22 31 48 16 17  2]]\n",
      "[100 101 102 103 104 105 106 107 108 109 110 111 112 113 114 115 116 117\n",
      " 118 119]\n"
     ]
    }
   ],
   "source": [
    "XX = np.random.randint(100, size=(20,8))\n",
    "yy = np.arange(100,100+len(XX))\n",
    "XX[:,0] = range(len(XX))\n",
    "XX[0,:] = range(XX.shape[1])\n",
    "print (XX)\n",
    "print (yy)"
   ]
  },
  {
   "cell_type": "code",
   "execution_count": 30,
   "metadata": {},
   "outputs": [
    {
     "name": "stderr",
     "output_type": "stream",
     "text": [
      "<ipython-input-28-a457624b30fa>:11: FutureWarning: Using a non-tuple sequence for multidimensional indexing is deprecated; use `arr[tuple(seq)]` instead of `arr[seq]`. In the future this will be interpreted as an array index, `arr[np.array(seq)]`, which will result either in an error or a different result.\n",
      "  X1 = X[[permutation_partition_1]]\n",
      "<ipython-input-28-a457624b30fa>:12: FutureWarning: Using a non-tuple sequence for multidimensional indexing is deprecated; use `arr[tuple(seq)]` instead of `arr[seq]`. In the future this will be interpreted as an array index, `arr[np.array(seq)]`, which will result either in an error or a different result.\n",
      "  X2 = X[[permutation_partition_2]]\n",
      "<ipython-input-28-a457624b30fa>:13: FutureWarning: Using a non-tuple sequence for multidimensional indexing is deprecated; use `arr[tuple(seq)]` instead of `arr[seq]`. In the future this will be interpreted as an array index, `arr[np.array(seq)]`, which will result either in an error or a different result.\n",
      "  y1 = y[[permutation_partition_1]]\n",
      "<ipython-input-28-a457624b30fa>:14: FutureWarning: Using a non-tuple sequence for multidimensional indexing is deprecated; use `arr[tuple(seq)]` instead of `arr[seq]`. In the future this will be interpreted as an array index, `arr[np.array(seq)]`, which will result either in an error or a different result.\n",
      "  y2 = y[[permutation_partition_2]]\n"
     ]
    }
   ],
   "source": [
    "Xtr, Xts, ytr, yts = split_data(XX, yy, pct=.7)"
   ]
  },
  {
   "cell_type": "code",
   "execution_count": 31,
   "metadata": {},
   "outputs": [
    {
     "data": {
      "text/plain": [
       "(6652, 6652, 2190, 2190)"
      ]
     },
     "execution_count": 31,
     "metadata": {},
     "output_type": "execute_result"
    }
   ],
   "source": [
    "# check partition ok\n",
    "np.sum(XX), np.sum(Xtr) + np.sum(Xts), np.sum(yy), np.sum(ytr)+np.sum(yts)"
   ]
  },
  {
   "cell_type": "code",
   "execution_count": 32,
   "metadata": {},
   "outputs": [
    {
     "name": "stdout",
     "output_type": "stream",
     "text": [
      "[[17  7 82 78 86 27 64 53]\n",
      " [18 19  5 41 52 87 86 63]\n",
      " [ 9 58 67 93  2  7  2 18]\n",
      " [ 7 67 44  5 22 37 55 85]\n",
      " [14 14 68 80 64 26 13  8]\n",
      " [12  2 73 56 44 48 31 16]\n",
      " [ 3  9 88 26 94 45 40  5]\n",
      " [19 35 22 31 48 16 17  2]\n",
      " [15 73 35 32 27 99 89 72]\n",
      " [16 98 68 28 88 74 59 73]\n",
      " [ 4 60 34 46 61  0 56 74]\n",
      " [ 1 71 11  4 23 49 66 29]\n",
      " [10 14 65 78 28 95 57 57]\n",
      " [ 5 50 86 32 96 30 17 10]] \n",
      "--\n",
      "[[13 73 77 18  9 91 50 35]\n",
      " [11 18 14 74 21 59 91  8]\n",
      " [ 0  1  2  3  4  5  6  7]\n",
      " [ 2  9 26 89 35 61 66 96]\n",
      " [ 6 56 87 84 16 67 58 51]\n",
      " [ 8 25 90 15 95 92 55 76]] \n",
      "--\n",
      "[117 118 109 107 114 112 103 119 115 116 104 101 110 105] \n",
      "--\n",
      "[113 111 100 102 106 108] \n",
      "--\n"
     ]
    }
   ],
   "source": [
    "print (Xtr, \"\\n--\")\n",
    "print (Xts, \"\\n--\")\n",
    "print (ytr, \"\\n--\")\n",
    "print (yts, \"\\n--\")"
   ]
  },
  {
   "cell_type": "code",
   "execution_count": 33,
   "metadata": {},
   "outputs": [
    {
     "data": {
      "text/plain": [
       "array([[13, 73, 77, 18,  9, 91, 50, 35],\n",
       "       [11, 18, 14, 74, 21, 59, 91,  8],\n",
       "       [ 0,  1,  2,  3,  4,  5,  6,  7],\n",
       "       [ 2,  9, 26, 89, 35, 61, 66, 96],\n",
       "       [ 6, 56, 87, 84, 16, 67, 58, 51],\n",
       "       [ 8, 25, 90, 15, 95, 92, 55, 76]])"
      ]
     },
     "execution_count": 33,
     "metadata": {},
     "output_type": "execute_result"
    }
   ],
   "source": [
    "Xts"
   ]
  },
  {
   "cell_type": "markdown",
   "metadata": {},
   "source": [
    "**submit your code**"
   ]
  },
  {
   "cell_type": "code",
   "execution_count": 34,
   "metadata": {
    "scrolled": true
   },
   "outputs": [
    {
     "data": {
      "text/html": [
       "\n",
       "                <b>task_01 submitted.</b> <b><font color=\"blue\">your grade is 5</font></b> \n",
       "                <p/><pre>----- grader message -------</pre>testing with 100 random calls<br/><b>correct</b><pre>----------------------------</pre>\n",
       "                <p/><p/>\n",
       "                <div style=\"font-size:10px\"><b>SUBMISSION CODE</b> L8LhQ+UABXniqR+WnfWtJ+1tb2xDkn2JpDAsIT4U7SOOECuXhLwx/TkfsTp4kOTN+qE6jhzbv6fydvuPWCZ48AmhFbvJau9vWe9Tb6xRrPG7acJutK8ieY5XJYfIDeekYT17U7zHKybC1jcfAWo8xQ==</div>\n",
       "                "
      ],
      "text/plain": [
       "<IPython.core.display.HTML object>"
      ]
     },
     "metadata": {},
     "output_type": "display_data"
    }
   ],
   "source": [
    "student.submit_task(globals(), task_id=\"task_01\");"
   ]
  },
  {
   "cell_type": "markdown",
   "metadata": {},
   "source": [
    "## Task 2: Fit a model and make predictions"
   ]
  },
  {
   "cell_type": "markdown",
   "metadata": {},
   "source": [
    "observe how we create new data from synthetic datasets available in `sklearn`"
   ]
  },
  {
   "cell_type": "code",
   "execution_count": 37,
   "metadata": {},
   "outputs": [],
   "source": [
    "from sklearn.datasets import make_moons\n",
    "import matplotlib.pyplot as plt\n",
    "from local.lib import mlutils\n",
    "%matplotlib inline"
   ]
  },
  {
   "cell_type": "code",
   "execution_count": 38,
   "metadata": {},
   "outputs": [
    {
     "data": {
      "text/plain": [
       "((200, 2), (200,))"
      ]
     },
     "execution_count": 38,
     "metadata": {},
     "output_type": "execute_result"
    }
   ],
   "source": [
    "X, y = make_moons(200, noise=0.2)\n",
    "X.shape, y.shape"
   ]
  },
  {
   "cell_type": "code",
   "execution_count": 39,
   "metadata": {},
   "outputs": [
    {
     "data": {
      "image/png": "[encoded data removed]",
      "text/plain": [
       "<Figure size 432x288 with 1 Axes>"
      ]
     },
     "metadata": {
      "needs_background": "light"
     },
     "output_type": "display_data"
    }
   ],
   "source": [
    "mlutils.plot_2Ddata(X,y); plt.grid();"
   ]
  },
  {
   "cell_type": "markdown",
   "metadata": {},
   "source": [
    "observe also how we create an algorithm instance and fit a model"
   ]
  },
  {
   "cell_type": "code",
   "execution_count": 40,
   "metadata": {},
   "outputs": [
    {
     "data": {
      "text/plain": [
       "(0.49695, 0.50305)"
      ]
     },
     "execution_count": 40,
     "metadata": {},
     "output_type": "execute_result"
    },
    {
     "data": {
      "image/png": "[encoded data removed]",
      "text/plain": [
       "<Figure size 432x288 with 1 Axes>"
      ]
     },
     "metadata": {
      "needs_background": "light"
     },
     "output_type": "display_data"
    }
   ],
   "source": [
    "from sklearn.svm import SVC\n",
    "estimator = SVC(gamma=1)\n",
    "estimator.fit(X,y)\n",
    "mlutils.plot_2Ddata_with_boundary(estimator.predict, X, y)"
   ]
  },
  {
   "cell_type": "markdown",
   "metadata": {},
   "source": [
    "and how we make predictions"
   ]
  },
  {
   "cell_type": "code",
   "execution_count": 41,
   "metadata": {},
   "outputs": [
    {
     "name": "stdout",
     "output_type": "stream",
     "text": [
      "(200,)\n"
     ]
    },
    {
     "data": {
      "text/plain": [
       "array([0, 1, 1, 0, 1, 1, 0, 0, 0, 0, 0, 1, 0, 1, 0, 0, 1, 1, 1, 0, 0, 1,\n",
       "       0, 1, 0, 1, 0, 0, 1, 0, 1, 1, 1, 1, 0, 1, 1, 0, 0, 0, 0, 0, 0, 0,\n",
       "       1, 1, 0, 1, 1, 0, 0, 0, 1, 1, 1, 0, 1, 0, 0, 0, 1, 0, 1, 0, 0, 1,\n",
       "       1, 1, 1, 0, 1, 1, 0, 0, 1, 1, 0, 1, 1, 1, 0, 0, 1, 1, 1, 0, 1, 0,\n",
       "       1, 1, 1, 0, 0, 1, 0, 0, 0, 0, 1, 1, 1, 0, 1, 1, 1, 0, 0, 0, 1, 1,\n",
       "       0, 1, 0, 1, 1, 1, 1, 1, 1, 1, 1, 1, 1, 0, 0, 1, 1, 1, 1, 1, 1, 0,\n",
       "       1, 0, 0, 0, 1, 1, 0, 0, 1, 1, 1, 0, 0, 0, 0, 1, 1, 1, 0, 0, 0, 0,\n",
       "       1, 0, 0, 1, 1, 0, 1, 0, 0, 0, 0, 0, 1, 1, 0, 0, 1, 1, 1, 0, 0, 1,\n",
       "       0, 0, 1, 1, 0, 0, 1, 0, 1, 0, 0, 0, 1, 1, 0, 0, 0, 0, 0, 1, 0, 0,\n",
       "       0, 1], dtype=int64)"
      ]
     },
     "execution_count": 41,
     "metadata": {},
     "output_type": "execute_result"
    }
   ],
   "source": [
    "preds = estimator.predict(X)\n",
    "print (preds.shape)\n",
    "preds"
   ]
  },
  {
   "cell_type": "markdown",
   "metadata": {},
   "source": [
    "in this task you have to complete the following function so that:\n",
    "\n",
    "- it makes two non-random partitions of `X` and `y`. One containing the first half of the data and one containing the second part. If the number of elements of `X` is odd, then the second half will contain one more element than the first half.\n",
    "- it fits the model with the first part of the data\n",
    "- it makes predictions on the second half of the data\n",
    "- returns the estimator fitted, and the predictions on the second half of the data."
   ]
  },
  {
   "cell_type": "code",
   "execution_count": 62,
   "metadata": {},
   "outputs": [],
   "source": [
    "def fit_and_predict(estimator, X, y):\n",
    "    assert len(X)==len(y), \"X and y must have the same length\"\n",
    "    import math\n",
    "    n = len(y)\n",
    "    divisor = math.floor(n/2)\n",
    "    \n",
    "    X_train = X[:divisor]\n",
    "    X_test = X[divisor:]\n",
    "    Y_train = y[:divisor]\n",
    "    #Y_test = y[divisor:]\n",
    "    \n",
    "    estimator.fit(X_train, Y_train)\n",
    "    \n",
    "    predictions = estimator.predict(X_test)\n",
    "    \n",
    "    return estimator, predictions"
   ]
  },
  {
   "cell_type": "markdown",
   "metadata": {},
   "source": [
    "check your code. your predictions should be similar to\n",
    "\n",
    "    preds\n",
    "    >> array([0, 0, 0, 0, 1, 0, 1, 1, 1, 0])"
   ]
  },
  {
   "cell_type": "code",
   "execution_count": 63,
   "metadata": {},
   "outputs": [
    {
     "data": {
      "text/plain": [
       "((20, 2), (20,))"
      ]
     },
     "execution_count": 63,
     "metadata": {},
     "output_type": "execute_result"
    }
   ],
   "source": [
    "X = np.array([[ 0.74799424, -0.5867667 ],\n",
    "       [-0.64457753,  1.25127894],\n",
    "       [ 0.53682593,  0.10931563],\n",
    "       [-0.88825294, -0.06987509],\n",
    "       [ 0.99612638, -0.52295157],\n",
    "       [ 1.20586692,  0.01930477],\n",
    "       [-0.19368482,  0.65121567],\n",
    "       [ 0.1973759 ,  0.82250723],\n",
    "       [ 0.94859234, -0.5457241 ],\n",
    "       [ 1.87967948, -0.22740261],\n",
    "       [ 0.58766146,  0.3982837 ],\n",
    "       [ 0.27731571,  1.14369568],\n",
    "       [-0.67421956,  0.12785382],\n",
    "       [ 0.56957459,  1.05330376],\n",
    "       [ 1.52435938, -0.29864338],\n",
    "       [-0.15973608,  0.21790711],\n",
    "       [ 1.59037406, -0.56875485],\n",
    "       [ 0.43257507, -0.48900315],\n",
    "       [ 1.09440413, -0.73789029],\n",
    "       [-0.32940869,  0.74671384]])\n",
    "y = np.array([1, 0, 1, 0, 1, 0, 0, 0, 1, 1, 0, 0, 0, 0, 1, 1, 1, 1, 1, 0])\n",
    "X.shape, y.shape"
   ]
  },
  {
   "cell_type": "code",
   "execution_count": 65,
   "metadata": {},
   "outputs": [
    {
     "data": {
      "text/plain": [
       "((25, 2), (25,))"
      ]
     },
     "execution_count": 65,
     "metadata": {},
     "output_type": "execute_result"
    }
   ],
   "source": [
    "X = np.array([[ 1.64247266,  0.09387231],\n",
    " [-0.24671484,  1.06225344],\n",
    " [ 0.02669305,  0.16812697],\n",
    " [-0.7100346,   0.69460326],\n",
    " [-0.49043707,  0.25055735],\n",
    " [ 0.6966046,  -0.5500982 ],\n",
    " [ 0.40726623,  0.80713523],\n",
    " [-0.97866827, 0.47771203],\n",
    " [ 0.89906148,  0.25101618],\n",
    " [ 0.81453399, -0.57883434],\n",
    " [ 0.21304158,  0.3430131 ],\n",
    " [ 1.76665008,  0.0218057 ],\n",
    " [ 1.09722866, -0.41198785],\n",
    " [ 0.71714185,  0.5265123 ],\n",
    " [ 0.42744086,  1.11899043],\n",
    " [ 1.86038125, -0.09882981],\n",
    " [-0.20338198,  0.69308872],\n",
    " [ 2.10977889, -0.21475159],\n",
    " [ 0.27211183,  0.09299704],\n",
    " [-0.17373561,  0.00458162],\n",
    " [-0.87279098,  0.70667578],\n",
    " [ 1.1274946,  0.10050725],\n",
    " [ 1.19791925, -0.41094089],\n",
    " [ 0.48684078, -0.4119439 ],\n",
    " [ 0.83449989,  0.78319146]])\n",
    "y = np.array([1, 0, 1, 0, 0, 1, 0, 0, 0, 1, 1, 1, 1, 0, 0, 1, 0, 1, 1, 1, 0, 0, 1, 1, 0])\n",
    "X.shape, y.shape"
   ]
  },
  {
   "cell_type": "code",
   "execution_count": 66,
   "metadata": {},
   "outputs": [
    {
     "data": {
      "text/plain": [
       "array([1, 1, 0, 1, 0, 1, 1, 0, 0, 1, 1, 1, 0])"
      ]
     },
     "execution_count": 66,
     "metadata": {},
     "output_type": "execute_result"
    }
   ],
   "source": [
    "from sklearn.linear_model import LogisticRegression\n",
    "estimator = LogisticRegression()\n",
    "estimator, preds = fit_and_predict(estimator, X, y)\n",
    "preds"
   ]
  },
  {
   "cell_type": "markdown",
   "metadata": {},
   "source": [
    "**submit your code**"
   ]
  },
  {
   "cell_type": "code",
   "execution_count": 67,
   "metadata": {},
   "outputs": [
    {
     "data": {
      "text/html": [
       "\n",
       "                <b>task_02 submitted.</b> <b><font color=\"blue\">your grade is 5</font></b> \n",
       "                <p/><pre>----- grader message -------</pre>testing with 100 random calls<br/><b>correct</b><pre>----------------------------</pre>\n",
       "                <p/><p/>\n",
       "                <div style=\"font-size:10px\"><b>SUBMISSION CODE</b> g1/tIYLOw4oxZVdk+OwM1UtFRqDc2pvOrI1hguu+l7wW5Z935fW12lKgL5JNmWE+PW6BmuB2eyt1qx0Mhim9wVAaCfrZu4Dy/iWIYo60ePnJd0zIrj1v18uITQnUWk6lfNVNQQ/weYSqPyQ84cbTSw==</div>\n",
       "                "
      ],
      "text/plain": [
       "<IPython.core.display.HTML object>"
      ]
     },
     "metadata": {},
     "output_type": "display_data"
    }
   ],
   "source": [
    "student.submit_task(globals(), task_id=\"task_02\");"
   ]
  },
  {
   "cell_type": "markdown",
   "metadata": {},
   "source": [
    "## Task 3: Select data with indices\n",
    "\n",
    "Observe how we can create a vector or matrix of `True/False` (boolean) by applying a condition to any matrix or vector"
   ]
  },
  {
   "cell_type": "code",
   "execution_count": 68,
   "metadata": {},
   "outputs": [
    {
     "name": "stdout",
     "output_type": "stream",
     "text": [
      "[3 5 3 9 3 9 1 6 7 6 2 3 9 3 3]\n"
     ]
    }
   ],
   "source": [
    "import numpy as np\n",
    "y = np.random.randint(10, size=15)\n",
    "print(y)"
   ]
  },
  {
   "cell_type": "code",
   "execution_count": 69,
   "metadata": {},
   "outputs": [
    {
     "name": "stdout",
     "output_type": "stream",
     "text": [
      "[ True False  True False  True False  True False False False  True  True\n",
      " False  True  True]\n"
     ]
    }
   ],
   "source": [
    "y_less_than_5 = y<5\n",
    "print(y_less_than_5)"
   ]
  },
  {
   "cell_type": "markdown",
   "metadata": {},
   "source": [
    "and how we can select elements of a vector using a boolean vector of the same length"
   ]
  },
  {
   "cell_type": "code",
   "execution_count": 70,
   "metadata": {},
   "outputs": [
    {
     "data": {
      "text/plain": [
       "array([3, 3, 3, 1, 2, 3, 3, 3])"
      ]
     },
     "execution_count": 70,
     "metadata": {},
     "output_type": "execute_result"
    }
   ],
   "source": [
    "y[y_less_than_5]"
   ]
  },
  {
   "cell_type": "code",
   "execution_count": 71,
   "metadata": {},
   "outputs": [
    {
     "data": {
      "text/plain": [
       "array([3, 3, 3, 1, 2, 3, 3, 3])"
      ]
     },
     "execution_count": 71,
     "metadata": {},
     "output_type": "execute_result"
    }
   ],
   "source": [
    "y[y<5]"
   ]
  },
  {
   "cell_type": "markdown",
   "metadata": {},
   "source": [
    "python doesn't really care how you construct the vector of booleans to index any other vector or array"
   ]
  },
  {
   "cell_type": "code",
   "execution_count": 72,
   "metadata": {},
   "outputs": [
    {
     "data": {
      "text/plain": [
       "array([ 5,  5, 13, 13, 14, 11, 14, 16, 17,  6,  7,  4, 10, 10, 18])"
      ]
     },
     "execution_count": 72,
     "metadata": {},
     "output_type": "execute_result"
    }
   ],
   "source": [
    "v = np.random.randint(20, size=15)\n",
    "v"
   ]
  },
  {
   "cell_type": "code",
   "execution_count": 73,
   "metadata": {},
   "outputs": [
    {
     "data": {
      "text/plain": [
       "array([ 5, 13, 14, 14,  7,  4, 10, 18])"
      ]
     },
     "execution_count": 73,
     "metadata": {},
     "output_type": "execute_result"
    }
   ],
   "source": [
    "v[y<5]"
   ]
  },
  {
   "cell_type": "markdown",
   "metadata": {},
   "source": [
    "in this task you will complete the function `select_per_class` such that:\n",
    "\n",
    "- receives an array of data `X` and a vector of labels `y`, of the same length\n",
    "- the labels `y` are binary, they can only have values `0` or `1`\n",
    "- makes two partitions of `X`, one corresponding to the places where y is 0, and another where y is 1\n",
    "- returns the two partitions\n",
    "\n",
    "For instance, for the following X and y\n",
    "\n",
    "    X = np.array([[8, 8, 5, 2, 0, 0],\n",
    "                  [4, 4, 8, 1, 3, 7],\n",
    "                  [4, 5, 3, 6, 9, 6],\n",
    "                  [0, 3, 5, 3, 5, 3],\n",
    "                  [0, 7, 2, 7, 1, 7],\n",
    "                  [5, 7, 7, 1, 8, 5],\n",
    "                  [2, 5, 7, 3, 8, 0],\n",
    "                  [7, 2, 5, 9, 8, 7],\n",
    "                  [1, 6, 6, 1, 6, 0],\n",
    "                  [0, 7, 6, 5, 3, 4]])\n",
    "\n",
    "    y = np.array([0, 0, 0, 0, 1, 1, 0, 0, 1, 1])\n",
    "\n",
    "your function must return the following two matrices:\n",
    "\n",
    "    [[8 8 5 2 0 0]\n",
    "     [4 4 8 1 3 7]\n",
    "     [4 5 3 6 9 6]\n",
    "     [0 3 5 3 5 3]\n",
    "     [2 5 7 3 8 0]\n",
    "     [7 2 5 9 8 7]]\n",
    "     \n",
    "    [[0 7 2 7 1 7]\n",
    "     [5 7 7 1 8 5]\n",
    "     [1 6 6 1 6 0]\n",
    "     [0 7 6 5 3 4]]\n"
   ]
  },
  {
   "cell_type": "code",
   "execution_count": 74,
   "metadata": {},
   "outputs": [],
   "source": [
    "def select_per_class(X, y):\n",
    "    X1 = X[y == 0]\n",
    "    X2 = X[y == 1]\n",
    "    return X1, X2"
   ]
  },
  {
   "cell_type": "markdown",
   "metadata": {},
   "source": [
    "check manually your code"
   ]
  },
  {
   "cell_type": "code",
   "execution_count": 75,
   "metadata": {},
   "outputs": [],
   "source": [
    "X = np.array([[8, 8, 5, 2, 0, 0],\n",
    "              [4, 4, 8, 1, 3, 7],\n",
    "              [4, 5, 3, 6, 9, 6],\n",
    "              [0, 3, 5, 3, 5, 3],\n",
    "              [0, 7, 2, 7, 1, 7],\n",
    "              [5, 7, 7, 1, 8, 5],\n",
    "              [2, 5, 7, 3, 8, 0],\n",
    "              [7, 2, 5, 9, 8, 7],\n",
    "              [1, 6, 6, 1, 6, 0],\n",
    "              [0, 7, 6, 5, 3, 4]])\n",
    "\n",
    "y = np.array([0, 0, 0, 0, 1, 1, 0, 0, 1, 1])"
   ]
  },
  {
   "cell_type": "code",
   "execution_count": 77,
   "metadata": {},
   "outputs": [
    {
     "name": "stdout",
     "output_type": "stream",
     "text": [
      "[[8 8 5 2 0 0]\n",
      " [4 4 8 1 3 7]\n",
      " [4 5 3 6 9 6]\n",
      " [0 3 5 3 5 3]\n",
      " [2 5 7 3 8 0]\n",
      " [7 2 5 9 8 7]]\n",
      "[[0 7 2 7 1 7]\n",
      " [5 7 7 1 8 5]\n",
      " [1 6 6 1 6 0]\n",
      " [0 7 6 5 3 4]]\n"
     ]
    }
   ],
   "source": [
    "a,b = select_per_class(X, y)\n",
    "print(a)\n",
    "print(b)"
   ]
  },
  {
   "cell_type": "markdown",
   "metadata": {},
   "source": [
    "**submit your code**"
   ]
  },
  {
   "cell_type": "code",
   "execution_count": 78,
   "metadata": {
    "scrolled": true
   },
   "outputs": [
    {
     "data": {
      "text/html": [
       "\n",
       "                <b>task_03 submitted.</b> <b><font color=\"blue\">your grade is 5</font></b> \n",
       "                <p/><pre>----- grader message -------</pre>testing with 100 random calls<br/><b>correct</b><pre>----------------------------</pre>\n",
       "                <p/><p/>\n",
       "                <div style=\"font-size:10px\"><b>SUBMISSION CODE</b> cDuc2Vzb/RfYpt5kJtwuv9y/2dO4qqgTd8+vWpMo7e/ATGyxmBN1VOC4msJtujTApygRYw4lPcisJfjgGJL0Xe/gw0Kr1+4sybATiVEc7VpLcAfyp35JTOx6lVLbK8jV1iqW9vlbqX+OvQRzHr7OAw==</div>\n",
       "                "
      ],
      "text/plain": [
       "<IPython.core.display.HTML object>"
      ]
     },
     "metadata": {},
     "output_type": "display_data"
    }
   ],
   "source": [
    "student.submit_task(globals(), task_id=\"task_03\");"
   ]
  },
  {
   "cell_type": "markdown",
   "metadata": {},
   "source": [
    "## Task 4: Measure accuracy\n",
    "\n",
    "complete the following function such that:\n",
    "\n",
    "- it receives two binary vectors (composed of 0's and 1's) of the same length\n",
    "- returns the percentage of elements that are the same in both vectors\n",
    "\n",
    "recall that\n",
    "\n",
    "- if `a` and `b` are vectors of the same length a==b   returns a vector of booleans in which positions in True signal that elements in those position are the same\n",
    "- if `k` is a vector of booleans, `sum(k)` returns the number of `True` elements.\n",
    "\n",
    "\n",
    "for the following two vectors you should get 0.375\n",
    "\n",
    "    a = np.array([1,0,0,0,1,1,0,0])\n",
    "    b = np.array([1,1,1,1,0,1,0,1])\n",
    "    accuracy(a, b)\n",
    "    >>> 0.375\n"
   ]
  },
  {
   "cell_type": "code",
   "execution_count": 81,
   "metadata": {},
   "outputs": [],
   "source": [
    "def accuracy(y_true, y_pred):\n",
    "    result = np.sum(y_true == y_pred)/len(y_true)\n",
    "    return result"
   ]
  },
  {
   "cell_type": "code",
   "execution_count": 82,
   "metadata": {},
   "outputs": [
    {
     "data": {
      "text/plain": [
       "0.375"
      ]
     },
     "execution_count": 82,
     "metadata": {},
     "output_type": "execute_result"
    }
   ],
   "source": [
    "a = np.array([1,0,0,0,1,1,0,0])\n",
    "b = np.array([1,1,1,1,0,1,0,1])\n",
    "accuracy(a,b)"
   ]
  },
  {
   "cell_type": "markdown",
   "metadata": {},
   "source": [
    "**submit your code**"
   ]
  },
  {
   "cell_type": "code",
   "execution_count": 83,
   "metadata": {
    "scrolled": false
   },
   "outputs": [
    {
     "data": {
      "text/html": [
       "\n",
       "                <b>task_04 submitted.</b> <b><font color=\"blue\">your grade is 5</font></b> \n",
       "                <p/><pre>----- grader message -------</pre>testing with 100 random calls<br/><b>correct</b><pre>----------------------------</pre>\n",
       "                <p/><p/>\n",
       "                <div style=\"font-size:10px\"><b>SUBMISSION CODE</b> 7teLd1CbKgpSSVtZwTXoE2dQI4lgRIt5S6U5xxwv619w9qsHuH4wB/fkdZb4np2uNdtdn6AwkW1k23qLVJa0T8B6EQWzWppTkicgCCR8MR8W+1Ahh+nF66BYKbvUxP04KjW8HZwcQ2976d++10pZ4A==</div>\n",
       "                "
      ],
      "text/plain": [
       "<IPython.core.display.HTML object>"
      ]
     },
     "metadata": {},
     "output_type": "display_data"
    }
   ],
   "source": [
    "student.submit_task(globals(), task_id=\"task_04\");"
   ]
  },
  {
   "cell_type": "markdown",
   "metadata": {},
   "source": [
    "## Task 5: Random split, fit and predict\n",
    "\n",
    "complete the following function so that:\n",
    "\n",
    "- fits the estimator with a random sample of size `train_pct` of the data `X` and binary labels `y`. You can use the `split_data` function developed previously\n",
    "- makes predictions on the test part of the data\n",
    "- measures accuracy of those predictions. you may use the function created previously\n",
    "- returns the estimator fitted, the test part of `X` and `y`, and the accuracy measured\n",
    "\n",
    "\n",
    "the execution below should return something with the following structure (the actual numbers will change)\n",
    "\n",
    "\n",
    "    (LogisticRegression(C=1.0, class_weight=None, dual=False, fit_intercept=True,\n",
    "                        intercept_scaling=1, l1_ratio=None, max_iter=100,\n",
    "                        multi_class='warn', n_jobs=None, penalty='l2',\n",
    "                        random_state=None, solver='lbfgs', tol=0.0001, verbose=0,\n",
    "                        warm_start=False), array([[-0.76329684,  0.2572069 ],\n",
    "            [ 1.02356829,  0.37629873],\n",
    "            [ 0.32099415,  0.82244488],\n",
    "            [ 1.08858315, -0.61299904],\n",
    "            [ 0.58470767,  0.58510559],\n",
    "            [ 1.60827644, -0.15477173],\n",
    "            [ 1.53121784,  0.78121504],\n",
    "            [-0.42734156,  0.87585237],\n",
    "            [-0.36368682,  0.72152586],\n",
    "            [ 1.05312619,  0.19835526]]), array([0, 0, 1, 1, 0, 1, 1, 0, 0, 0]), 0.6)"
   ]
  },
  {
   "cell_type": "code",
   "execution_count": 84,
   "metadata": {},
   "outputs": [],
   "source": [
    "\n",
    "def split_fit_predict(estimator, X, y, train_pct):\n",
    "    \n",
    "    def split_data(X, y, pct):\n",
    "        assert len(X)==len(y), \"X and y must have the same length\"\n",
    "        assert pct>0 and pct<1, \"pct must be in the (0,1) iterval\"\n",
    "\n",
    "        n = len(y)\n",
    "        permutation = np.random.permutation(n)\n",
    "        n1_elements = int(n * pct)\n",
    "        permutation_partition_1 = permutation[:n1_elements]\n",
    "        permutation_partition_2 = permutation[n1_elements:]\n",
    "        X1 = X[[permutation_partition_1]]\n",
    "        X2 = X[[permutation_partition_2]]\n",
    "        y1 = y[[permutation_partition_1]]\n",
    "        y2 = y[[permutation_partition_2]]\n",
    "        return X1, X2, y1, y2\n",
    "    \n",
    "    def accuracy(y_true, y_pred):\n",
    "        return np.sum(y_true == y_pred)/len(y_true)\n",
    "\n",
    "    Xtr, Xts, ytr, yts = split_data(X, y, train_pct)\n",
    "    \n",
    "    estimator.fit(Xtr, ytr)\n",
    "    preds_ts = estimator.predict(Xts)\n",
    "    \n",
    "    return estimator, Xts, yts, accuracy(yts, preds_ts)"
   ]
  },
  {
   "cell_type": "code",
   "execution_count": 86,
   "metadata": {},
   "outputs": [
    {
     "name": "stderr",
     "output_type": "stream",
     "text": [
      "<ipython-input-84-8a3b2846333c>:12: FutureWarning: Using a non-tuple sequence for multidimensional indexing is deprecated; use `arr[tuple(seq)]` instead of `arr[seq]`. In the future this will be interpreted as an array index, `arr[np.array(seq)]`, which will result either in an error or a different result.\n",
      "  X1 = X[[permutation_partition_1]]\n",
      "<ipython-input-84-8a3b2846333c>:13: FutureWarning: Using a non-tuple sequence for multidimensional indexing is deprecated; use `arr[tuple(seq)]` instead of `arr[seq]`. In the future this will be interpreted as an array index, `arr[np.array(seq)]`, which will result either in an error or a different result.\n",
      "  X2 = X[[permutation_partition_2]]\n",
      "<ipython-input-84-8a3b2846333c>:14: FutureWarning: Using a non-tuple sequence for multidimensional indexing is deprecated; use `arr[tuple(seq)]` instead of `arr[seq]`. In the future this will be interpreted as an array index, `arr[np.array(seq)]`, which will result either in an error or a different result.\n",
      "  y1 = y[[permutation_partition_1]]\n",
      "<ipython-input-84-8a3b2846333c>:15: FutureWarning: Using a non-tuple sequence for multidimensional indexing is deprecated; use `arr[tuple(seq)]` instead of `arr[seq]`. In the future this will be interpreted as an array index, `arr[np.array(seq)]`, which will result either in an error or a different result.\n",
      "  y2 = y[[permutation_partition_2]]\n"
     ]
    },
    {
     "data": {
      "text/plain": [
       "(LogisticRegression(),\n",
       " array([[-1.14871516,  0.07615681],\n",
       "        [-0.61776164,  0.82713994],\n",
       "        [ 2.0689759 ,  0.18007575],\n",
       "        [-0.97582259,  0.28236122],\n",
       "        [ 1.93494477,  0.21784416],\n",
       "        [ 1.56064514, -0.08299757],\n",
       "        [ 0.22453175,  0.47764663],\n",
       "        [-0.6751445 ,  0.1048121 ],\n",
       "        [ 1.79004883, -0.14625294],\n",
       "        [-0.14634731,  0.55767061]]),\n",
       " array([0, 0, 1, 0, 1, 1, 1, 0, 1, 1], dtype=int64),\n",
       " 0.8)"
      ]
     },
     "execution_count": 86,
     "metadata": {},
     "output_type": "execute_result"
    }
   ],
   "source": [
    "from sklearn.linear_model import LogisticRegression\n",
    "\n",
    "X, y = make_moons(100, noise=0.2)\n",
    "estimator = LogisticRegression(solver=\"lbfgs\")\n",
    "split_fit_predict(estimator, X, y, train_pct=0.9)"
   ]
  },
  {
   "cell_type": "markdown",
   "metadata": {},
   "source": [
    "**submit your code**"
   ]
  },
  {
   "cell_type": "code",
   "execution_count": 87,
   "metadata": {
    "scrolled": false
   },
   "outputs": [
    {
     "data": {
      "text/html": [
       "\n",
       "                <b>task_05 submitted.</b> <b><font color=\"blue\">your grade is 5</font></b> \n",
       "                <p/><pre>----- grader message -------</pre>testing with 100 random calls<br/><b>correct</b><pre>----------------------------</pre>\n",
       "                <p/><p/>\n",
       "                <div style=\"font-size:10px\"><b>SUBMISSION CODE</b> afAbQAp+pbMd+Bxn4TC6d2l0i4RSgDWvfArKIaeO1tGa3JcNxZfRsNfXpOrd13ACqgHtRpH2SVPZcEruhTXZbfdEUHBtm3WdATAQNgrwEux4DptHR0BUe1QDDAlXxzIB3UcnrzrnmWkpmTB/vpmWKA==</div>\n",
       "                "
      ],
      "text/plain": [
       "<IPython.core.display.HTML object>"
      ]
     },
     "metadata": {},
     "output_type": "display_data"
    }
   ],
   "source": [
    "student.submit_task(globals(), task_id=\"task_05\");"
   ]
  }
 ],
 "metadata": {
  "kernelspec": {
   "display_name": "Python 3",
   "language": "python",
   "name": "python3"
  },
  "language_info": {
   "codemirror_mode": {
    "name": "ipython",
    "version": 3
   },
   "file_extension": ".py",
   "mimetype": "text/x-python",
   "name": "python",
   "nbconvert_exporter": "python",
   "pygments_lexer": "ipython3",
   "version": "3.8.3"
  }
 },
 "nbformat": 4,
 "nbformat_minor": 2
}
