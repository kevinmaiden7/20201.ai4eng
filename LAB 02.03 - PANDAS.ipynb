{
  "nbformat": 4,
  "nbformat_minor": 0,
  "metadata": {
    "kernelspec": {
      "display_name": "Python 3",
      "language": "python",
      "name": "python3"
    },
    "language_info": {
      "codemirror_mode": {
        "name": "ipython",
        "version": 3
      },
      "file_extension": ".py",
      "mimetype": "text/x-python",
      "name": "python",
      "nbconvert_exporter": "python",
      "pygments_lexer": "ipython3",
      "version": "3.7.4"
    },
    "colab": {
      "name": "LAB 02.03 - PANDAS.ipynb",
      "provenance": []
    }
  },
  "cells": [
    {
      "cell_type": "code",
      "metadata": {
        "id": "v2Vr55vSrhaB",
        "colab_type": "code",
        "colab": {
          "base_uri": "https://localhost:8080/",
          "height": 133
        },
        "outputId": "a825dd47-2f29-4020-9a02-2af768b2ed4e"
      },
      "source": [
        "!wget --no-cache -O init.py -q https://raw.githubusercontent.com/rramosp/20201.ai4eng/master/init.py\n",
        "import init; init.init(force_download=False); init.get_weblink()"
      ],
      "execution_count": 1,
      "outputs": [
        {
          "output_type": "stream",
          "text": [
            "enabling encryption...\n",
            "encryption enabled\n",
            "replicating local resources\n",
            "endpoint https://m5knaekxo6.execute-api.us-west-2.amazonaws.com/dev-v0001/rlxmooc\n"
          ],
          "name": "stdout"
        },
        {
          "output_type": "execute_result",
          "data": {
            "text/html": [
              "<h3>See <a href='https://m5knaekxo6.execute-api.us-west-2.amazonaws.com/dev-v0001/rlxmooc/web/login' target='_blank'>my courses and progress</a></h2>"
            ],
            "text/plain": [
              "<IPython.core.display.HTML object>"
            ]
          },
          "metadata": {
            "tags": []
          },
          "execution_count": 1
        }
      ]
    },
    {
      "cell_type": "code",
      "metadata": {
        "id": "TjsNuAgHrhav",
        "colab_type": "code",
        "colab": {
          "base_uri": "https://localhost:8080/",
          "height": 114
        },
        "outputId": "eb46818e-f1b7-4691-eaf5-ba773fa159a4"
      },
      "source": [
        "from local.lib.rlxmoocapi import submit, session\n",
        "student = session.Session(init.endpoint).login( course_id=init.course_id, \n",
        "                                                session_id=\"UDEA\", \n",
        "                                                lab_id=\"L02.03\" )\n",
        "init.get_weblink()"
      ],
      "execution_count": 2,
      "outputs": [
        {
          "output_type": "stream",
          "text": [
            "username: kevin.martinez@udea.edu.co\n",
            "password: ··········\n",
            "endpoint https://m5knaekxo6.execute-api.us-west-2.amazonaws.com/dev-v0001/rlxmooc\n"
          ],
          "name": "stdout"
        },
        {
          "output_type": "execute_result",
          "data": {
            "text/html": [
              "<h3>See <a href='https://m5knaekxo6.execute-api.us-west-2.amazonaws.com/dev-v0001/rlxmooc/web/login' target='_blank'>my courses and progress</a></h2>"
            ],
            "text/plain": [
              "<IPython.core.display.HTML object>"
            ]
          },
          "metadata": {
            "tags": []
          },
          "execution_count": 2
        }
      ]
    },
    {
      "cell_type": "code",
      "metadata": {
        "id": "t3uUBYmXrhba",
        "colab_type": "code",
        "colab": {}
      },
      "source": [
        "import numpy as np\n",
        "import pandas as pd"
      ],
      "execution_count": 3,
      "outputs": []
    },
    {
      "cell_type": "markdown",
      "metadata": {
        "id": "itFne6zlrhbu",
        "colab_type": "text"
      },
      "source": [
        "# Task 1: Extract data\n",
        "\n",
        "we have a dataframe of items with a price and, **sometimes**, with an extra column (`margin`).\n",
        "\n",
        "You will have to complete a function that will **filter** the dataframe selecting the rows:\n",
        "\n",
        "- whose price is > 100\n",
        "- **OR** whose margin is >10, if the column `margin` is present\n",
        "\n",
        "your function must return **A LIST** with the item ids of the selected rows\n",
        "\n",
        "For instance, with the following dataframe\n",
        "\n",
        "             price  category\n",
        "    itemid                  \n",
        "    56556   108.15       2.0\n",
        "    73065    83.54       2.0\n",
        "    36619   114.42       0.0\n",
        "    73414    82.94       0.0\n",
        "    13410   115.13       2.0\n",
        "    66153    91.50       1.0\n",
        "    77380    85.82       0.0\n",
        "    73249    95.95       0.0\n",
        "    11654   100.22       2.0\n",
        "    11972    77.16       1.0\n",
        "\n",
        "your must return the following list:\n",
        "\n",
        "     [56556, 36619, 13410, 11654]\n",
        "     \n",
        "But if you get the following dataframe\n",
        "\n",
        "             price  category  margin\n",
        "    itemid                          \n",
        "    39059    98.11       0.0   11.04\n",
        "    19526    98.11       1.0   11.25\n",
        "    78176    94.34       1.0   10.51\n",
        "    50948   102.37       1.0   10.77\n",
        "    12111    98.07       1.0    8.50\n",
        "    56191    98.53       1.0   11.65\n",
        "    38887    91.49       2.0   11.24\n",
        "    77915   117.30       0.0    8.64\n",
        "    55010    96.13       0.0    8.95\n",
        "    45925    98.59       1.0   10.45\n",
        "    \n",
        "you must return the following list\n",
        "\n",
        "    [39059, 19526, 78176, 50948, 56191, 38887, 77915, 45925]"
      ]
    },
    {
      "cell_type": "code",
      "metadata": {
        "id": "pdzxMYtErhb0",
        "colab_type": "code",
        "colab": {}
      },
      "source": [
        "def create_df(missing=False, n=10):\n",
        "    itemid   = np.random.randint(100000, size=n)+1000\n",
        "    category = np.random.randint(3, size=n)\n",
        "    price    = np.round(np.random.normal(loc=100, scale=10, size=n),2)\n",
        "    margin   = np.round(np.random.normal(loc=10, scale=1, size=n),2)\n",
        "    \n",
        "    if missing:\n",
        "        nmissing = np.random.randint(len(price)//2)+2                                     \n",
        "        price[np.random.permutation(len(price))[:nmissing]] = np.nan\n",
        "    \n",
        "    d = pd.DataFrame(np.r_[[price, category, margin]].T, index=itemid, columns=[\"price\", \"category\", \"margin\"])\n",
        "    d.index.name=\"itemid\"\n",
        "    if np.random.random()>.5:\n",
        "        d = d[d.columns[:2]]\n",
        "        \n",
        "    return d"
      ],
      "execution_count": 4,
      "outputs": []
    },
    {
      "cell_type": "code",
      "metadata": {
        "id": "Vt8tjLAyrhcR",
        "colab_type": "code",
        "colab": {
          "base_uri": "https://localhost:8080/",
          "height": 394
        },
        "outputId": "8b3890e3-bb0f-4172-cdd6-2b30afea15fd"
      },
      "source": [
        "d = create_df()\n",
        "d"
      ],
      "execution_count": 5,
      "outputs": [
        {
          "output_type": "execute_result",
          "data": {
            "text/html": [
              "<div>\n",
              "<style scoped>\n",
              "    .dataframe tbody tr th:only-of-type {\n",
              "        vertical-align: middle;\n",
              "    }\n",
              "\n",
              "    .dataframe tbody tr th {\n",
              "        vertical-align: top;\n",
              "    }\n",
              "\n",
              "    .dataframe thead th {\n",
              "        text-align: right;\n",
              "    }\n",
              "</style>\n",
              "<table border=\"1\" class=\"dataframe\">\n",
              "  <thead>\n",
              "    <tr style=\"text-align: right;\">\n",
              "      <th></th>\n",
              "      <th>price</th>\n",
              "      <th>category</th>\n",
              "      <th>margin</th>\n",
              "    </tr>\n",
              "    <tr>\n",
              "      <th>itemid</th>\n",
              "      <th></th>\n",
              "      <th></th>\n",
              "      <th></th>\n",
              "    </tr>\n",
              "  </thead>\n",
              "  <tbody>\n",
              "    <tr>\n",
              "      <th>60344</th>\n",
              "      <td>95.28</td>\n",
              "      <td>0.0</td>\n",
              "      <td>9.25</td>\n",
              "    </tr>\n",
              "    <tr>\n",
              "      <th>81126</th>\n",
              "      <td>91.72</td>\n",
              "      <td>2.0</td>\n",
              "      <td>10.18</td>\n",
              "    </tr>\n",
              "    <tr>\n",
              "      <th>57027</th>\n",
              "      <td>99.69</td>\n",
              "      <td>2.0</td>\n",
              "      <td>10.37</td>\n",
              "    </tr>\n",
              "    <tr>\n",
              "      <th>12761</th>\n",
              "      <td>89.33</td>\n",
              "      <td>1.0</td>\n",
              "      <td>9.62</td>\n",
              "    </tr>\n",
              "    <tr>\n",
              "      <th>22234</th>\n",
              "      <td>104.18</td>\n",
              "      <td>2.0</td>\n",
              "      <td>11.76</td>\n",
              "    </tr>\n",
              "    <tr>\n",
              "      <th>58712</th>\n",
              "      <td>95.74</td>\n",
              "      <td>0.0</td>\n",
              "      <td>10.88</td>\n",
              "    </tr>\n",
              "    <tr>\n",
              "      <th>68997</th>\n",
              "      <td>89.57</td>\n",
              "      <td>1.0</td>\n",
              "      <td>11.03</td>\n",
              "    </tr>\n",
              "    <tr>\n",
              "      <th>99947</th>\n",
              "      <td>107.77</td>\n",
              "      <td>1.0</td>\n",
              "      <td>9.83</td>\n",
              "    </tr>\n",
              "    <tr>\n",
              "      <th>4079</th>\n",
              "      <td>96.01</td>\n",
              "      <td>0.0</td>\n",
              "      <td>11.28</td>\n",
              "    </tr>\n",
              "    <tr>\n",
              "      <th>6057</th>\n",
              "      <td>107.47</td>\n",
              "      <td>1.0</td>\n",
              "      <td>10.75</td>\n",
              "    </tr>\n",
              "  </tbody>\n",
              "</table>\n",
              "</div>"
            ],
            "text/plain": [
              "         price  category  margin\n",
              "itemid                          \n",
              "60344    95.28       0.0    9.25\n",
              "81126    91.72       2.0   10.18\n",
              "57027    99.69       2.0   10.37\n",
              "12761    89.33       1.0    9.62\n",
              "22234   104.18       2.0   11.76\n",
              "58712    95.74       0.0   10.88\n",
              "68997    89.57       1.0   11.03\n",
              "99947   107.77       1.0    9.83\n",
              "4079     96.01       0.0   11.28\n",
              "6057    107.47       1.0   10.75"
            ]
          },
          "metadata": {
            "tags": []
          },
          "execution_count": 5
        }
      ]
    },
    {
      "cell_type": "code",
      "metadata": {
        "id": "L0hQe2OTrhch",
        "colab_type": "code",
        "colab": {}
      },
      "source": [
        "def select_items(df):\n",
        "    columns = df.columns\n",
        "    if 'margin' in columns:\n",
        "        result = df[(df.price > 100) | (df.margin > 10)].index.tolist()\n",
        "    else:\n",
        "        result = df[(df.price > 100)].index.tolist()\n",
        "    return result"
      ],
      "execution_count": null,
      "outputs": []
    },
    {
      "cell_type": "markdown",
      "metadata": {
        "id": "sNfpNNfUrhcv",
        "colab_type": "text"
      },
      "source": [
        "**manually check your answer**"
      ]
    },
    {
      "cell_type": "code",
      "metadata": {
        "id": "1Sil2eDxrhcx",
        "colab_type": "code",
        "colab": {},
        "outputId": "7ec53487-225d-4ae4-dfb5-83fb770b05eb"
      },
      "source": [
        "select_items(d)"
      ],
      "execution_count": null,
      "outputs": [
        {
          "output_type": "execute_result",
          "data": {
            "text/plain": [
              "[84440, 73870, 95464, 12811, 93402, 9382]"
            ]
          },
          "metadata": {
            "tags": []
          },
          "execution_count": 30
        }
      ]
    },
    {
      "cell_type": "markdown",
      "metadata": {
        "id": "o6GkKMr-rhc9",
        "colab_type": "text"
      },
      "source": [
        "**submit your code**"
      ]
    },
    {
      "cell_type": "code",
      "metadata": {
        "scrolled": false,
        "id": "OtVVn50MrhdA",
        "colab_type": "code",
        "colab": {},
        "outputId": "98754cd5-8f5a-45fe-ee74-698fd805a5e8"
      },
      "source": [
        "student.submit_task(globals(), task_id=\"task_01\");"
      ],
      "execution_count": null,
      "outputs": [
        {
          "output_type": "display_data",
          "data": {
            "text/html": [
              "\n",
              "                <b>task_01 submitted.</b> <b><font color=\"blue\">your grade is 5</font></b> \n",
              "                <p/><pre>----- grader message -------</pre><br/>testing with 100 random calls<br/><b>correct</b><pre>----------------------------</pre>\n",
              "                <p/><p/>\n",
              "                <div style=\"font-size:10px\"><b>SUBMISSION CODE</b> pk8OsGOOBI9kEeJLMAYdQzZf5OJFCt9X3UwCsiTyo1wPkxtRnm4PSU7k2vogjiNNWL0dSsEp2Dj4Q/LrdOK7N+LHsfe0+7H+nBgNmAS9NaU0fJynBwo7mcuqAWQq+9b+emhjg0fb/KrKoyWPGAWVmw==</div>\n",
              "                "
            ],
            "text/plain": [
              "<IPython.core.display.HTML object>"
            ]
          },
          "metadata": {
            "tags": []
          }
        }
      ]
    },
    {
      "cell_type": "markdown",
      "metadata": {
        "id": "ETTazxuNrhdT",
        "colab_type": "text"
      },
      "source": [
        "# Task 2: Group statistics\n",
        "\n",
        "Complete the following function so that it returns a dataframe with the average, max and min **prices** per category. \n",
        "\n",
        "For instance, for the following dataframe\n",
        "\n",
        "             price  category  margin\n",
        "    itemid                          \n",
        "    17946    93.85       1.0   10.64\n",
        "    61190    91.72       1.0    9.76\n",
        "    39639   100.16       1.0   10.67\n",
        "    17791   110.44       2.0    9.65\n",
        "    7333    101.05       1.0    9.69\n",
        "    77362   122.33       0.0   11.14\n",
        "    92646   108.13       2.0   10.58\n",
        "    27797    85.52       2.0   10.88\n",
        "    31746    97.56       0.0    9.75\n",
        "    12355   101.04       2.0    9.51\n",
        "    \n",
        "you should return the following dataframe\n",
        "\n",
        "                 media  maximo  minimo\n",
        "    categoria                         \n",
        "    0         109.9450  122.33  97.56\n",
        "    1          96.6950  101.05  91.72\n",
        "    2         101.2825  110.44  85.52\n",
        "    \n",
        "observe that your result\n",
        "- must not be a **multilevel** columnset.\n",
        "- the column names and the index name must be **exactly** as in the example.\n",
        "- the **index** must be of type **int**."
      ]
    },
    {
      "cell_type": "code",
      "metadata": {
        "id": "rpfPuclLrhdX",
        "colab_type": "code",
        "colab": {}
      },
      "source": [
        "def get_stats(df):\n",
        "    \n",
        "    result = pd.DataFrame(index = [0, 1, 2], columns = ['media', 'maximo', 'minimo'])\n",
        "    result.index.name = 'categoria'\n",
        "    result['media'] = df[['price', 'category']].groupby('category').mean()\n",
        "    result['maximo'] = df[['price', 'category']].groupby('category').max()\n",
        "    result['minimo'] = df[['price', 'category']].groupby('category').min()\n",
        "    \n",
        "    return result"
      ],
      "execution_count": 6,
      "outputs": []
    },
    {
      "cell_type": "markdown",
      "metadata": {
        "id": "3NHkEJvIrheO",
        "colab_type": "text"
      },
      "source": [
        "**manually check your answer**"
      ]
    },
    {
      "cell_type": "code",
      "metadata": {
        "id": "AeG9G8DCrheR",
        "colab_type": "code",
        "colab": {
          "base_uri": "https://localhost:8080/",
          "height": 394
        },
        "outputId": "61c7e2a0-6b1c-455d-b8f0-21cfe73bea45"
      },
      "source": [
        "d = create_df()\n",
        "d"
      ],
      "execution_count": 8,
      "outputs": [
        {
          "output_type": "execute_result",
          "data": {
            "text/html": [
              "<div>\n",
              "<style scoped>\n",
              "    .dataframe tbody tr th:only-of-type {\n",
              "        vertical-align: middle;\n",
              "    }\n",
              "\n",
              "    .dataframe tbody tr th {\n",
              "        vertical-align: top;\n",
              "    }\n",
              "\n",
              "    .dataframe thead th {\n",
              "        text-align: right;\n",
              "    }\n",
              "</style>\n",
              "<table border=\"1\" class=\"dataframe\">\n",
              "  <thead>\n",
              "    <tr style=\"text-align: right;\">\n",
              "      <th></th>\n",
              "      <th>price</th>\n",
              "      <th>category</th>\n",
              "      <th>margin</th>\n",
              "    </tr>\n",
              "    <tr>\n",
              "      <th>itemid</th>\n",
              "      <th></th>\n",
              "      <th></th>\n",
              "      <th></th>\n",
              "    </tr>\n",
              "  </thead>\n",
              "  <tbody>\n",
              "    <tr>\n",
              "      <th>81739</th>\n",
              "      <td>105.38</td>\n",
              "      <td>1.0</td>\n",
              "      <td>11.35</td>\n",
              "    </tr>\n",
              "    <tr>\n",
              "      <th>3837</th>\n",
              "      <td>101.86</td>\n",
              "      <td>1.0</td>\n",
              "      <td>10.37</td>\n",
              "    </tr>\n",
              "    <tr>\n",
              "      <th>91960</th>\n",
              "      <td>102.65</td>\n",
              "      <td>2.0</td>\n",
              "      <td>10.39</td>\n",
              "    </tr>\n",
              "    <tr>\n",
              "      <th>43278</th>\n",
              "      <td>106.76</td>\n",
              "      <td>0.0</td>\n",
              "      <td>9.67</td>\n",
              "    </tr>\n",
              "    <tr>\n",
              "      <th>32217</th>\n",
              "      <td>89.38</td>\n",
              "      <td>1.0</td>\n",
              "      <td>10.15</td>\n",
              "    </tr>\n",
              "    <tr>\n",
              "      <th>88650</th>\n",
              "      <td>92.57</td>\n",
              "      <td>1.0</td>\n",
              "      <td>9.92</td>\n",
              "    </tr>\n",
              "    <tr>\n",
              "      <th>18823</th>\n",
              "      <td>82.08</td>\n",
              "      <td>1.0</td>\n",
              "      <td>9.10</td>\n",
              "    </tr>\n",
              "    <tr>\n",
              "      <th>7770</th>\n",
              "      <td>105.86</td>\n",
              "      <td>2.0</td>\n",
              "      <td>9.97</td>\n",
              "    </tr>\n",
              "    <tr>\n",
              "      <th>85834</th>\n",
              "      <td>101.10</td>\n",
              "      <td>2.0</td>\n",
              "      <td>9.24</td>\n",
              "    </tr>\n",
              "    <tr>\n",
              "      <th>90672</th>\n",
              "      <td>95.64</td>\n",
              "      <td>0.0</td>\n",
              "      <td>9.28</td>\n",
              "    </tr>\n",
              "  </tbody>\n",
              "</table>\n",
              "</div>"
            ],
            "text/plain": [
              "         price  category  margin\n",
              "itemid                          \n",
              "81739   105.38       1.0   11.35\n",
              "3837    101.86       1.0   10.37\n",
              "91960   102.65       2.0   10.39\n",
              "43278   106.76       0.0    9.67\n",
              "32217    89.38       1.0   10.15\n",
              "88650    92.57       1.0    9.92\n",
              "18823    82.08       1.0    9.10\n",
              "7770    105.86       2.0    9.97\n",
              "85834   101.10       2.0    9.24\n",
              "90672    95.64       0.0    9.28"
            ]
          },
          "metadata": {
            "tags": []
          },
          "execution_count": 8
        }
      ]
    },
    {
      "cell_type": "code",
      "metadata": {
        "id": "PeZPHRiJrhek",
        "colab_type": "code",
        "colab": {
          "base_uri": "https://localhost:8080/",
          "height": 175
        },
        "outputId": "aef151c7-5a72-44da-f16e-e6a85dd41c27"
      },
      "source": [
        "nf = get_stats(d)\n",
        "nf"
      ],
      "execution_count": 9,
      "outputs": [
        {
          "output_type": "execute_result",
          "data": {
            "text/html": [
              "<div>\n",
              "<style scoped>\n",
              "    .dataframe tbody tr th:only-of-type {\n",
              "        vertical-align: middle;\n",
              "    }\n",
              "\n",
              "    .dataframe tbody tr th {\n",
              "        vertical-align: top;\n",
              "    }\n",
              "\n",
              "    .dataframe thead th {\n",
              "        text-align: right;\n",
              "    }\n",
              "</style>\n",
              "<table border=\"1\" class=\"dataframe\">\n",
              "  <thead>\n",
              "    <tr style=\"text-align: right;\">\n",
              "      <th></th>\n",
              "      <th>media</th>\n",
              "      <th>maximo</th>\n",
              "      <th>minimo</th>\n",
              "    </tr>\n",
              "    <tr>\n",
              "      <th>categoria</th>\n",
              "      <th></th>\n",
              "      <th></th>\n",
              "      <th></th>\n",
              "    </tr>\n",
              "  </thead>\n",
              "  <tbody>\n",
              "    <tr>\n",
              "      <th>0</th>\n",
              "      <td>101.200000</td>\n",
              "      <td>106.76</td>\n",
              "      <td>95.64</td>\n",
              "    </tr>\n",
              "    <tr>\n",
              "      <th>1</th>\n",
              "      <td>94.254000</td>\n",
              "      <td>105.38</td>\n",
              "      <td>82.08</td>\n",
              "    </tr>\n",
              "    <tr>\n",
              "      <th>2</th>\n",
              "      <td>103.203333</td>\n",
              "      <td>105.86</td>\n",
              "      <td>101.10</td>\n",
              "    </tr>\n",
              "  </tbody>\n",
              "</table>\n",
              "</div>"
            ],
            "text/plain": [
              "                media  maximo  minimo\n",
              "categoria                            \n",
              "0          101.200000  106.76   95.64\n",
              "1           94.254000  105.38   82.08\n",
              "2          103.203333  105.86  101.10"
            ]
          },
          "metadata": {
            "tags": []
          },
          "execution_count": 9
        }
      ]
    },
    {
      "cell_type": "code",
      "metadata": {
        "id": "MUe9jWqarhe1",
        "colab_type": "code",
        "colab": {
          "base_uri": "https://localhost:8080/",
          "height": 73
        },
        "outputId": "127a7e09-271d-4398-9df8-1151397ba541"
      },
      "source": [
        "print(nf.index.dtype)\n",
        "nf.index.astype(int)\n",
        "print(nf.index.dtype)\n",
        "nf.index.astype('int')\n",
        "print(nf.index.dtype)"
      ],
      "execution_count": 10,
      "outputs": [
        {
          "output_type": "stream",
          "text": [
            "int64\n",
            "int64\n",
            "int64\n"
          ],
          "name": "stdout"
        }
      ]
    },
    {
      "cell_type": "markdown",
      "metadata": {
        "id": "F0uzSp8OrhfL",
        "colab_type": "text"
      },
      "source": [
        "**submit your code**"
      ]
    },
    {
      "cell_type": "code",
      "metadata": {
        "scrolled": true,
        "id": "gjkXH_HOrhfN",
        "colab_type": "code",
        "colab": {
          "base_uri": "https://localhost:8080/",
          "height": 163
        },
        "outputId": "6cd53539-cfc6-4f1c-8de9-37888f6f925c"
      },
      "source": [
        "student.submit_task(globals(), task_id=\"task_02\");"
      ],
      "execution_count": 11,
      "outputs": [
        {
          "output_type": "display_data",
          "data": {
            "text/html": [
              "\n",
              "                <b>task_02 submitted.</b> <b><font color=\"blue\">your grade is 5</font></b> \n",
              "                <p/><pre>----- grader message -------</pre><br/>testing with 100 random calls<br/><br/><b>correct</b><pre>----------------------------</pre>\n",
              "                <p/><p/>\n",
              "                <div style=\"font-size:10px\"><b>SUBMISSION CODE</b> /c9K+NaE/7qPRclNmdoFZutJlANQq2WuaBqIAtRkOakP1rVb8zZvwrKCPjtKo8zpAw4Kx8F+zQS4ceCLKQdeF1VbrvbEg4Nf905gyxk+eT+vHb6HB+wKUFNEdGeEZGJELtorjAPReB3R1gYH275XIA==</div>\n",
              "                "
            ],
            "text/plain": [
              "<IPython.core.display.HTML object>"
            ]
          },
          "metadata": {
            "tags": []
          }
        }
      ]
    },
    {
      "cell_type": "markdown",
      "metadata": {
        "id": "_c_8HDeLrhfZ",
        "colab_type": "text"
      },
      "source": [
        "# Task 3: Fill in missing data\n",
        "\n",
        "Fill in the missing data in the **price** column with the following procedure:\n",
        "\n",
        "- compute the mean and std of the avaialable prices\n",
        "- sample from a normal distribution with the computed mean and std (see [`np.random.normal`])(https://numpy.org/doc/stable/reference/random/generated/numpy.random.normal.html), as many samples as missing data\n",
        "- substitute the missing values with the samples\n",
        "\n",
        "For instance, for this input dataframe:\n",
        "\n",
        "             price  category  margin\n",
        "    itemid                          \n",
        "    18922      NaN       1.0   10.32\n",
        "    69500   121.25       1.0   10.22\n",
        "    76442    90.25       1.0   12.60\n",
        "    33863   106.51       0.0   10.26\n",
        "    15904    95.87       1.0   11.51\n",
        "    41946   103.47       2.0    9.85\n",
        "    85451    93.08       2.0    9.56\n",
        "    70028   116.68       1.0    9.11\n",
        "    26860      NaN       2.0    9.71\n",
        "    12807    91.48       0.0    9.77\n",
        "    \n",
        "your solution might be similar to this (not exactly the same as you will be sampling data):\n",
        "\n",
        "\n",
        "                 price  category  margin\n",
        "    itemid                              \n",
        "    18922    97.441188       1.0   10.32\n",
        "    69500   121.250000       1.0   10.22\n",
        "    76442    90.250000       1.0   12.60\n",
        "    33863   106.510000       0.0   10.26\n",
        "    15904    95.870000       1.0   11.51\n",
        "    41946   103.470000       2.0    9.85\n",
        "    85451    93.080000       2.0    9.56\n",
        "    70028   116.680000       1.0    9.11\n",
        "    26860   103.294843       2.0    9.71\n",
        "    12807    91.480000       0.0    9.77\n",
        "    \n",
        "    \n",
        "**WARN**: your function must not modify the original dataframe, make a copy of the input dataframe, fill the values in the copy and return it.\n",
        "\n",
        "**HINT**: use the [`isna()`](https://pandas.pydata.org/pandas-docs/stable/reference/api/pandas.DataFrame.isna.html) method of a dataframe or a series."
      ]
    },
    {
      "cell_type": "code",
      "metadata": {
        "id": "lq7Piyn7rhfb",
        "colab_type": "code",
        "colab": {}
      },
      "source": [
        "def fillna(df):\n",
        "    \n",
        "    mean_std = df.describe()[['price']].loc['mean':'std'].to_numpy().tolist() # getting the mean and std\n",
        "    \n",
        "    na = df.isna()\n",
        "    \n",
        "    info = na[['price']].describe().to_numpy().tolist()\n",
        "    if info[2][0] == False: \n",
        "        n_samples = info[0][0] - info[3][0]\n",
        "    else: n_samples = info[3][0]\n",
        "    \n",
        "    new_samples = np.random.normal(mean_std[0][0], mean_std[1][0], n_samples)\n",
        "    \n",
        "    to_replace = na[na.price == True].index.tolist() # getting the rows to replace\n",
        "    \n",
        "    result = df.copy()\n",
        "    \n",
        "    i = 0 # replacing NaN values\n",
        "    for index in to_replace:\n",
        "        result.at[index, 'price'] = new_samples[i]\n",
        "        i += 1\n",
        "        \n",
        "    return result"
      ],
      "execution_count": null,
      "outputs": []
    },
    {
      "cell_type": "markdown",
      "metadata": {
        "id": "PNNMXME8rhf1",
        "colab_type": "text"
      },
      "source": [
        "**check manually your code**"
      ]
    },
    {
      "cell_type": "code",
      "metadata": {
        "id": "27WseMSNrhf2",
        "colab_type": "code",
        "colab": {},
        "outputId": "1ce229b9-2e60-4eb5-e29f-a6ee9ddd6163"
      },
      "source": [
        "d = create_df(missing=True)\n",
        "d"
      ],
      "execution_count": null,
      "outputs": [
        {
          "output_type": "execute_result",
          "data": {
            "text/html": [
              "<div>\n",
              "<style scoped>\n",
              "    .dataframe tbody tr th:only-of-type {\n",
              "        vertical-align: middle;\n",
              "    }\n",
              "\n",
              "    .dataframe tbody tr th {\n",
              "        vertical-align: top;\n",
              "    }\n",
              "\n",
              "    .dataframe thead th {\n",
              "        text-align: right;\n",
              "    }\n",
              "</style>\n",
              "<table border=\"1\" class=\"dataframe\">\n",
              "  <thead>\n",
              "    <tr style=\"text-align: right;\">\n",
              "      <th></th>\n",
              "      <th>price</th>\n",
              "      <th>category</th>\n",
              "    </tr>\n",
              "    <tr>\n",
              "      <th>itemid</th>\n",
              "      <th></th>\n",
              "      <th></th>\n",
              "    </tr>\n",
              "  </thead>\n",
              "  <tbody>\n",
              "    <tr>\n",
              "      <td>55860</td>\n",
              "      <td>98.39</td>\n",
              "      <td>1.0</td>\n",
              "    </tr>\n",
              "    <tr>\n",
              "      <td>5831</td>\n",
              "      <td>84.55</td>\n",
              "      <td>1.0</td>\n",
              "    </tr>\n",
              "    <tr>\n",
              "      <td>64358</td>\n",
              "      <td>104.73</td>\n",
              "      <td>0.0</td>\n",
              "    </tr>\n",
              "    <tr>\n",
              "      <td>33026</td>\n",
              "      <td>96.72</td>\n",
              "      <td>1.0</td>\n",
              "    </tr>\n",
              "    <tr>\n",
              "      <td>81521</td>\n",
              "      <td>80.60</td>\n",
              "      <td>2.0</td>\n",
              "    </tr>\n",
              "    <tr>\n",
              "      <td>82338</td>\n",
              "      <td>118.18</td>\n",
              "      <td>1.0</td>\n",
              "    </tr>\n",
              "    <tr>\n",
              "      <td>76433</td>\n",
              "      <td>NaN</td>\n",
              "      <td>0.0</td>\n",
              "    </tr>\n",
              "    <tr>\n",
              "      <td>2831</td>\n",
              "      <td>106.99</td>\n",
              "      <td>0.0</td>\n",
              "    </tr>\n",
              "    <tr>\n",
              "      <td>53022</td>\n",
              "      <td>NaN</td>\n",
              "      <td>2.0</td>\n",
              "    </tr>\n",
              "    <tr>\n",
              "      <td>8647</td>\n",
              "      <td>104.72</td>\n",
              "      <td>0.0</td>\n",
              "    </tr>\n",
              "  </tbody>\n",
              "</table>\n",
              "</div>"
            ],
            "text/plain": [
              "         price  category\n",
              "itemid                  \n",
              "55860    98.39       1.0\n",
              "5831     84.55       1.0\n",
              "64358   104.73       0.0\n",
              "33026    96.72       1.0\n",
              "81521    80.60       2.0\n",
              "82338   118.18       1.0\n",
              "76433      NaN       0.0\n",
              "2831    106.99       0.0\n",
              "53022      NaN       2.0\n",
              "8647    104.72       0.0"
            ]
          },
          "metadata": {
            "tags": []
          },
          "execution_count": 222
        }
      ]
    },
    {
      "cell_type": "code",
      "metadata": {
        "id": "XKacn1oArhgD",
        "colab_type": "code",
        "colab": {},
        "outputId": "a4dc2d89-c052-4562-8422-0868f453c4a3"
      },
      "source": [
        "fillna(d)"
      ],
      "execution_count": null,
      "outputs": [
        {
          "output_type": "execute_result",
          "data": {
            "text/html": [
              "<div>\n",
              "<style scoped>\n",
              "    .dataframe tbody tr th:only-of-type {\n",
              "        vertical-align: middle;\n",
              "    }\n",
              "\n",
              "    .dataframe tbody tr th {\n",
              "        vertical-align: top;\n",
              "    }\n",
              "\n",
              "    .dataframe thead th {\n",
              "        text-align: right;\n",
              "    }\n",
              "</style>\n",
              "<table border=\"1\" class=\"dataframe\">\n",
              "  <thead>\n",
              "    <tr style=\"text-align: right;\">\n",
              "      <th></th>\n",
              "      <th>price</th>\n",
              "      <th>category</th>\n",
              "    </tr>\n",
              "    <tr>\n",
              "      <th>itemid</th>\n",
              "      <th></th>\n",
              "      <th></th>\n",
              "    </tr>\n",
              "  </thead>\n",
              "  <tbody>\n",
              "    <tr>\n",
              "      <td>55860</td>\n",
              "      <td>98.390000</td>\n",
              "      <td>1.0</td>\n",
              "    </tr>\n",
              "    <tr>\n",
              "      <td>5831</td>\n",
              "      <td>84.550000</td>\n",
              "      <td>1.0</td>\n",
              "    </tr>\n",
              "    <tr>\n",
              "      <td>64358</td>\n",
              "      <td>104.730000</td>\n",
              "      <td>0.0</td>\n",
              "    </tr>\n",
              "    <tr>\n",
              "      <td>33026</td>\n",
              "      <td>96.720000</td>\n",
              "      <td>1.0</td>\n",
              "    </tr>\n",
              "    <tr>\n",
              "      <td>81521</td>\n",
              "      <td>80.600000</td>\n",
              "      <td>2.0</td>\n",
              "    </tr>\n",
              "    <tr>\n",
              "      <td>82338</td>\n",
              "      <td>118.180000</td>\n",
              "      <td>1.0</td>\n",
              "    </tr>\n",
              "    <tr>\n",
              "      <td>76433</td>\n",
              "      <td>115.834559</td>\n",
              "      <td>0.0</td>\n",
              "    </tr>\n",
              "    <tr>\n",
              "      <td>2831</td>\n",
              "      <td>106.990000</td>\n",
              "      <td>0.0</td>\n",
              "    </tr>\n",
              "    <tr>\n",
              "      <td>53022</td>\n",
              "      <td>114.988148</td>\n",
              "      <td>2.0</td>\n",
              "    </tr>\n",
              "    <tr>\n",
              "      <td>8647</td>\n",
              "      <td>104.720000</td>\n",
              "      <td>0.0</td>\n",
              "    </tr>\n",
              "  </tbody>\n",
              "</table>\n",
              "</div>"
            ],
            "text/plain": [
              "             price  category\n",
              "itemid                      \n",
              "55860    98.390000       1.0\n",
              "5831     84.550000       1.0\n",
              "64358   104.730000       0.0\n",
              "33026    96.720000       1.0\n",
              "81521    80.600000       2.0\n",
              "82338   118.180000       1.0\n",
              "76433   115.834559       0.0\n",
              "2831    106.990000       0.0\n",
              "53022   114.988148       2.0\n",
              "8647    104.720000       0.0"
            ]
          },
          "metadata": {
            "tags": []
          },
          "execution_count": 223
        }
      ]
    },
    {
      "cell_type": "markdown",
      "metadata": {
        "id": "cODYfiJHrhgL",
        "colab_type": "text"
      },
      "source": [
        "**submit your code**"
      ]
    },
    {
      "cell_type": "code",
      "metadata": {
        "scrolled": true,
        "id": "zQ6Bvd0irhgM",
        "colab_type": "code",
        "colab": {},
        "outputId": "615d5981-df21-4061-e56e-dfbacba9eb07"
      },
      "source": [
        "student.submit_task(globals(), task_id=\"task_03\");"
      ],
      "execution_count": null,
      "outputs": [
        {
          "output_type": "display_data",
          "data": {
            "text/html": [
              "\n",
              "                <b>task_03 submitted.</b> <b><font color=\"blue\">your grade is 5</font></b> \n",
              "                <p/><pre>----- grader message -------</pre><br/>testing with 100 random calls<br/><br/><b>correct</b><pre>----------------------------</pre>\n",
              "                <p/><p/>\n",
              "                <div style=\"font-size:10px\"><b>SUBMISSION CODE</b> UY9sZ3p4lYwSVJy2DYiDWKwPaiCZp6EP8B6uPmdeHJ7y9KzWUTOVyKj2vcJwPJYEdXj0x7nBRw9m8Ved4tOitoPdR8dZHy3yxCANmJeK2njCavIX35B9m4+1I0zaBiiGoTPGY1D28NpcqCIgCvViaw==</div>\n",
              "                "
            ],
            "text/plain": [
              "<IPython.core.display.HTML object>"
            ]
          },
          "metadata": {
            "tags": []
          }
        }
      ]
    }
  ]
}