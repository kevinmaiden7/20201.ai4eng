{
 "cells": [
  {
   "cell_type": "code",
   "execution_count": 2,
   "metadata": {},
   "outputs": [
    {
     "name": "stdout",
     "output_type": "stream",
     "text": [
      "endpoint https://m5knaekxo6.execute-api.us-west-2.amazonaws.com/dev-v0001/rlxmooc\n"
     ]
    },
    {
     "data": {
      "text/html": [
       "<h3>See <a href='https://m5knaekxo6.execute-api.us-west-2.amazonaws.com/dev-v0001/rlxmooc/web/login' target='_blank'>my courses and progress</a></h2>"
      ],
      "text/plain": [
       "<IPython.core.display.HTML object>"
      ]
     },
     "execution_count": 2,
     "metadata": {},
     "output_type": "execute_result"
    }
   ],
   "source": [
    "#!wget --no-cache -O init.py -q https://raw.githubusercontent.com/rramosp/20201.ai4eng/master/init.py\n",
    "import init; init.init(force_download=False); init.get_weblink()"
   ]
  },
  {
   "cell_type": "code",
   "execution_count": 186,
   "metadata": {},
   "outputs": [
    {
     "name": "stdout",
     "output_type": "stream",
     "text": [
      "username: kevin.martinez@udea.edu.co\n",
      "password: ········\n",
      "endpoint https://m5knaekxo6.execute-api.us-west-2.amazonaws.com/dev-v0001/rlxmooc\n"
     ]
    },
    {
     "data": {
      "text/html": [
       "<h3>See <a href='https://m5knaekxo6.execute-api.us-west-2.amazonaws.com/dev-v0001/rlxmooc/web/login' target='_blank'>my courses and progress</a></h2>"
      ],
      "text/plain": [
       "<IPython.core.display.HTML object>"
      ]
     },
     "execution_count": 186,
     "metadata": {},
     "output_type": "execute_result"
    }
   ],
   "source": [
    "from local.lib.rlxmoocapi import submit, session\n",
    "student = session.Session(init.endpoint).login( course_id=init.course_id, \n",
    "                                                session_id=\"UDEA\", \n",
    "                                                lab_id=\"L02.03\" )\n",
    "init.get_weblink()"
   ]
  },
  {
   "cell_type": "code",
   "execution_count": 4,
   "metadata": {},
   "outputs": [],
   "source": [
    "import numpy as np\n",
    "import pandas as pd"
   ]
  },
  {
   "cell_type": "markdown",
   "metadata": {},
   "source": [
    "# Task 1: Extract data\n",
    "\n",
    "we have a dataframe of items with a price and, **sometimes**, with an extra column (`margin`).\n",
    "\n",
    "You will have to complete a function that will **filter** the dataframe selecting the rows:\n",
    "\n",
    "- whose price is > 100\n",
    "- **OR** whose margin is >10, if the column `margin` is present\n",
    "\n",
    "your function must return **A LIST** with the item ids of the selected rows\n",
    "\n",
    "For instance, with the following dataframe\n",
    "\n",
    "             price  category\n",
    "    itemid                  \n",
    "    56556   108.15       2.0\n",
    "    73065    83.54       2.0\n",
    "    36619   114.42       0.0\n",
    "    73414    82.94       0.0\n",
    "    13410   115.13       2.0\n",
    "    66153    91.50       1.0\n",
    "    77380    85.82       0.0\n",
    "    73249    95.95       0.0\n",
    "    11654   100.22       2.0\n",
    "    11972    77.16       1.0\n",
    "\n",
    "your must return the following list:\n",
    "\n",
    "     [56556, 36619, 13410, 11654]\n",
    "     \n",
    "But if you get the following dataframe\n",
    "\n",
    "             price  category  margin\n",
    "    itemid                          \n",
    "    39059    98.11       0.0   11.04\n",
    "    19526    98.11       1.0   11.25\n",
    "    78176    94.34       1.0   10.51\n",
    "    50948   102.37       1.0   10.77\n",
    "    12111    98.07       1.0    8.50\n",
    "    56191    98.53       1.0   11.65\n",
    "    38887    91.49       2.0   11.24\n",
    "    77915   117.30       0.0    8.64\n",
    "    55010    96.13       0.0    8.95\n",
    "    45925    98.59       1.0   10.45\n",
    "    \n",
    "you must return the following list\n",
    "\n",
    "    [39059, 19526, 78176, 50948, 56191, 38887, 77915, 45925]"
   ]
  },
  {
   "cell_type": "code",
   "execution_count": 5,
   "metadata": {},
   "outputs": [],
   "source": [
    "def create_df(missing=False, n=10):\n",
    "    itemid   = np.random.randint(100000, size=n)+1000\n",
    "    category = np.random.randint(3, size=n)\n",
    "    price    = np.round(np.random.normal(loc=100, scale=10, size=n),2)\n",
    "    margin   = np.round(np.random.normal(loc=10, scale=1, size=n),2)\n",
    "    \n",
    "    if missing:\n",
    "        nmissing = np.random.randint(len(price)//2)+2                                     \n",
    "        price[np.random.permutation(len(price))[:nmissing]] = np.nan\n",
    "    \n",
    "    d = pd.DataFrame(np.r_[[price, category, margin]].T, index=itemid, columns=[\"price\", \"category\", \"margin\"])\n",
    "    d.index.name=\"itemid\"\n",
    "    if np.random.random()>.5:\n",
    "        d = d[d.columns[:2]]\n",
    "        \n",
    "    return d"
   ]
  },
  {
   "cell_type": "code",
   "execution_count": 26,
   "metadata": {},
   "outputs": [
    {
     "data": {
      "text/html": [
       "<div>\n",
       "<style scoped>\n",
       "    .dataframe tbody tr th:only-of-type {\n",
       "        vertical-align: middle;\n",
       "    }\n",
       "\n",
       "    .dataframe tbody tr th {\n",
       "        vertical-align: top;\n",
       "    }\n",
       "\n",
       "    .dataframe thead th {\n",
       "        text-align: right;\n",
       "    }\n",
       "</style>\n",
       "<table border=\"1\" class=\"dataframe\">\n",
       "  <thead>\n",
       "    <tr style=\"text-align: right;\">\n",
       "      <th></th>\n",
       "      <th>price</th>\n",
       "      <th>category</th>\n",
       "    </tr>\n",
       "    <tr>\n",
       "      <th>itemid</th>\n",
       "      <th></th>\n",
       "      <th></th>\n",
       "    </tr>\n",
       "  </thead>\n",
       "  <tbody>\n",
       "    <tr>\n",
       "      <td>22489</td>\n",
       "      <td>94.67</td>\n",
       "      <td>0.0</td>\n",
       "    </tr>\n",
       "    <tr>\n",
       "      <td>84440</td>\n",
       "      <td>101.96</td>\n",
       "      <td>2.0</td>\n",
       "    </tr>\n",
       "    <tr>\n",
       "      <td>73870</td>\n",
       "      <td>115.39</td>\n",
       "      <td>2.0</td>\n",
       "    </tr>\n",
       "    <tr>\n",
       "      <td>76548</td>\n",
       "      <td>91.37</td>\n",
       "      <td>2.0</td>\n",
       "    </tr>\n",
       "    <tr>\n",
       "      <td>80357</td>\n",
       "      <td>92.75</td>\n",
       "      <td>0.0</td>\n",
       "    </tr>\n",
       "    <tr>\n",
       "      <td>84162</td>\n",
       "      <td>86.38</td>\n",
       "      <td>2.0</td>\n",
       "    </tr>\n",
       "    <tr>\n",
       "      <td>95464</td>\n",
       "      <td>106.74</td>\n",
       "      <td>2.0</td>\n",
       "    </tr>\n",
       "    <tr>\n",
       "      <td>12811</td>\n",
       "      <td>100.92</td>\n",
       "      <td>1.0</td>\n",
       "    </tr>\n",
       "    <tr>\n",
       "      <td>93402</td>\n",
       "      <td>125.79</td>\n",
       "      <td>2.0</td>\n",
       "    </tr>\n",
       "    <tr>\n",
       "      <td>9382</td>\n",
       "      <td>111.91</td>\n",
       "      <td>2.0</td>\n",
       "    </tr>\n",
       "  </tbody>\n",
       "</table>\n",
       "</div>"
      ],
      "text/plain": [
       "         price  category\n",
       "itemid                  \n",
       "22489    94.67       0.0\n",
       "84440   101.96       2.0\n",
       "73870   115.39       2.0\n",
       "76548    91.37       2.0\n",
       "80357    92.75       0.0\n",
       "84162    86.38       2.0\n",
       "95464   106.74       2.0\n",
       "12811   100.92       1.0\n",
       "93402   125.79       2.0\n",
       "9382    111.91       2.0"
      ]
     },
     "execution_count": 26,
     "metadata": {},
     "output_type": "execute_result"
    }
   ],
   "source": [
    "d = create_df()\n",
    "d"
   ]
  },
  {
   "cell_type": "code",
   "execution_count": 29,
   "metadata": {},
   "outputs": [],
   "source": [
    "def select_items(df):\n",
    "    columns = df.columns\n",
    "    if 'margin' in columns:\n",
    "        result = df[(df.price > 100) | (df.margin > 10)].index.tolist()\n",
    "    else:\n",
    "        result = df[(df.price > 100)].index.tolist()\n",
    "    return result"
   ]
  },
  {
   "cell_type": "markdown",
   "metadata": {},
   "source": [
    "**manually check your answer**"
   ]
  },
  {
   "cell_type": "code",
   "execution_count": 30,
   "metadata": {},
   "outputs": [
    {
     "data": {
      "text/plain": [
       "[84440, 73870, 95464, 12811, 93402, 9382]"
      ]
     },
     "execution_count": 30,
     "metadata": {},
     "output_type": "execute_result"
    }
   ],
   "source": [
    "select_items(d)"
   ]
  },
  {
   "cell_type": "markdown",
   "metadata": {},
   "source": [
    "**submit your code**"
   ]
  },
  {
   "cell_type": "code",
   "execution_count": 31,
   "metadata": {
    "scrolled": false
   },
   "outputs": [
    {
     "data": {
      "text/html": [
       "\n",
       "                <b>task_01 submitted.</b> <b><font color=\"blue\">your grade is 5</font></b> \n",
       "                <p/><pre>----- grader message -------</pre><br/>testing with 100 random calls<br/><b>correct</b><pre>----------------------------</pre>\n",
       "                <p/><p/>\n",
       "                <div style=\"font-size:10px\"><b>SUBMISSION CODE</b> pk8OsGOOBI9kEeJLMAYdQzZf5OJFCt9X3UwCsiTyo1wPkxtRnm4PSU7k2vogjiNNWL0dSsEp2Dj4Q/LrdOK7N+LHsfe0+7H+nBgNmAS9NaU0fJynBwo7mcuqAWQq+9b+emhjg0fb/KrKoyWPGAWVmw==</div>\n",
       "                "
      ],
      "text/plain": [
       "<IPython.core.display.HTML object>"
      ]
     },
     "metadata": {},
     "output_type": "display_data"
    }
   ],
   "source": [
    "student.submit_task(globals(), task_id=\"task_01\");"
   ]
  },
  {
   "cell_type": "markdown",
   "metadata": {},
   "source": [
    "# Task 2: Group statistics\n",
    "\n",
    "Complete the following function so that it returns a dataframe with the average, max and min **prices** per category. \n",
    "\n",
    "For instance, for the following dataframe\n",
    "\n",
    "             price  category  margin\n",
    "    itemid                          \n",
    "    17946    93.85       1.0   10.64\n",
    "    61190    91.72       1.0    9.76\n",
    "    39639   100.16       1.0   10.67\n",
    "    17791   110.44       2.0    9.65\n",
    "    7333    101.05       1.0    9.69\n",
    "    77362   122.33       0.0   11.14\n",
    "    92646   108.13       2.0   10.58\n",
    "    27797    85.52       2.0   10.88\n",
    "    31746    97.56       0.0    9.75\n",
    "    12355   101.04       2.0    9.51\n",
    "    \n",
    "you should return the following dataframe\n",
    "\n",
    "                 media  maximo  minimo\n",
    "    categoria                         \n",
    "    0         109.9450  122.33  97.56\n",
    "    1          96.6950  101.05  91.72\n",
    "    2         101.2825  110.44  85.52\n",
    "    \n",
    "observe that your result\n",
    "- must not be a **multilevel** columnset.\n",
    "- the column names and the index name must be **exactly** as in the example.\n",
    "- the **index** must be of type **int**."
   ]
  },
  {
   "cell_type": "code",
   "execution_count": 105,
   "metadata": {},
   "outputs": [],
   "source": [
    "def get_stats(df):\n",
    "    \n",
    "    result = pd.DataFrame(index = [0,1,2], columns = ['media', 'maximo', 'minimo'])\n",
    "    result.index.name = 'categoria'\n",
    "    result['media'] = df[['price', 'category']].groupby('category').mean()\n",
    "    result['maximo'] = df[['price', 'category']].groupby('category').max()\n",
    "    result['minimo'] = df[['price', 'category']].groupby('category').min()\n",
    "    \n",
    "    return result"
   ]
  },
  {
   "cell_type": "markdown",
   "metadata": {},
   "source": [
    "**manually check your answer**"
   ]
  },
  {
   "cell_type": "code",
   "execution_count": 98,
   "metadata": {},
   "outputs": [
    {
     "data": {
      "text/html": [
       "<div>\n",
       "<style scoped>\n",
       "    .dataframe tbody tr th:only-of-type {\n",
       "        vertical-align: middle;\n",
       "    }\n",
       "\n",
       "    .dataframe tbody tr th {\n",
       "        vertical-align: top;\n",
       "    }\n",
       "\n",
       "    .dataframe thead th {\n",
       "        text-align: right;\n",
       "    }\n",
       "</style>\n",
       "<table border=\"1\" class=\"dataframe\">\n",
       "  <thead>\n",
       "    <tr style=\"text-align: right;\">\n",
       "      <th></th>\n",
       "      <th>price</th>\n",
       "      <th>category</th>\n",
       "      <th>margin</th>\n",
       "    </tr>\n",
       "    <tr>\n",
       "      <th>itemid</th>\n",
       "      <th></th>\n",
       "      <th></th>\n",
       "      <th></th>\n",
       "    </tr>\n",
       "  </thead>\n",
       "  <tbody>\n",
       "    <tr>\n",
       "      <td>92720</td>\n",
       "      <td>73.48</td>\n",
       "      <td>1.0</td>\n",
       "      <td>10.92</td>\n",
       "    </tr>\n",
       "    <tr>\n",
       "      <td>19335</td>\n",
       "      <td>88.88</td>\n",
       "      <td>2.0</td>\n",
       "      <td>10.45</td>\n",
       "    </tr>\n",
       "    <tr>\n",
       "      <td>66262</td>\n",
       "      <td>88.97</td>\n",
       "      <td>1.0</td>\n",
       "      <td>10.03</td>\n",
       "    </tr>\n",
       "    <tr>\n",
       "      <td>93190</td>\n",
       "      <td>101.80</td>\n",
       "      <td>0.0</td>\n",
       "      <td>11.73</td>\n",
       "    </tr>\n",
       "    <tr>\n",
       "      <td>1576</td>\n",
       "      <td>119.77</td>\n",
       "      <td>2.0</td>\n",
       "      <td>10.16</td>\n",
       "    </tr>\n",
       "    <tr>\n",
       "      <td>48443</td>\n",
       "      <td>97.11</td>\n",
       "      <td>1.0</td>\n",
       "      <td>10.71</td>\n",
       "    </tr>\n",
       "    <tr>\n",
       "      <td>77653</td>\n",
       "      <td>79.34</td>\n",
       "      <td>2.0</td>\n",
       "      <td>10.20</td>\n",
       "    </tr>\n",
       "    <tr>\n",
       "      <td>22849</td>\n",
       "      <td>113.44</td>\n",
       "      <td>2.0</td>\n",
       "      <td>9.57</td>\n",
       "    </tr>\n",
       "    <tr>\n",
       "      <td>72235</td>\n",
       "      <td>89.88</td>\n",
       "      <td>1.0</td>\n",
       "      <td>9.71</td>\n",
       "    </tr>\n",
       "    <tr>\n",
       "      <td>13195</td>\n",
       "      <td>106.43</td>\n",
       "      <td>1.0</td>\n",
       "      <td>10.49</td>\n",
       "    </tr>\n",
       "  </tbody>\n",
       "</table>\n",
       "</div>"
      ],
      "text/plain": [
       "         price  category  margin\n",
       "itemid                          \n",
       "92720    73.48       1.0   10.92\n",
       "19335    88.88       2.0   10.45\n",
       "66262    88.97       1.0   10.03\n",
       "93190   101.80       0.0   11.73\n",
       "1576    119.77       2.0   10.16\n",
       "48443    97.11       1.0   10.71\n",
       "77653    79.34       2.0   10.20\n",
       "22849   113.44       2.0    9.57\n",
       "72235    89.88       1.0    9.71\n",
       "13195   106.43       1.0   10.49"
      ]
     },
     "execution_count": 98,
     "metadata": {},
     "output_type": "execute_result"
    }
   ],
   "source": [
    "d = create_df()\n",
    "d"
   ]
  },
  {
   "cell_type": "code",
   "execution_count": 99,
   "metadata": {},
   "outputs": [
    {
     "data": {
      "text/plain": [
       "dtype('int64')"
      ]
     },
     "execution_count": 99,
     "metadata": {},
     "output_type": "execute_result"
    }
   ],
   "source": [
    "d.index.dtype"
   ]
  },
  {
   "cell_type": "code",
   "execution_count": 106,
   "metadata": {},
   "outputs": [
    {
     "data": {
      "text/html": [
       "<div>\n",
       "<style scoped>\n",
       "    .dataframe tbody tr th:only-of-type {\n",
       "        vertical-align: middle;\n",
       "    }\n",
       "\n",
       "    .dataframe tbody tr th {\n",
       "        vertical-align: top;\n",
       "    }\n",
       "\n",
       "    .dataframe thead th {\n",
       "        text-align: right;\n",
       "    }\n",
       "</style>\n",
       "<table border=\"1\" class=\"dataframe\">\n",
       "  <thead>\n",
       "    <tr style=\"text-align: right;\">\n",
       "      <th></th>\n",
       "      <th>media</th>\n",
       "      <th>maximo</th>\n",
       "      <th>minimo</th>\n",
       "    </tr>\n",
       "    <tr>\n",
       "      <th>categoria</th>\n",
       "      <th></th>\n",
       "      <th></th>\n",
       "      <th></th>\n",
       "    </tr>\n",
       "  </thead>\n",
       "  <tbody>\n",
       "    <tr>\n",
       "      <td>0</td>\n",
       "      <td>101.8000</td>\n",
       "      <td>101.80</td>\n",
       "      <td>101.80</td>\n",
       "    </tr>\n",
       "    <tr>\n",
       "      <td>1</td>\n",
       "      <td>91.1740</td>\n",
       "      <td>106.43</td>\n",
       "      <td>73.48</td>\n",
       "    </tr>\n",
       "    <tr>\n",
       "      <td>2</td>\n",
       "      <td>100.3575</td>\n",
       "      <td>119.77</td>\n",
       "      <td>79.34</td>\n",
       "    </tr>\n",
       "  </tbody>\n",
       "</table>\n",
       "</div>"
      ],
      "text/plain": [
       "              media  maximo  minimo\n",
       "categoria                          \n",
       "0          101.8000  101.80  101.80\n",
       "1           91.1740  106.43   73.48\n",
       "2          100.3575  119.77   79.34"
      ]
     },
     "execution_count": 106,
     "metadata": {},
     "output_type": "execute_result"
    }
   ],
   "source": [
    "nf = get_stats(d)\n",
    "nf"
   ]
  },
  {
   "cell_type": "code",
   "execution_count": 107,
   "metadata": {},
   "outputs": [
    {
     "data": {
      "text/plain": [
       "dtype('int64')"
      ]
     },
     "execution_count": 107,
     "metadata": {},
     "output_type": "execute_result"
    }
   ],
   "source": [
    "nf.index.dtype"
   ]
  },
  {
   "cell_type": "markdown",
   "metadata": {},
   "source": [
    "**submit your code**"
   ]
  },
  {
   "cell_type": "code",
   "execution_count": 108,
   "metadata": {
    "scrolled": true
   },
   "outputs": [
    {
     "data": {
      "text/html": [
       "\n",
       "                <b>task_02 submitted.</b> <b><font color=\"blue\">your grade is 0</font></b> \n",
       "                <p/><pre>----- grader message -------</pre><b>incorrect:</b> <br/>testing with 100 random calls<br/>index must be of type int<br/><br/>input dataframe is <pre>         price  category\n",
       "itemid                  \n",
       "31882    84.38       0.0\n",
       "61670   101.00       1.0\n",
       "38144   106.67       1.0\n",
       "89429    83.75       0.0\n",
       "22102    75.30       1.0\n",
       "49801   115.15       0.0\n",
       "84633    94.77       1.0\n",
       "61532   110.53       2.0\n",
       "62797    79.25       2.0\n",
       "45793    97.03       1.0\n",
       "26590   109.12       2.0\n",
       "61742   100.96       0.0\n",
       "57028    97.48       2.0\n",
       "52029   112.72       2.0</pre><br/>expected output was <pre>             media  maximo  minimo\n",
       "categoria                         \n",
       "0           96.060  115.15   83.75\n",
       "1           94.954  106.67   75.30\n",
       "2          101.820  112.72   79.25</pre><br/>but obtained <pre>             media  maximo  minimo\n",
       "categoria                         \n",
       "0           96.060  115.15   83.75\n",
       "1           94.954  106.67   75.30\n",
       "2          101.820  112.72   79.25</pre><br/><pre>----------------------------</pre>\n",
       "                <p/><p/>\n",
       "                <div style=\"font-size:10px\"><b>SUBMISSION CODE</b> vnj/vpywpRJO4d7Nc9cvTz2IfGtIZI9Fh5M3knDMjzIlZqg7tswuKGgr7MjHlXGISSmQvJS3LpM7bz2XwQ8TS3Jdaa0JVA2QSiDq+UtMobEIowrq53KzH7vWb/J0jsxSsR7UHFgyAf/oV6cU0PpLHA==</div>\n",
       "                "
      ],
      "text/plain": [
       "<IPython.core.display.HTML object>"
      ]
     },
     "metadata": {},
     "output_type": "display_data"
    }
   ],
   "source": [
    "student.submit_task(globals(), task_id=\"task_02\");"
   ]
  },
  {
   "cell_type": "markdown",
   "metadata": {},
   "source": [
    "# Task 3: Fill in missing data\n",
    "\n",
    "Fill in the missing data in the **price** column with the following procedure:\n",
    "\n",
    "- compute the mean and std of the avaialable prices\n",
    "- sample from a normal distribution with the computed mean and std (see [`np.random.normal`])(https://numpy.org/doc/stable/reference/random/generated/numpy.random.normal.html), as many samples as missing data\n",
    "- substitute the missing values with the samples\n",
    "\n",
    "For instance, for this input dataframe:\n",
    "\n",
    "             price  category  margin\n",
    "    itemid                          \n",
    "    18922      NaN       1.0   10.32\n",
    "    69500   121.25       1.0   10.22\n",
    "    76442    90.25       1.0   12.60\n",
    "    33863   106.51       0.0   10.26\n",
    "    15904    95.87       1.0   11.51\n",
    "    41946   103.47       2.0    9.85\n",
    "    85451    93.08       2.0    9.56\n",
    "    70028   116.68       1.0    9.11\n",
    "    26860      NaN       2.0    9.71\n",
    "    12807    91.48       0.0    9.77\n",
    "    \n",
    "your solution might be similar to this (not exactly the same as you will be sampling data):\n",
    "\n",
    "\n",
    "                 price  category  margin\n",
    "    itemid                              \n",
    "    18922    97.441188       1.0   10.32\n",
    "    69500   121.250000       1.0   10.22\n",
    "    76442    90.250000       1.0   12.60\n",
    "    33863   106.510000       0.0   10.26\n",
    "    15904    95.870000       1.0   11.51\n",
    "    41946   103.470000       2.0    9.85\n",
    "    85451    93.080000       2.0    9.56\n",
    "    70028   116.680000       1.0    9.11\n",
    "    26860   103.294843       2.0    9.71\n",
    "    12807    91.480000       0.0    9.77\n",
    "    \n",
    "    \n",
    "**WARN**: your function must not modify the original dataframe, make a copy of the input dataframe, fill the values in the copy and return it.\n",
    "\n",
    "**HINT**: use the [`isna()`](https://pandas.pydata.org/pandas-docs/stable/reference/api/pandas.DataFrame.isna.html) method of a dataframe or a series."
   ]
  },
  {
   "cell_type": "code",
   "execution_count": 221,
   "metadata": {},
   "outputs": [],
   "source": [
    "def fillna(df):\n",
    "    \n",
    "    mean_std = df.describe()[['price']].loc['mean':'std'].to_numpy().tolist() # getting the mean and std\n",
    "    \n",
    "    na = df.isna()\n",
    "    \n",
    "    info = na[['price']].describe().to_numpy().tolist()\n",
    "    if info[2][0] == False: \n",
    "        n_samples = info[0][0] - info[3][0]\n",
    "    else: n_samples = info[3][0]\n",
    "    \n",
    "    new_samples = np.random.normal(mean_std[0][0], mean_std[1][0], n_samples)\n",
    "    \n",
    "    to_replace = na[na.price == True].index.tolist() # getting the rows to replace\n",
    "    \n",
    "    result = df.copy()\n",
    "    \n",
    "    i = 0 # replacing NaN values\n",
    "    for index in to_replace:\n",
    "        result.at[index, 'price'] = new_samples[i]\n",
    "        i += 1\n",
    "        \n",
    "    return result"
   ]
  },
  {
   "cell_type": "markdown",
   "metadata": {},
   "source": [
    "**check manually your code**"
   ]
  },
  {
   "cell_type": "code",
   "execution_count": 222,
   "metadata": {},
   "outputs": [
    {
     "data": {
      "text/html": [
       "<div>\n",
       "<style scoped>\n",
       "    .dataframe tbody tr th:only-of-type {\n",
       "        vertical-align: middle;\n",
       "    }\n",
       "\n",
       "    .dataframe tbody tr th {\n",
       "        vertical-align: top;\n",
       "    }\n",
       "\n",
       "    .dataframe thead th {\n",
       "        text-align: right;\n",
       "    }\n",
       "</style>\n",
       "<table border=\"1\" class=\"dataframe\">\n",
       "  <thead>\n",
       "    <tr style=\"text-align: right;\">\n",
       "      <th></th>\n",
       "      <th>price</th>\n",
       "      <th>category</th>\n",
       "    </tr>\n",
       "    <tr>\n",
       "      <th>itemid</th>\n",
       "      <th></th>\n",
       "      <th></th>\n",
       "    </tr>\n",
       "  </thead>\n",
       "  <tbody>\n",
       "    <tr>\n",
       "      <td>55860</td>\n",
       "      <td>98.39</td>\n",
       "      <td>1.0</td>\n",
       "    </tr>\n",
       "    <tr>\n",
       "      <td>5831</td>\n",
       "      <td>84.55</td>\n",
       "      <td>1.0</td>\n",
       "    </tr>\n",
       "    <tr>\n",
       "      <td>64358</td>\n",
       "      <td>104.73</td>\n",
       "      <td>0.0</td>\n",
       "    </tr>\n",
       "    <tr>\n",
       "      <td>33026</td>\n",
       "      <td>96.72</td>\n",
       "      <td>1.0</td>\n",
       "    </tr>\n",
       "    <tr>\n",
       "      <td>81521</td>\n",
       "      <td>80.60</td>\n",
       "      <td>2.0</td>\n",
       "    </tr>\n",
       "    <tr>\n",
       "      <td>82338</td>\n",
       "      <td>118.18</td>\n",
       "      <td>1.0</td>\n",
       "    </tr>\n",
       "    <tr>\n",
       "      <td>76433</td>\n",
       "      <td>NaN</td>\n",
       "      <td>0.0</td>\n",
       "    </tr>\n",
       "    <tr>\n",
       "      <td>2831</td>\n",
       "      <td>106.99</td>\n",
       "      <td>0.0</td>\n",
       "    </tr>\n",
       "    <tr>\n",
       "      <td>53022</td>\n",
       "      <td>NaN</td>\n",
       "      <td>2.0</td>\n",
       "    </tr>\n",
       "    <tr>\n",
       "      <td>8647</td>\n",
       "      <td>104.72</td>\n",
       "      <td>0.0</td>\n",
       "    </tr>\n",
       "  </tbody>\n",
       "</table>\n",
       "</div>"
      ],
      "text/plain": [
       "         price  category\n",
       "itemid                  \n",
       "55860    98.39       1.0\n",
       "5831     84.55       1.0\n",
       "64358   104.73       0.0\n",
       "33026    96.72       1.0\n",
       "81521    80.60       2.0\n",
       "82338   118.18       1.0\n",
       "76433      NaN       0.0\n",
       "2831    106.99       0.0\n",
       "53022      NaN       2.0\n",
       "8647    104.72       0.0"
      ]
     },
     "execution_count": 222,
     "metadata": {},
     "output_type": "execute_result"
    }
   ],
   "source": [
    "d = create_df(missing=True)\n",
    "d"
   ]
  },
  {
   "cell_type": "code",
   "execution_count": 223,
   "metadata": {},
   "outputs": [
    {
     "data": {
      "text/html": [
       "<div>\n",
       "<style scoped>\n",
       "    .dataframe tbody tr th:only-of-type {\n",
       "        vertical-align: middle;\n",
       "    }\n",
       "\n",
       "    .dataframe tbody tr th {\n",
       "        vertical-align: top;\n",
       "    }\n",
       "\n",
       "    .dataframe thead th {\n",
       "        text-align: right;\n",
       "    }\n",
       "</style>\n",
       "<table border=\"1\" class=\"dataframe\">\n",
       "  <thead>\n",
       "    <tr style=\"text-align: right;\">\n",
       "      <th></th>\n",
       "      <th>price</th>\n",
       "      <th>category</th>\n",
       "    </tr>\n",
       "    <tr>\n",
       "      <th>itemid</th>\n",
       "      <th></th>\n",
       "      <th></th>\n",
       "    </tr>\n",
       "  </thead>\n",
       "  <tbody>\n",
       "    <tr>\n",
       "      <td>55860</td>\n",
       "      <td>98.390000</td>\n",
       "      <td>1.0</td>\n",
       "    </tr>\n",
       "    <tr>\n",
       "      <td>5831</td>\n",
       "      <td>84.550000</td>\n",
       "      <td>1.0</td>\n",
       "    </tr>\n",
       "    <tr>\n",
       "      <td>64358</td>\n",
       "      <td>104.730000</td>\n",
       "      <td>0.0</td>\n",
       "    </tr>\n",
       "    <tr>\n",
       "      <td>33026</td>\n",
       "      <td>96.720000</td>\n",
       "      <td>1.0</td>\n",
       "    </tr>\n",
       "    <tr>\n",
       "      <td>81521</td>\n",
       "      <td>80.600000</td>\n",
       "      <td>2.0</td>\n",
       "    </tr>\n",
       "    <tr>\n",
       "      <td>82338</td>\n",
       "      <td>118.180000</td>\n",
       "      <td>1.0</td>\n",
       "    </tr>\n",
       "    <tr>\n",
       "      <td>76433</td>\n",
       "      <td>115.834559</td>\n",
       "      <td>0.0</td>\n",
       "    </tr>\n",
       "    <tr>\n",
       "      <td>2831</td>\n",
       "      <td>106.990000</td>\n",
       "      <td>0.0</td>\n",
       "    </tr>\n",
       "    <tr>\n",
       "      <td>53022</td>\n",
       "      <td>114.988148</td>\n",
       "      <td>2.0</td>\n",
       "    </tr>\n",
       "    <tr>\n",
       "      <td>8647</td>\n",
       "      <td>104.720000</td>\n",
       "      <td>0.0</td>\n",
       "    </tr>\n",
       "  </tbody>\n",
       "</table>\n",
       "</div>"
      ],
      "text/plain": [
       "             price  category\n",
       "itemid                      \n",
       "55860    98.390000       1.0\n",
       "5831     84.550000       1.0\n",
       "64358   104.730000       0.0\n",
       "33026    96.720000       1.0\n",
       "81521    80.600000       2.0\n",
       "82338   118.180000       1.0\n",
       "76433   115.834559       0.0\n",
       "2831    106.990000       0.0\n",
       "53022   114.988148       2.0\n",
       "8647    104.720000       0.0"
      ]
     },
     "execution_count": 223,
     "metadata": {},
     "output_type": "execute_result"
    }
   ],
   "source": [
    "fillna(d)"
   ]
  },
  {
   "cell_type": "markdown",
   "metadata": {},
   "source": [
    "**submit your code**"
   ]
  },
  {
   "cell_type": "code",
   "execution_count": 224,
   "metadata": {
    "scrolled": true
   },
   "outputs": [
    {
     "data": {
      "text/html": [
       "\n",
       "                <b>task_03 submitted.</b> <b><font color=\"blue\">your grade is 5</font></b> \n",
       "                <p/><pre>----- grader message -------</pre><br/>testing with 100 random calls<br/><br/><b>correct</b><pre>----------------------------</pre>\n",
       "                <p/><p/>\n",
       "                <div style=\"font-size:10px\"><b>SUBMISSION CODE</b> UY9sZ3p4lYwSVJy2DYiDWKwPaiCZp6EP8B6uPmdeHJ7y9KzWUTOVyKj2vcJwPJYEdXj0x7nBRw9m8Ved4tOitoPdR8dZHy3yxCANmJeK2njCavIX35B9m4+1I0zaBiiGoTPGY1D28NpcqCIgCvViaw==</div>\n",
       "                "
      ],
      "text/plain": [
       "<IPython.core.display.HTML object>"
      ]
     },
     "metadata": {},
     "output_type": "display_data"
    }
   ],
   "source": [
    "student.submit_task(globals(), task_id=\"task_03\");"
   ]
  }
 ],
 "metadata": {
  "kernelspec": {
   "display_name": "Python 3",
   "language": "python",
   "name": "python3"
  },
  "language_info": {
   "codemirror_mode": {
    "name": "ipython",
    "version": 3
   },
   "file_extension": ".py",
   "mimetype": "text/x-python",
   "name": "python",
   "nbconvert_exporter": "python",
   "pygments_lexer": "ipython3",
   "version": "3.7.4"
  }
 },
 "nbformat": 4,
 "nbformat_minor": 2
}
