{
 "cells": [
  {
   "cell_type": "code",
   "execution_count": 1,
   "metadata": {},
   "outputs": [
    {
     "name": "stdout",
     "output_type": "stream",
     "text": [
      "endpoint https://m5knaekxo6.execute-api.us-west-2.amazonaws.com/dev-v0001/rlxmooc\n"
     ]
    },
    {
     "data": {
      "text/html": [
       "<h3>See <a href='https://m5knaekxo6.execute-api.us-west-2.amazonaws.com/dev-v0001/rlxmooc/web/login' target='_blank'>my courses and progress</a></h2>"
      ],
      "text/plain": [
       "<IPython.core.display.HTML object>"
      ]
     },
     "execution_count": 1,
     "metadata": {},
     "output_type": "execute_result"
    }
   ],
   "source": [
    "#!wget --no-cache -O init.py -q https://raw.githubusercontent.com/rramosp/20201.ai4eng/master/init.py\n",
    "import init; init.init(force_download=False); init.get_weblink()"
   ]
  },
  {
   "cell_type": "code",
   "execution_count": 2,
   "metadata": {},
   "outputs": [
    {
     "name": "stdout",
     "output_type": "stream",
     "text": [
      "username: kevin.martinez@udea.edu.co\n",
      "password: ········\n",
      "endpoint https://m5knaekxo6.execute-api.us-west-2.amazonaws.com/dev-v0001/rlxmooc\n"
     ]
    },
    {
     "data": {
      "text/html": [
       "<h3>See <a href='https://m5knaekxo6.execute-api.us-west-2.amazonaws.com/dev-v0001/rlxmooc/web/login' target='_blank'>my courses and progress</a></h2>"
      ],
      "text/plain": [
       "<IPython.core.display.HTML object>"
      ]
     },
     "execution_count": 2,
     "metadata": {},
     "output_type": "execute_result"
    }
   ],
   "source": [
    "from local.lib.rlxmoocapi import submit, session\n",
    "student = session.Session(init.endpoint).login( course_id=init.course_id, \n",
    "                                                session_id=\"UDEA\", \n",
    "                                                lab_id=\"L02.01\" )\n",
    "init.get_weblink()"
   ]
  },
  {
   "cell_type": "code",
   "execution_count": 44,
   "metadata": {},
   "outputs": [],
   "source": [
    "import numpy as np"
   ]
  },
  {
   "cell_type": "markdown",
   "metadata": {},
   "source": [
    "# Task 1: Palindrome\n",
    "\n",
    "Determine whether an integer number $n$ is a palindrome, this is, if it is the same number when read left to right and when read right to left. Return `True` if so, otherwise return `False`.\n",
    "\n",
    "**Execution example**\n",
    "\n",
    "```python\n",
    ">>> palindromo(n=3456543)\n",
    "True\n",
    "\n",
    ">>> palindromo(n=543)\n",
    "False\n",
    "```\n",
    "\n",
    "**hint**: transform it into string, reverse it and check equality\n",
    "\n",
    "**challenge**: use one single line of code"
   ]
  },
  {
   "cell_type": "code",
   "execution_count": 8,
   "metadata": {},
   "outputs": [],
   "source": [
    "def palindromo(n): # assume n is an integer\n",
    "    \n",
    "    # your code here\n",
    "    r = str(n) == str(n)[::-1]\n",
    "    return r # r must be boolean True/False"
   ]
  },
  {
   "cell_type": "markdown",
   "metadata": {},
   "source": [
    "check your code manually"
   ]
  },
  {
   "cell_type": "code",
   "execution_count": 9,
   "metadata": {},
   "outputs": [
    {
     "name": "stdout",
     "output_type": "stream",
     "text": [
      "True\n",
      "False\n"
     ]
    }
   ],
   "source": [
    "print (palindromo(12321))\n",
    "print (palindromo(12322))"
   ]
  },
  {
   "cell_type": "markdown",
   "metadata": {},
   "source": [
    "**submit your code**"
   ]
  },
  {
   "cell_type": "code",
   "execution_count": 10,
   "metadata": {
    "scrolled": true
   },
   "outputs": [
    {
     "data": {
      "text/html": [
       "\n",
       "                <b>task_01 submitted.</b> <b><font color=\"blue\">your grade is 5</font></b> \n",
       "                <p/><pre>----- grader message -------</pre>testing with 100 random calls<br/><b>correct</b><pre>----------------------------</pre>\n",
       "                <p/><p/>\n",
       "                <div style=\"font-size:10px\"><b>SUBMISSION CODE</b> 7XA/Nr3ED07Aqo3WeXaGbIF3IUVRnA4p+IwmFxwMkZtuBR8pAsU0DFEmwGTBT1JKum7OdUFawtFmK0xLjzxO+BCkCdNkN8HPFs8cNwP8YsS5KYCh9KMuT5Q6jbY2j8/F1XTDjRBALKZ9BRL38rgZVg==</div>\n",
       "                "
      ],
      "text/plain": [
       "<IPython.core.display.HTML object>"
      ]
     },
     "metadata": {},
     "output_type": "display_data"
    }
   ],
   "source": [
    "student.submit_task(globals(), task_id=\"task_01\");"
   ]
  },
  {
   "cell_type": "markdown",
   "metadata": {},
   "source": [
    "# Task 2: Money Change\n",
    "\n",
    "En este ejercicio, su programa recibirá un monto entre 1 y 99 centavos de Dolar, Escriba un metodo que retorne en una lista, cuantas monedas son necesarias para devolverle a alguien dicho valor, si únicamente se cuenta con monedas de 1, 10 y 25 centavos. La lista debe entregarse de la siguiente manera:\n",
    "\n",
    "In this task your function will receive an amount between 1 and 99 cents and will have to return a list with three numbers [$n_1$, $n_{10}$, $n_{25}$], specifying how many coins of 1, 10 and 25 cents are required to obtain the given amonut. We only have coints of 1, 10 and 25 cents. There are no other kinds of coins.\n",
    "\n",
    "If the amount given is less than 1 or more than 99 you must return `None`.\n",
    "\n",
    "**Execution example**\n",
    "\n",
    "```python\n",
    ">>> cambio(n=55)\n",
    "[5,0,2]\n",
    "\n",
    ">>> cambio(n=200)\n",
    "None\n",
    "\n",
    ">>> cambio(n=47)\n",
    "[2,2,1]\n",
    "```\n",
    "\n",
    "**hint**: use `\\\\` for integer division\n"
   ]
  },
  {
   "cell_type": "code",
   "execution_count": 31,
   "metadata": {},
   "outputs": [],
   "source": [
    "def change_money(n):\n",
    "    r = [0,0,0] #recall: r[0]== n_1, r[1]== n_10 y r[2]== n_25 \n",
    "    if n > 99 or n < 1: return None\n",
    "    \n",
    "    r[2] = n // 25\n",
    "    r[1] = (n % 25) // 10\n",
    "    r[0] = ((n % 25) % 10)\n",
    "    return(r)"
   ]
  },
  {
   "cell_type": "code",
   "execution_count": 32,
   "metadata": {},
   "outputs": [
    {
     "name": "stdout",
     "output_type": "stream",
     "text": [
      "[5, 0, 2]\n"
     ]
    }
   ],
   "source": [
    "print(change_money(55))"
   ]
  },
  {
   "cell_type": "markdown",
   "metadata": {},
   "source": [
    "**submit your code**"
   ]
  },
  {
   "cell_type": "code",
   "execution_count": 33,
   "metadata": {
    "scrolled": true
   },
   "outputs": [
    {
     "data": {
      "text/html": [
       "\n",
       "                <b>task_02 submitted.</b> <b><font color=\"blue\">your grade is 5</font></b> \n",
       "                <p/><pre>----- grader message -------</pre>testing with 100 random calls<br/><b>correct</b><pre>----------------------------</pre>\n",
       "                <p/><p/>\n",
       "                <div style=\"font-size:10px\"><b>SUBMISSION CODE</b> hZ5P/Hu4y0nlMQS8sRGmevyAXa3RBG+Ol4R65OHXzw811bP1DlEk8nzMQr0efTTD2m3LP920oM6qDWKXGmi38cisvBJtRhGJHqr6Z3mC9yLcVqlw2EpEpkTbVSwzZtnRFvZYd5fuJ4XENAQIwGCY/w==</div>\n",
       "                "
      ],
      "text/plain": [
       "<IPython.core.display.HTML object>"
      ]
     },
     "metadata": {},
     "output_type": "display_data"
    }
   ],
   "source": [
    "student.submit_task(globals(), task_id=\"task_02\");"
   ]
  },
  {
   "cell_type": "markdown",
   "metadata": {},
   "source": [
    "# Task 3: Fibonacci\n",
    "\n",
    "Complete the function below so that given an integer $n$ it computes the $n^{th}$ term of the Fibonacci series:\n",
    "\n",
    "$$ f_n = f_{n-1}+f_{n-2}$$ \n",
    "\n",
    "Where $$f_0=0 \\:\\:\\text{ y }\\:\\:f_1=1 $$ so that: $$f_2=1+0=1$$ $$f_3=1+1=2$$ $$f_4=2+1=3$$ and so on\n",
    "\n",
    "### Execution example \n",
    "```python\n",
    "\n",
    ">>> fibonacci(50)\n",
    "12586269025\n",
    "\n",
    ">>> fibonacci(63)\n",
    "6557470319842\n",
    "```"
   ]
  },
  {
   "cell_type": "code",
   "execution_count": 39,
   "metadata": {},
   "outputs": [],
   "source": [
    "def fibonacci(n):\n",
    "    f_1=1\n",
    "    f_2=1\n",
    "    suma=0\n",
    "    if n == 1: return (f_1)\n",
    "    if n == 2: return (f_2)\n",
    "    \n",
    "    for i in range(n - 2):\n",
    "        suma = f_1 + f_2\n",
    "        f_1 = f_2\n",
    "        f_2 = suma\n",
    "    \n",
    "    return suma"
   ]
  },
  {
   "cell_type": "markdown",
   "metadata": {},
   "source": [
    "**check manually your code**"
   ]
  },
  {
   "cell_type": "code",
   "execution_count": 40,
   "metadata": {},
   "outputs": [
    {
     "data": {
      "text/plain": [
       "(12586269025, 6557470319842)"
      ]
     },
     "execution_count": 40,
     "metadata": {},
     "output_type": "execute_result"
    }
   ],
   "source": [
    "fibonacci(50), fibonacci(63)"
   ]
  },
  {
   "cell_type": "markdown",
   "metadata": {},
   "source": [
    "**submit your code**"
   ]
  },
  {
   "cell_type": "code",
   "execution_count": 41,
   "metadata": {
    "scrolled": true
   },
   "outputs": [
    {
     "data": {
      "text/html": [
       "\n",
       "                <b>task_03 submitted.</b> <b><font color=\"blue\">your grade is 5</font></b> \n",
       "                <p/><pre>----- grader message -------</pre>testing with 100 random calls<br/><b>correct</b><pre>----------------------------</pre>\n",
       "                <p/><p/>\n",
       "                <div style=\"font-size:10px\"><b>SUBMISSION CODE</b> e3vYuVnqUHJSd6MCH5+B+1jy/Ti8QhRlk+MLJ+Oa0QCB7Nc5pjwBgKI+0u7QrBD/y3uqQrK/0tfFa7iutpWysVV5jxGJOwlIHmwXhOOW9AdpCGMqqmn44Nixb07aFtb4eafxAfMUSmIgrK+iQFAduw==</div>\n",
       "                "
      ],
      "text/plain": [
       "<IPython.core.display.HTML object>"
      ]
     },
     "metadata": {},
     "output_type": "display_data"
    }
   ],
   "source": [
    "student.submit_task(globals(), task_id=\"task_03\");"
   ]
  },
  {
   "cell_type": "markdown",
   "metadata": {},
   "source": [
    "# Task 4: Perfect number\n",
    "\n",
    "complete the following function so that it accepts an integer $n$ and returns `True` if $n$ is a perfect number and `False` otherwise.\n",
    "\n",
    "A perfect number is a positive integer that is equal to the sum of its positive divisors, excluding the number itself. For instance $6=3+2+1$ \n",
    "\n",
    "See https://en.wikipedia.org/wiki/Perfect_number\n",
    "\n",
    "**Execution example**\n",
    "```python\n",
    ">>> perfecto(6)\n",
    "True\n",
    "\n",
    ">>> perfecto(51)\n",
    "False\n",
    "\n",
    ">>> perfecto(496)\n",
    "True\n",
    "```\n",
    "**hint**: make a loop of all numbers up to $n$ and use the modulus operator `%` to identify which are the divisors, then sum them up.\n",
    "\n"
   ]
  },
  {
   "cell_type": "code",
   "execution_count": 32,
   "metadata": {},
   "outputs": [],
   "source": [
    "n = 12\n",
    "n%2, n%3, n%4, n%5, n%6, n%7, n%8"
   ]
  },
  {
   "cell_type": "code",
   "execution_count": 61,
   "metadata": {},
   "outputs": [],
   "source": [
    "def perfecto(n):\n",
    "    suma = 0\n",
    "    for i in range(1, (n // 2) + 1):\n",
    "        if n % i == 0: suma += i\n",
    "    return(n == suma)"
   ]
  },
  {
   "cell_type": "markdown",
   "metadata": {},
   "source": [
    "**check your answer**"
   ]
  },
  {
   "cell_type": "code",
   "execution_count": 62,
   "metadata": {},
   "outputs": [
    {
     "data": {
      "text/plain": [
       "(True, False, True)"
      ]
     },
     "execution_count": 62,
     "metadata": {},
     "output_type": "execute_result"
    }
   ],
   "source": [
    "perfecto(6), perfecto(51), perfecto(496)"
   ]
  },
  {
   "cell_type": "markdown",
   "metadata": {},
   "source": [
    "**submit your code**"
   ]
  },
  {
   "cell_type": "code",
   "execution_count": 63,
   "metadata": {
    "scrolled": true
   },
   "outputs": [
    {
     "data": {
      "text/html": [
       "\n",
       "                <b>task_04 submitted.</b> <b><font color=\"blue\">your grade is 5</font></b> \n",
       "                <p/><pre>----- grader message -------</pre>testing with 100 random calls<br/><b>correct</b><pre>----------------------------</pre>\n",
       "                <p/><p/>\n",
       "                <div style=\"font-size:10px\"><b>SUBMISSION CODE</b> 4zakQzcD++NLbHa/WDm3azi3ZxvwIgeBw6UR4aEYmTlCQdo0h0MQTtixIhGvL3H6tvBxmP+VxIBaAGoz19cIG1waduO5Mciz+Kpg1EjsA47idF9AAsYg9ydsazzyIQQ69TqKY0AFWWzCe5FDBNpUjg==</div>\n",
       "                "
      ],
      "text/plain": [
       "<IPython.core.display.HTML object>"
      ]
     },
     "metadata": {},
     "output_type": "display_data"
    }
   ],
   "source": [
    "student.submit_task(globals(), task_id=\"task_04\");"
   ]
  }
 ],
 "metadata": {
  "kernelspec": {
   "display_name": "Python 3",
   "language": "python",
   "name": "python3"
  },
  "language_info": {
   "codemirror_mode": {
    "name": "ipython",
    "version": 3
   },
   "file_extension": ".py",
   "mimetype": "text/x-python",
   "name": "python",
   "nbconvert_exporter": "python",
   "pygments_lexer": "ipython3",
   "version": "3.7.4"
  }
 },
 "nbformat": 4,
 "nbformat_minor": 2
}
